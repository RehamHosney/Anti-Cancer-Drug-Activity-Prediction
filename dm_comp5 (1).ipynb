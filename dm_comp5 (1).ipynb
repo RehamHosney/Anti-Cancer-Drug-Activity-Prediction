{
  "metadata": {
    "kernelspec": {
      "language": "python",
      "display_name": "Python 3",
      "name": "python3"
    },
    "language_info": {
      "name": "python",
      "version": "3.10.13",
      "mimetype": "text/x-python",
      "codemirror_mode": {
        "name": "ipython",
        "version": 3
      },
      "pygments_lexer": "ipython3",
      "nbconvert_exporter": "python",
      "file_extension": ".py"
    },
    "kaggle": {
      "accelerator": "none",
      "dataSources": [
        {
          "sourceId": 76991,
          "databundleVersionId": 8355047,
          "sourceType": "competition"
        }
      ],
      "dockerImageVersionId": 30698,
      "isInternetEnabled": true,
      "language": "python",
      "sourceType": "notebook",
      "isGpuEnabled": false
    },
    "colab": {
      "provenance": []
    },
    "widgets": {
      "application/vnd.jupyter.widget-state+json": {
        "d050c87d50524c929f03c732cf19316a": {
          "model_module": "@jupyter-widgets/controls",
          "model_name": "HBoxModel",
          "model_module_version": "1.5.0",
          "state": {
            "_dom_classes": [],
            "_model_module": "@jupyter-widgets/controls",
            "_model_module_version": "1.5.0",
            "_model_name": "HBoxModel",
            "_view_count": null,
            "_view_module": "@jupyter-widgets/controls",
            "_view_module_version": "1.5.0",
            "_view_name": "HBoxView",
            "box_style": "",
            "children": [
              "IPY_MODEL_0cd5809131e7433fb7d9b5fe57ad8357",
              "IPY_MODEL_690d12f397cb427789c9542cefcb792a",
              "IPY_MODEL_6dca3f9c538b44aa9a4982b897fd8046"
            ],
            "layout": "IPY_MODEL_83f82935df7b4d64bd78c53a32d520d1"
          }
        },
        "0cd5809131e7433fb7d9b5fe57ad8357": {
          "model_module": "@jupyter-widgets/controls",
          "model_name": "HTMLModel",
          "model_module_version": "1.5.0",
          "state": {
            "_dom_classes": [],
            "_model_module": "@jupyter-widgets/controls",
            "_model_module_version": "1.5.0",
            "_model_name": "HTMLModel",
            "_view_count": null,
            "_view_module": "@jupyter-widgets/controls",
            "_view_module_version": "1.5.0",
            "_view_name": "HTMLView",
            "description": "",
            "description_tooltip": null,
            "layout": "IPY_MODEL_5e32e21920e548d8845af48881c321f9",
            "placeholder": "​",
            "style": "IPY_MODEL_5b71898c20a6461f884350eb87bfdb23",
            "value": "100%"
          }
        },
        "690d12f397cb427789c9542cefcb792a": {
          "model_module": "@jupyter-widgets/controls",
          "model_name": "FloatProgressModel",
          "model_module_version": "1.5.0",
          "state": {
            "_dom_classes": [],
            "_model_module": "@jupyter-widgets/controls",
            "_model_module_version": "1.5.0",
            "_model_name": "FloatProgressModel",
            "_view_count": null,
            "_view_module": "@jupyter-widgets/controls",
            "_view_module_version": "1.5.0",
            "_view_name": "ProgressView",
            "bar_style": "success",
            "description": "",
            "description_tooltip": null,
            "layout": "IPY_MODEL_5d6897094dba46e78913ddfce44e6ce9",
            "max": 25024,
            "min": 0,
            "orientation": "horizontal",
            "style": "IPY_MODEL_5bd7af29b8d049f49a1f4e9cc55c6468",
            "value": 25024
          }
        },
        "6dca3f9c538b44aa9a4982b897fd8046": {
          "model_module": "@jupyter-widgets/controls",
          "model_name": "HTMLModel",
          "model_module_version": "1.5.0",
          "state": {
            "_dom_classes": [],
            "_model_module": "@jupyter-widgets/controls",
            "_model_module_version": "1.5.0",
            "_model_name": "HTMLModel",
            "_view_count": null,
            "_view_module": "@jupyter-widgets/controls",
            "_view_module_version": "1.5.0",
            "_view_name": "HTMLView",
            "description": "",
            "description_tooltip": null,
            "layout": "IPY_MODEL_fea311991e7e4922b2eff15aa6dc1ca3",
            "placeholder": "​",
            "style": "IPY_MODEL_e0f1ee379a7e4dc7a1c4bc05f47b8e91",
            "value": " 25024/25024 [00:03&lt;00:00, 8284.76it/s]"
          }
        },
        "83f82935df7b4d64bd78c53a32d520d1": {
          "model_module": "@jupyter-widgets/base",
          "model_name": "LayoutModel",
          "model_module_version": "1.2.0",
          "state": {
            "_model_module": "@jupyter-widgets/base",
            "_model_module_version": "1.2.0",
            "_model_name": "LayoutModel",
            "_view_count": null,
            "_view_module": "@jupyter-widgets/base",
            "_view_module_version": "1.2.0",
            "_view_name": "LayoutView",
            "align_content": null,
            "align_items": null,
            "align_self": null,
            "border": null,
            "bottom": null,
            "display": null,
            "flex": null,
            "flex_flow": null,
            "grid_area": null,
            "grid_auto_columns": null,
            "grid_auto_flow": null,
            "grid_auto_rows": null,
            "grid_column": null,
            "grid_gap": null,
            "grid_row": null,
            "grid_template_areas": null,
            "grid_template_columns": null,
            "grid_template_rows": null,
            "height": null,
            "justify_content": null,
            "justify_items": null,
            "left": null,
            "margin": null,
            "max_height": null,
            "max_width": null,
            "min_height": null,
            "min_width": null,
            "object_fit": null,
            "object_position": null,
            "order": null,
            "overflow": null,
            "overflow_x": null,
            "overflow_y": null,
            "padding": null,
            "right": null,
            "top": null,
            "visibility": null,
            "width": null
          }
        },
        "5e32e21920e548d8845af48881c321f9": {
          "model_module": "@jupyter-widgets/base",
          "model_name": "LayoutModel",
          "model_module_version": "1.2.0",
          "state": {
            "_model_module": "@jupyter-widgets/base",
            "_model_module_version": "1.2.0",
            "_model_name": "LayoutModel",
            "_view_count": null,
            "_view_module": "@jupyter-widgets/base",
            "_view_module_version": "1.2.0",
            "_view_name": "LayoutView",
            "align_content": null,
            "align_items": null,
            "align_self": null,
            "border": null,
            "bottom": null,
            "display": null,
            "flex": null,
            "flex_flow": null,
            "grid_area": null,
            "grid_auto_columns": null,
            "grid_auto_flow": null,
            "grid_auto_rows": null,
            "grid_column": null,
            "grid_gap": null,
            "grid_row": null,
            "grid_template_areas": null,
            "grid_template_columns": null,
            "grid_template_rows": null,
            "height": null,
            "justify_content": null,
            "justify_items": null,
            "left": null,
            "margin": null,
            "max_height": null,
            "max_width": null,
            "min_height": null,
            "min_width": null,
            "object_fit": null,
            "object_position": null,
            "order": null,
            "overflow": null,
            "overflow_x": null,
            "overflow_y": null,
            "padding": null,
            "right": null,
            "top": null,
            "visibility": null,
            "width": null
          }
        },
        "5b71898c20a6461f884350eb87bfdb23": {
          "model_module": "@jupyter-widgets/controls",
          "model_name": "DescriptionStyleModel",
          "model_module_version": "1.5.0",
          "state": {
            "_model_module": "@jupyter-widgets/controls",
            "_model_module_version": "1.5.0",
            "_model_name": "DescriptionStyleModel",
            "_view_count": null,
            "_view_module": "@jupyter-widgets/base",
            "_view_module_version": "1.2.0",
            "_view_name": "StyleView",
            "description_width": ""
          }
        },
        "5d6897094dba46e78913ddfce44e6ce9": {
          "model_module": "@jupyter-widgets/base",
          "model_name": "LayoutModel",
          "model_module_version": "1.2.0",
          "state": {
            "_model_module": "@jupyter-widgets/base",
            "_model_module_version": "1.2.0",
            "_model_name": "LayoutModel",
            "_view_count": null,
            "_view_module": "@jupyter-widgets/base",
            "_view_module_version": "1.2.0",
            "_view_name": "LayoutView",
            "align_content": null,
            "align_items": null,
            "align_self": null,
            "border": null,
            "bottom": null,
            "display": null,
            "flex": null,
            "flex_flow": null,
            "grid_area": null,
            "grid_auto_columns": null,
            "grid_auto_flow": null,
            "grid_auto_rows": null,
            "grid_column": null,
            "grid_gap": null,
            "grid_row": null,
            "grid_template_areas": null,
            "grid_template_columns": null,
            "grid_template_rows": null,
            "height": null,
            "justify_content": null,
            "justify_items": null,
            "left": null,
            "margin": null,
            "max_height": null,
            "max_width": null,
            "min_height": null,
            "min_width": null,
            "object_fit": null,
            "object_position": null,
            "order": null,
            "overflow": null,
            "overflow_x": null,
            "overflow_y": null,
            "padding": null,
            "right": null,
            "top": null,
            "visibility": null,
            "width": null
          }
        },
        "5bd7af29b8d049f49a1f4e9cc55c6468": {
          "model_module": "@jupyter-widgets/controls",
          "model_name": "ProgressStyleModel",
          "model_module_version": "1.5.0",
          "state": {
            "_model_module": "@jupyter-widgets/controls",
            "_model_module_version": "1.5.0",
            "_model_name": "ProgressStyleModel",
            "_view_count": null,
            "_view_module": "@jupyter-widgets/base",
            "_view_module_version": "1.2.0",
            "_view_name": "StyleView",
            "bar_color": null,
            "description_width": ""
          }
        },
        "fea311991e7e4922b2eff15aa6dc1ca3": {
          "model_module": "@jupyter-widgets/base",
          "model_name": "LayoutModel",
          "model_module_version": "1.2.0",
          "state": {
            "_model_module": "@jupyter-widgets/base",
            "_model_module_version": "1.2.0",
            "_model_name": "LayoutModel",
            "_view_count": null,
            "_view_module": "@jupyter-widgets/base",
            "_view_module_version": "1.2.0",
            "_view_name": "LayoutView",
            "align_content": null,
            "align_items": null,
            "align_self": null,
            "border": null,
            "bottom": null,
            "display": null,
            "flex": null,
            "flex_flow": null,
            "grid_area": null,
            "grid_auto_columns": null,
            "grid_auto_flow": null,
            "grid_auto_rows": null,
            "grid_column": null,
            "grid_gap": null,
            "grid_row": null,
            "grid_template_areas": null,
            "grid_template_columns": null,
            "grid_template_rows": null,
            "height": null,
            "justify_content": null,
            "justify_items": null,
            "left": null,
            "margin": null,
            "max_height": null,
            "max_width": null,
            "min_height": null,
            "min_width": null,
            "object_fit": null,
            "object_position": null,
            "order": null,
            "overflow": null,
            "overflow_x": null,
            "overflow_y": null,
            "padding": null,
            "right": null,
            "top": null,
            "visibility": null,
            "width": null
          }
        },
        "e0f1ee379a7e4dc7a1c4bc05f47b8e91": {
          "model_module": "@jupyter-widgets/controls",
          "model_name": "DescriptionStyleModel",
          "model_module_version": "1.5.0",
          "state": {
            "_model_module": "@jupyter-widgets/controls",
            "_model_module_version": "1.5.0",
            "_model_name": "DescriptionStyleModel",
            "_view_count": null,
            "_view_module": "@jupyter-widgets/base",
            "_view_module_version": "1.2.0",
            "_view_name": "StyleView",
            "description_width": ""
          }
        },
        "edcb2bd1379f43aeb544e78c3d7a8598": {
          "model_module": "@jupyter-widgets/controls",
          "model_name": "HBoxModel",
          "model_module_version": "1.5.0",
          "state": {
            "_dom_classes": [],
            "_model_module": "@jupyter-widgets/controls",
            "_model_module_version": "1.5.0",
            "_model_name": "HBoxModel",
            "_view_count": null,
            "_view_module": "@jupyter-widgets/controls",
            "_view_module_version": "1.5.0",
            "_view_name": "HBoxView",
            "box_style": "",
            "children": [
              "IPY_MODEL_dc81c453a7ca4c829e730ac0de13b54e",
              "IPY_MODEL_08f1fcacc7064405939ed31e92129e08",
              "IPY_MODEL_b0b27af71d904e8884be033ba759a0a9"
            ],
            "layout": "IPY_MODEL_3e18c0b50c424b97a34fce505972e866"
          }
        },
        "dc81c453a7ca4c829e730ac0de13b54e": {
          "model_module": "@jupyter-widgets/controls",
          "model_name": "HTMLModel",
          "model_module_version": "1.5.0",
          "state": {
            "_dom_classes": [],
            "_model_module": "@jupyter-widgets/controls",
            "_model_module_version": "1.5.0",
            "_model_name": "HTMLModel",
            "_view_count": null,
            "_view_module": "@jupyter-widgets/controls",
            "_view_module_version": "1.5.0",
            "_view_name": "HTMLView",
            "description": "",
            "description_tooltip": null,
            "layout": "IPY_MODEL_de8c712519f341c7aa12e713c9aa04a6",
            "placeholder": "​",
            "style": "IPY_MODEL_159dd4dfb2ee4705b932d75468c4cc0f",
            "value": "100%"
          }
        },
        "08f1fcacc7064405939ed31e92129e08": {
          "model_module": "@jupyter-widgets/controls",
          "model_name": "FloatProgressModel",
          "model_module_version": "1.5.0",
          "state": {
            "_dom_classes": [],
            "_model_module": "@jupyter-widgets/controls",
            "_model_module_version": "1.5.0",
            "_model_name": "FloatProgressModel",
            "_view_count": null,
            "_view_module": "@jupyter-widgets/controls",
            "_view_module_version": "1.5.0",
            "_view_name": "ProgressView",
            "bar_style": "success",
            "description": "",
            "description_tooltip": null,
            "layout": "IPY_MODEL_9874c467c7c3490a94028e8296891676",
            "max": 12326,
            "min": 0,
            "orientation": "horizontal",
            "style": "IPY_MODEL_145a7a3a3dc44d58b2e9adf6fc08895b",
            "value": 12326
          }
        },
        "b0b27af71d904e8884be033ba759a0a9": {
          "model_module": "@jupyter-widgets/controls",
          "model_name": "HTMLModel",
          "model_module_version": "1.5.0",
          "state": {
            "_dom_classes": [],
            "_model_module": "@jupyter-widgets/controls",
            "_model_module_version": "1.5.0",
            "_model_name": "HTMLModel",
            "_view_count": null,
            "_view_module": "@jupyter-widgets/controls",
            "_view_module_version": "1.5.0",
            "_view_name": "HTMLView",
            "description": "",
            "description_tooltip": null,
            "layout": "IPY_MODEL_6e172e5352eb447bb4c75c856b3aee2a",
            "placeholder": "​",
            "style": "IPY_MODEL_79c46deacdc6412faf216de2ca806478",
            "value": " 12326/12326 [00:01&lt;00:00, 11801.87it/s]"
          }
        },
        "3e18c0b50c424b97a34fce505972e866": {
          "model_module": "@jupyter-widgets/base",
          "model_name": "LayoutModel",
          "model_module_version": "1.2.0",
          "state": {
            "_model_module": "@jupyter-widgets/base",
            "_model_module_version": "1.2.0",
            "_model_name": "LayoutModel",
            "_view_count": null,
            "_view_module": "@jupyter-widgets/base",
            "_view_module_version": "1.2.0",
            "_view_name": "LayoutView",
            "align_content": null,
            "align_items": null,
            "align_self": null,
            "border": null,
            "bottom": null,
            "display": null,
            "flex": null,
            "flex_flow": null,
            "grid_area": null,
            "grid_auto_columns": null,
            "grid_auto_flow": null,
            "grid_auto_rows": null,
            "grid_column": null,
            "grid_gap": null,
            "grid_row": null,
            "grid_template_areas": null,
            "grid_template_columns": null,
            "grid_template_rows": null,
            "height": null,
            "justify_content": null,
            "justify_items": null,
            "left": null,
            "margin": null,
            "max_height": null,
            "max_width": null,
            "min_height": null,
            "min_width": null,
            "object_fit": null,
            "object_position": null,
            "order": null,
            "overflow": null,
            "overflow_x": null,
            "overflow_y": null,
            "padding": null,
            "right": null,
            "top": null,
            "visibility": null,
            "width": null
          }
        },
        "de8c712519f341c7aa12e713c9aa04a6": {
          "model_module": "@jupyter-widgets/base",
          "model_name": "LayoutModel",
          "model_module_version": "1.2.0",
          "state": {
            "_model_module": "@jupyter-widgets/base",
            "_model_module_version": "1.2.0",
            "_model_name": "LayoutModel",
            "_view_count": null,
            "_view_module": "@jupyter-widgets/base",
            "_view_module_version": "1.2.0",
            "_view_name": "LayoutView",
            "align_content": null,
            "align_items": null,
            "align_self": null,
            "border": null,
            "bottom": null,
            "display": null,
            "flex": null,
            "flex_flow": null,
            "grid_area": null,
            "grid_auto_columns": null,
            "grid_auto_flow": null,
            "grid_auto_rows": null,
            "grid_column": null,
            "grid_gap": null,
            "grid_row": null,
            "grid_template_areas": null,
            "grid_template_columns": null,
            "grid_template_rows": null,
            "height": null,
            "justify_content": null,
            "justify_items": null,
            "left": null,
            "margin": null,
            "max_height": null,
            "max_width": null,
            "min_height": null,
            "min_width": null,
            "object_fit": null,
            "object_position": null,
            "order": null,
            "overflow": null,
            "overflow_x": null,
            "overflow_y": null,
            "padding": null,
            "right": null,
            "top": null,
            "visibility": null,
            "width": null
          }
        },
        "159dd4dfb2ee4705b932d75468c4cc0f": {
          "model_module": "@jupyter-widgets/controls",
          "model_name": "DescriptionStyleModel",
          "model_module_version": "1.5.0",
          "state": {
            "_model_module": "@jupyter-widgets/controls",
            "_model_module_version": "1.5.0",
            "_model_name": "DescriptionStyleModel",
            "_view_count": null,
            "_view_module": "@jupyter-widgets/base",
            "_view_module_version": "1.2.0",
            "_view_name": "StyleView",
            "description_width": ""
          }
        },
        "9874c467c7c3490a94028e8296891676": {
          "model_module": "@jupyter-widgets/base",
          "model_name": "LayoutModel",
          "model_module_version": "1.2.0",
          "state": {
            "_model_module": "@jupyter-widgets/base",
            "_model_module_version": "1.2.0",
            "_model_name": "LayoutModel",
            "_view_count": null,
            "_view_module": "@jupyter-widgets/base",
            "_view_module_version": "1.2.0",
            "_view_name": "LayoutView",
            "align_content": null,
            "align_items": null,
            "align_self": null,
            "border": null,
            "bottom": null,
            "display": null,
            "flex": null,
            "flex_flow": null,
            "grid_area": null,
            "grid_auto_columns": null,
            "grid_auto_flow": null,
            "grid_auto_rows": null,
            "grid_column": null,
            "grid_gap": null,
            "grid_row": null,
            "grid_template_areas": null,
            "grid_template_columns": null,
            "grid_template_rows": null,
            "height": null,
            "justify_content": null,
            "justify_items": null,
            "left": null,
            "margin": null,
            "max_height": null,
            "max_width": null,
            "min_height": null,
            "min_width": null,
            "object_fit": null,
            "object_position": null,
            "order": null,
            "overflow": null,
            "overflow_x": null,
            "overflow_y": null,
            "padding": null,
            "right": null,
            "top": null,
            "visibility": null,
            "width": null
          }
        },
        "145a7a3a3dc44d58b2e9adf6fc08895b": {
          "model_module": "@jupyter-widgets/controls",
          "model_name": "ProgressStyleModel",
          "model_module_version": "1.5.0",
          "state": {
            "_model_module": "@jupyter-widgets/controls",
            "_model_module_version": "1.5.0",
            "_model_name": "ProgressStyleModel",
            "_view_count": null,
            "_view_module": "@jupyter-widgets/base",
            "_view_module_version": "1.2.0",
            "_view_name": "StyleView",
            "bar_color": null,
            "description_width": ""
          }
        },
        "6e172e5352eb447bb4c75c856b3aee2a": {
          "model_module": "@jupyter-widgets/base",
          "model_name": "LayoutModel",
          "model_module_version": "1.2.0",
          "state": {
            "_model_module": "@jupyter-widgets/base",
            "_model_module_version": "1.2.0",
            "_model_name": "LayoutModel",
            "_view_count": null,
            "_view_module": "@jupyter-widgets/base",
            "_view_module_version": "1.2.0",
            "_view_name": "LayoutView",
            "align_content": null,
            "align_items": null,
            "align_self": null,
            "border": null,
            "bottom": null,
            "display": null,
            "flex": null,
            "flex_flow": null,
            "grid_area": null,
            "grid_auto_columns": null,
            "grid_auto_flow": null,
            "grid_auto_rows": null,
            "grid_column": null,
            "grid_gap": null,
            "grid_row": null,
            "grid_template_areas": null,
            "grid_template_columns": null,
            "grid_template_rows": null,
            "height": null,
            "justify_content": null,
            "justify_items": null,
            "left": null,
            "margin": null,
            "max_height": null,
            "max_width": null,
            "min_height": null,
            "min_width": null,
            "object_fit": null,
            "object_position": null,
            "order": null,
            "overflow": null,
            "overflow_x": null,
            "overflow_y": null,
            "padding": null,
            "right": null,
            "top": null,
            "visibility": null,
            "width": null
          }
        },
        "79c46deacdc6412faf216de2ca806478": {
          "model_module": "@jupyter-widgets/controls",
          "model_name": "DescriptionStyleModel",
          "model_module_version": "1.5.0",
          "state": {
            "_model_module": "@jupyter-widgets/controls",
            "_model_module_version": "1.5.0",
            "_model_name": "DescriptionStyleModel",
            "_view_count": null,
            "_view_module": "@jupyter-widgets/base",
            "_view_module_version": "1.2.0",
            "_view_name": "StyleView",
            "description_width": ""
          }
        },
        "2ee8148501a2431e8a8fb972b7c372c6": {
          "model_module": "@jupyter-widgets/controls",
          "model_name": "HBoxModel",
          "model_module_version": "1.5.0",
          "state": {
            "_dom_classes": [],
            "_model_module": "@jupyter-widgets/controls",
            "_model_module_version": "1.5.0",
            "_model_name": "HBoxModel",
            "_view_count": null,
            "_view_module": "@jupyter-widgets/controls",
            "_view_module_version": "1.5.0",
            "_view_name": "HBoxView",
            "box_style": "",
            "children": [
              "IPY_MODEL_c720ac044e9f499eba07bd69daceeb3f",
              "IPY_MODEL_99e5e63fccff401ea58c64bb6914770a",
              "IPY_MODEL_460aa0427a61485291c002d3ea0f0c6d"
            ],
            "layout": "IPY_MODEL_7bb44906e3774e9ba9d753a2662e6468"
          }
        },
        "c720ac044e9f499eba07bd69daceeb3f": {
          "model_module": "@jupyter-widgets/controls",
          "model_name": "HTMLModel",
          "model_module_version": "1.5.0",
          "state": {
            "_dom_classes": [],
            "_model_module": "@jupyter-widgets/controls",
            "_model_module_version": "1.5.0",
            "_model_name": "HTMLModel",
            "_view_count": null,
            "_view_module": "@jupyter-widgets/controls",
            "_view_module_version": "1.5.0",
            "_view_name": "HTMLView",
            "description": "",
            "description_tooltip": null,
            "layout": "IPY_MODEL_83e6bd9550c5494cbdd07462286870cb",
            "placeholder": "​",
            "style": "IPY_MODEL_ea4b9fa8595e43fda721d37ef4bfb391",
            "value": "100%"
          }
        },
        "99e5e63fccff401ea58c64bb6914770a": {
          "model_module": "@jupyter-widgets/controls",
          "model_name": "FloatProgressModel",
          "model_module_version": "1.5.0",
          "state": {
            "_dom_classes": [],
            "_model_module": "@jupyter-widgets/controls",
            "_model_module_version": "1.5.0",
            "_model_name": "FloatProgressModel",
            "_view_count": null,
            "_view_module": "@jupyter-widgets/controls",
            "_view_module_version": "1.5.0",
            "_view_name": "ProgressView",
            "bar_style": "success",
            "description": "",
            "description_tooltip": null,
            "layout": "IPY_MODEL_0f1ae1036bd94c1abba782a3e5dc1812",
            "max": 25024,
            "min": 0,
            "orientation": "horizontal",
            "style": "IPY_MODEL_c4281716923d49778ad558af35d67199",
            "value": 25024
          }
        },
        "460aa0427a61485291c002d3ea0f0c6d": {
          "model_module": "@jupyter-widgets/controls",
          "model_name": "HTMLModel",
          "model_module_version": "1.5.0",
          "state": {
            "_dom_classes": [],
            "_model_module": "@jupyter-widgets/controls",
            "_model_module_version": "1.5.0",
            "_model_name": "HTMLModel",
            "_view_count": null,
            "_view_module": "@jupyter-widgets/controls",
            "_view_module_version": "1.5.0",
            "_view_name": "HTMLView",
            "description": "",
            "description_tooltip": null,
            "layout": "IPY_MODEL_79e195f53b7044d6a3d3a486c7738023",
            "placeholder": "​",
            "style": "IPY_MODEL_01ca06c26f4645c09a093ee833d18270",
            "value": " 25024/25024 [00:02&lt;00:00, 7747.71it/s]"
          }
        },
        "7bb44906e3774e9ba9d753a2662e6468": {
          "model_module": "@jupyter-widgets/base",
          "model_name": "LayoutModel",
          "model_module_version": "1.2.0",
          "state": {
            "_model_module": "@jupyter-widgets/base",
            "_model_module_version": "1.2.0",
            "_model_name": "LayoutModel",
            "_view_count": null,
            "_view_module": "@jupyter-widgets/base",
            "_view_module_version": "1.2.0",
            "_view_name": "LayoutView",
            "align_content": null,
            "align_items": null,
            "align_self": null,
            "border": null,
            "bottom": null,
            "display": null,
            "flex": null,
            "flex_flow": null,
            "grid_area": null,
            "grid_auto_columns": null,
            "grid_auto_flow": null,
            "grid_auto_rows": null,
            "grid_column": null,
            "grid_gap": null,
            "grid_row": null,
            "grid_template_areas": null,
            "grid_template_columns": null,
            "grid_template_rows": null,
            "height": null,
            "justify_content": null,
            "justify_items": null,
            "left": null,
            "margin": null,
            "max_height": null,
            "max_width": null,
            "min_height": null,
            "min_width": null,
            "object_fit": null,
            "object_position": null,
            "order": null,
            "overflow": null,
            "overflow_x": null,
            "overflow_y": null,
            "padding": null,
            "right": null,
            "top": null,
            "visibility": null,
            "width": null
          }
        },
        "83e6bd9550c5494cbdd07462286870cb": {
          "model_module": "@jupyter-widgets/base",
          "model_name": "LayoutModel",
          "model_module_version": "1.2.0",
          "state": {
            "_model_module": "@jupyter-widgets/base",
            "_model_module_version": "1.2.0",
            "_model_name": "LayoutModel",
            "_view_count": null,
            "_view_module": "@jupyter-widgets/base",
            "_view_module_version": "1.2.0",
            "_view_name": "LayoutView",
            "align_content": null,
            "align_items": null,
            "align_self": null,
            "border": null,
            "bottom": null,
            "display": null,
            "flex": null,
            "flex_flow": null,
            "grid_area": null,
            "grid_auto_columns": null,
            "grid_auto_flow": null,
            "grid_auto_rows": null,
            "grid_column": null,
            "grid_gap": null,
            "grid_row": null,
            "grid_template_areas": null,
            "grid_template_columns": null,
            "grid_template_rows": null,
            "height": null,
            "justify_content": null,
            "justify_items": null,
            "left": null,
            "margin": null,
            "max_height": null,
            "max_width": null,
            "min_height": null,
            "min_width": null,
            "object_fit": null,
            "object_position": null,
            "order": null,
            "overflow": null,
            "overflow_x": null,
            "overflow_y": null,
            "padding": null,
            "right": null,
            "top": null,
            "visibility": null,
            "width": null
          }
        },
        "ea4b9fa8595e43fda721d37ef4bfb391": {
          "model_module": "@jupyter-widgets/controls",
          "model_name": "DescriptionStyleModel",
          "model_module_version": "1.5.0",
          "state": {
            "_model_module": "@jupyter-widgets/controls",
            "_model_module_version": "1.5.0",
            "_model_name": "DescriptionStyleModel",
            "_view_count": null,
            "_view_module": "@jupyter-widgets/base",
            "_view_module_version": "1.2.0",
            "_view_name": "StyleView",
            "description_width": ""
          }
        },
        "0f1ae1036bd94c1abba782a3e5dc1812": {
          "model_module": "@jupyter-widgets/base",
          "model_name": "LayoutModel",
          "model_module_version": "1.2.0",
          "state": {
            "_model_module": "@jupyter-widgets/base",
            "_model_module_version": "1.2.0",
            "_model_name": "LayoutModel",
            "_view_count": null,
            "_view_module": "@jupyter-widgets/base",
            "_view_module_version": "1.2.0",
            "_view_name": "LayoutView",
            "align_content": null,
            "align_items": null,
            "align_self": null,
            "border": null,
            "bottom": null,
            "display": null,
            "flex": null,
            "flex_flow": null,
            "grid_area": null,
            "grid_auto_columns": null,
            "grid_auto_flow": null,
            "grid_auto_rows": null,
            "grid_column": null,
            "grid_gap": null,
            "grid_row": null,
            "grid_template_areas": null,
            "grid_template_columns": null,
            "grid_template_rows": null,
            "height": null,
            "justify_content": null,
            "justify_items": null,
            "left": null,
            "margin": null,
            "max_height": null,
            "max_width": null,
            "min_height": null,
            "min_width": null,
            "object_fit": null,
            "object_position": null,
            "order": null,
            "overflow": null,
            "overflow_x": null,
            "overflow_y": null,
            "padding": null,
            "right": null,
            "top": null,
            "visibility": null,
            "width": null
          }
        },
        "c4281716923d49778ad558af35d67199": {
          "model_module": "@jupyter-widgets/controls",
          "model_name": "ProgressStyleModel",
          "model_module_version": "1.5.0",
          "state": {
            "_model_module": "@jupyter-widgets/controls",
            "_model_module_version": "1.5.0",
            "_model_name": "ProgressStyleModel",
            "_view_count": null,
            "_view_module": "@jupyter-widgets/base",
            "_view_module_version": "1.2.0",
            "_view_name": "StyleView",
            "bar_color": null,
            "description_width": ""
          }
        },
        "79e195f53b7044d6a3d3a486c7738023": {
          "model_module": "@jupyter-widgets/base",
          "model_name": "LayoutModel",
          "model_module_version": "1.2.0",
          "state": {
            "_model_module": "@jupyter-widgets/base",
            "_model_module_version": "1.2.0",
            "_model_name": "LayoutModel",
            "_view_count": null,
            "_view_module": "@jupyter-widgets/base",
            "_view_module_version": "1.2.0",
            "_view_name": "LayoutView",
            "align_content": null,
            "align_items": null,
            "align_self": null,
            "border": null,
            "bottom": null,
            "display": null,
            "flex": null,
            "flex_flow": null,
            "grid_area": null,
            "grid_auto_columns": null,
            "grid_auto_flow": null,
            "grid_auto_rows": null,
            "grid_column": null,
            "grid_gap": null,
            "grid_row": null,
            "grid_template_areas": null,
            "grid_template_columns": null,
            "grid_template_rows": null,
            "height": null,
            "justify_content": null,
            "justify_items": null,
            "left": null,
            "margin": null,
            "max_height": null,
            "max_width": null,
            "min_height": null,
            "min_width": null,
            "object_fit": null,
            "object_position": null,
            "order": null,
            "overflow": null,
            "overflow_x": null,
            "overflow_y": null,
            "padding": null,
            "right": null,
            "top": null,
            "visibility": null,
            "width": null
          }
        },
        "01ca06c26f4645c09a093ee833d18270": {
          "model_module": "@jupyter-widgets/controls",
          "model_name": "DescriptionStyleModel",
          "model_module_version": "1.5.0",
          "state": {
            "_model_module": "@jupyter-widgets/controls",
            "_model_module_version": "1.5.0",
            "_model_name": "DescriptionStyleModel",
            "_view_count": null,
            "_view_module": "@jupyter-widgets/base",
            "_view_module_version": "1.2.0",
            "_view_name": "StyleView",
            "description_width": ""
          }
        }
      }
    }
  },
  "nbformat_minor": 0,
  "nbformat": 4,
  "cells": [
    {
      "cell_type": "code",
      "source": [
        "# This Python 3 environment comes with many helpful analytics libraries installed\n",
        "# It is defined by the kaggle/python Docker image: https://github.com/kaggle/docker-python\n",
        "# For example, here's several helpful packages to load\n",
        "\n",
        "import numpy as np # linear algebra\n",
        "import pandas as pd # data processing, CSV file I/O (e.g. pd.read_csv)\n",
        "\n",
        "# Input data files are available in the read-only \"../input/\" directory\n",
        "# For example, running this (by clicking run or pressing Shift+Enter) will list all files under the input directory\n",
        "\n",
        "#import os\n",
        "#for dirname, _, filenames in os.walk('/kaggle/input'):\n",
        "    #for filename in filenames:\n",
        "       # print(os.path.join(dirname, filename))\n",
        "\n",
        "# You can write up to 20GB to the current directory (/kaggle/working/) that gets preserved as output when you create a version using \"Save & Run All\"\n",
        "# You can also write temporary files to /kaggle/temp/, but they won't be saved outside of the current session"
      ],
      "metadata": {
        "_uuid": "8f2839f25d086af736a60e9eeb907d3b93b6e0e5",
        "_cell_guid": "b1076dfc-b9ad-4769-8c92-a6c4dae69d19",
        "execution": {
          "iopub.status.busy": "2024-05-05T00:01:58.639950Z",
          "iopub.execute_input": "2024-05-05T00:01:58.640334Z",
          "iopub.status.idle": "2024-05-05T00:01:58.971000Z",
          "shell.execute_reply.started": "2024-05-05T00:01:58.640308Z",
          "shell.execute_reply": "2024-05-05T00:01:58.969894Z"
        },
        "trusted": true,
        "id": "eb8tzT8OEfQ1"
      },
      "execution_count": 49,
      "outputs": []
    },
    {
      "cell_type": "markdown",
      "source": [
        "#**Problem Formulation**\n",
        "\n",
        "**Define the problem** * Based on the graph data, the challenge is a binary classification.\n",
        "\n",
        "* The assignment is to use the chemical structure of a drug to forecast its anticancer efficacy.\n",
        "\n",
        "* The chemical compound is assigned a label of 0 or 1 depending on whether it is positive or negative against lung cancer cells.\n",
        "\n",
        "\n",
        "**Define the data input**\n",
        "\n",
        "* Nodes: Each one has tokenized chemical compound atoms within it.\n",
        "\n",
        "* Edges: How one node relates to other nodes.\n",
        "\n",
        "* Node2graph: The segmented ids information contained in the input tensor used for the segmented mean.\n",
        "\n",
        "\n",
        "**Define the output data**\n",
        "\n",
        "* If the compound is positive or otherwise negative for non-small cell lung cancer, the probability is compound-related.\n",
        "\n",
        "\n",
        "**What data mining function is required?**\n",
        "\n",
        "Data Tokenizer.\n",
        "\n",
        "Data Padding.\n",
        "\n",
        "Reshape.\n",
        "\n",
        "Data resample.\n",
        "\n",
        "Data Concat.\n",
        "\n",
        "Embedding and Dense layers.\n",
        "\n",
        "\n",
        "**What could be the challenges?**\n",
        "\n",
        "* The data needs to be tokenized and padded because it contains characters.\n",
        "\n",
        "* The positive class is overly tiny, and the statistics are likewise unbalanced. To get a good match, this data needs to be resampled.\n",
        "\n",
        "\n",
        "**What is the impact?**\n",
        "\n",
        "Determine whether a substance is positive for non-small cell lung cancer and predict anticancer activity.\n",
        "\n",
        "\n",
        "**What is an ideal solution?**\n",
        "\n",
        " using \"message_calculation_class\" ='GNN_FiLM'with Balanced Data\n"
      ],
      "metadata": {
        "id": "Oa1vTO-s6eNy"
      }
    },
    {
      "cell_type": "markdown",
      "source": [
        "## Questions\n",
        "\n",
        "#### 🌈 **Based on the provided template, describe the format of the input file (sdf file).**\n",
        "\n",
        "A file format that holds details about a molecule's chemical makeup is called a structure data file (SDF). This file format contains information on the locations of individual atoms within a chemical compound as well as the relationships that exist between them. The delimiter (four dollar signs) divides the several molecules in the file.\n",
        "\n",
        "A header with the compound's name or title appears at the beginning of every molecule. Details about the number of atoms, the version number, and connections are included in other sections of the file. While the Bond block explains the bonding structure, the Atom block gives information about the constituent elements of the molecule.\n",
        "<br><br>\n",
        "\n",
        "#### 🌈 **What are the input tensors to the neural network model (their meaning, not just symbol)? What is each of their dims and their meaning (e.g. batch_size)?**\n",
        "\n",
        "In this network, the input tensors are:\n",
        "\n",
        "1. **Data:** The tokenized nodes of the chemical compound are contained in this tensor, which has been padded using the pad_sequence technique. Each batch's data is organized as [batch_size*max_len_nodes], where max_len_nodes is the length of tokenized nodes following padding, and batch_size is the number of samples in the batch.\n",
        "\n",
        "2. **edge:** Information regarding the bonds between the atoms in the chemical molecule is carried by this tensor. An edge has the form [sum_of_all_edges,2], where sum_of_all_edges is the total number of edges in all batch samples.\n",
        "\n",
        "3. **node2graph:** This tensor is used for segmented mean and provides data about segmented ids. Every batch's node2graph has the following shape: [batch_size*max_len_nodes], where max_len_nodes is the length of tokenized nodes following padding, and batch_size is the number of samples in the batch.\n",
        "<br><br>\n",
        "\n",
        "#### 🌈 **For each dim of gnn_out, what does it symbolize? For each dim of avg, what does it symbolize?**\n",
        "\n",
        "The output of the graph neural network following aggregation for every hidden layer is stored in the gnn_out tensor. It represents the combined output of the model and is shaped by the number of hidden layers and the dimension of the input data (node) vector.\n",
        "\n",
        "By obtaining the segmented mean of the gnn_out tensor based on the segmented ids, one can obtain the average tensor. This procedure produces a tensor of shape [batch_size, hidden_layer] by essentially calculating the mean value of the gnn_out tensor for each sample in the batch. Through this procedure, the model is able to gather and compress the pertinent data for every sample.\n",
        "<br><br>\n",
        "\n",
        "#### 🌈 **What is the difference between segment_mean and tf.reduce_mean? For each dim of pred, what does it symbolize?**\n",
        "\n",
        "tf.reduce_mean and segment_mean are two TensorFlow functions used for computing the mean of a tensor.\n",
        "\n",
        "* **tf.reduce_mean** calculates the mean over all dimensions of the tensor.\n",
        "* **segment_mean** calculates the mean based on segments defined by a segmentation tensor.\n",
        "\n",
        "\n",
        "The model's final output, the **pred tensor**, tells us how likely it is that a certain chemical compound will be effective against cancer cells. Its shape is [batch_size, 1], which means that the pred tensor generates a single value representing the likelihood of the compound's action against cancer cells for every sample in the batch.\n",
        "\n",
        "Put otherwise, the pred tensor offers an indicator of how likely it is that a specific chemical will be useful in the fight against cancer. This data can be used to direct the development of novel medicines or to select interesting candidates for additional testing.\n",
        "<br><br>\n",
        "\n",
        "#### 🌈 **What is the motivation/theory/idea to use multiple gcn layers comparing to just one? How many layers were used in the template?**\n",
        "\n",
        "The description states that the standard template for the GCN (graph convolutional network) implementation employs four layers. Relational graph convolution, or rgcn, is the default message passing technique in this implementation. It helps to take into account the complexity of the graph structure and enhances the performance of the model.\n",
        "\n",
        "The model's performance can be further improved by using additional GCN layers, which allow the graph to contain more intricate interactions. **Five** distinct GCN mechanisms (RGAT, GGNN, gnn_edge_mlp, RGCN, and RGIN) were employed in this template."
      ],
      "metadata": {
        "id": "wxkDC7Pa45_V"
      }
    },
    {
      "cell_type": "code",
      "source": [
        "import math\n",
        "import random\n",
        "import networkx as nx\n",
        "import tensorflow as tf\n",
        "from matplotlib import cm\n",
        "from tensorflow import keras\n",
        "from tqdm.notebook import tqdm\n",
        "import matplotlib.pyplot as plt\n",
        "from sklearn.utils import resample\n",
        "from pandas.core.frame import DataFrame\n",
        "from tensorflow.math import segment_mean\n",
        "from tensorflow.keras import Input, Model\n",
        "from tensorflow.keras.optimizers import Adam\n",
        "from sklearn.model_selection import train_test_split\n",
        "from tensorflow.keras.layers import Embedding, Dense\n",
        "from tensorflow.keras.preprocessing.text import Tokenizer\n",
        "from tensorflow.python.ops.gen_math_ops import segment_max\n",
        "from tensorflow.keras.preprocessing.sequence import pad_sequences\n",
        "from tensorflow.keras.callbacks import ModelCheckpoint, EarlyStopping\n",
        "import seaborn as sns\n",
        "\n",
        "import warnings\n",
        "warnings.filterwarnings('ignore')\n",
        "import numpy as np"
      ],
      "metadata": {
        "execution": {
          "iopub.status.busy": "2024-05-05T00:02:04.058562Z",
          "iopub.execute_input": "2024-05-05T00:02:04.058977Z",
          "iopub.status.idle": "2024-05-05T00:02:15.590833Z",
          "shell.execute_reply.started": "2024-05-05T00:02:04.058951Z",
          "shell.execute_reply": "2024-05-05T00:02:15.589920Z"
        },
        "trusted": true,
        "id": "VbIuAXQ-EfQ6"
      },
      "execution_count": 50,
      "outputs": []
    },
    {
      "cell_type": "code",
      "source": [
        "!unzip -q /content/cisc873-dm-w24-a6.zip"
      ],
      "metadata": {
        "id": "X6OatC6lFDwc"
      },
      "execution_count": 4,
      "outputs": []
    },
    {
      "cell_type": "code",
      "source": [
        "# File path to your SDF file\n",
        "file_path ='/content/train.sdf'\n",
        "\n",
        "# Read the first 5 lines of the SDF file\n",
        "with open(file_path, \"r\") as file:\n",
        "    sdf_content = file.readlines()[:140]\n",
        "\n",
        "# Display the first 5 lines\n",
        "for line in sdf_content:\n",
        "    print(line)"
      ],
      "metadata": {
        "execution": {
          "iopub.status.busy": "2024-05-05T00:02:20.282905Z",
          "iopub.execute_input": "2024-05-05T00:02:20.283666Z",
          "iopub.status.idle": "2024-05-05T00:02:20.968690Z",
          "shell.execute_reply.started": "2024-05-05T00:02:20.283637Z",
          "shell.execute_reply": "2024-05-05T00:02:20.967609Z"
        },
        "trusted": true,
        "colab": {
          "base_uri": "https://localhost:8080/"
        },
        "id": "kzi71tIDEfQ6",
        "outputId": "fa66a38b-ca28-472d-c4ac-bb2b45ce0fa8"
      },
      "execution_count": 51,
      "outputs": [
        {
          "output_type": "stream",
          "name": "stdout",
          "text": [
            "\n",
            "\n",
            "495443\n",
            "\n",
            "\n",
            "\n",
            "\n",
            "\n",
            " 25 28  0  0  0  0              1 V2000\n",
            "\n",
            "    0.0000    0.0000    0.0000 S   0  0  0  0  0  0\n",
            "\n",
            "    0.0000    0.0000    0.0000 O   0  0  0  0  0  0\n",
            "\n",
            "    0.0000    0.0000    0.0000 O   0  0  0  0  0  0\n",
            "\n",
            "    0.0000    0.0000    0.0000 O   0  5  0  0  0  0\n",
            "\n",
            "    0.0000    0.0000    0.0000 O   0  0  0  0  0  0\n",
            "\n",
            "    0.0000    0.0000    0.0000 N   0  0  0  0  0  0\n",
            "\n",
            "    0.0000    0.0000    0.0000 N   0  0  0  0  0  0\n",
            "\n",
            "    0.0000    0.0000    0.0000 N   0  3  0  0  0  0\n",
            "\n",
            "    0.0000    0.0000    0.0000 C   0  0  0  0  0  0\n",
            "\n",
            "    0.0000    0.0000    0.0000 C   0  0  0  0  0  0\n",
            "\n",
            "    0.0000    0.0000    0.0000 C   0  0  0  0  0  0\n",
            "\n",
            "    0.0000    0.0000    0.0000 C   0  0  0  0  0  0\n",
            "\n",
            "    0.0000    0.0000    0.0000 C   0  0  0  0  0  0\n",
            "\n",
            "    0.0000    0.0000    0.0000 C   0  0  0  0  0  0\n",
            "\n",
            "    0.0000    0.0000    0.0000 C   0  0  0  0  0  0\n",
            "\n",
            "    0.0000    0.0000    0.0000 C   0  0  0  0  0  0\n",
            "\n",
            "    0.0000    0.0000    0.0000 C   0  0  0  0  0  0\n",
            "\n",
            "    0.0000    0.0000    0.0000 C   0  0  0  0  0  0\n",
            "\n",
            "    0.0000    0.0000    0.0000 C   0  0  0  0  0  0\n",
            "\n",
            "    0.0000    0.0000    0.0000 C   0  0  0  0  0  0\n",
            "\n",
            "    0.0000    0.0000    0.0000 C   0  0  0  0  0  0\n",
            "\n",
            "    0.0000    0.0000    0.0000 C   0  0  0  0  0  0\n",
            "\n",
            "    0.0000    0.0000    0.0000 C   0  0  0  0  0  0\n",
            "\n",
            "    0.0000    0.0000    0.0000 C   0  0  0  0  0  0\n",
            "\n",
            "    0.0000    0.0000    0.0000 C   0  0  0  0  0  0\n",
            "\n",
            "  1  9  1  0  0  0\n",
            "\n",
            "  1 15  1  0  0  0\n",
            "\n",
            "  2 11  2  0  0  0\n",
            "\n",
            "  3 12  2  0  0  0\n",
            "\n",
            "  4  8  1  0  0  0\n",
            "\n",
            "  5  8  2  0  0  0\n",
            "\n",
            "  6 10  1  0  0  0\n",
            "\n",
            "  6 15  2  0  0  0\n",
            "\n",
            "  7 15  1  0  0  0\n",
            "\n",
            "  7 18  1  0  0  0\n",
            "\n",
            "  8 23  1  0  0  0\n",
            "\n",
            "  9 10  2  0  0  0\n",
            "\n",
            "  9 11  1  0  0  0\n",
            "\n",
            " 10 12  1  0  0  0\n",
            "\n",
            " 11 13  1  0  0  0\n",
            "\n",
            " 12 14  1  0  0  0\n",
            "\n",
            " 13 14  1  0  0  0\n",
            "\n",
            " 13 16  2  0  0  0\n",
            "\n",
            " 14 17  2  0  0  0\n",
            "\n",
            " 16 19  1  0  0  0\n",
            "\n",
            " 17 20  1  0  0  0\n",
            "\n",
            " 18 21  2  0  0  0\n",
            "\n",
            " 18 22  1  0  0  0\n",
            "\n",
            " 19 20  2  0  0  0\n",
            "\n",
            " 21 24  1  0  0  0\n",
            "\n",
            " 22 25  2  0  0  0\n",
            "\n",
            " 23 24  2  0  0  0\n",
            "\n",
            " 23 25  1  0  0  0\n",
            "\n",
            "M  END\n",
            "\n",
            "> <value>\n",
            "\n",
            "-1.0\n",
            "\n",
            "\n",
            "\n",
            "$$$$\n",
            "\n",
            "513603\n",
            "\n",
            "\n",
            "\n",
            "\n",
            "\n",
            " 31 34  0  0  0  0              1 V2000\n",
            "\n",
            "    0.0000    0.0000    0.0000 O   0  0  0  0  0  0\n",
            "\n",
            "    0.0000    0.0000    0.0000 O   0  0  0  0  0  0\n",
            "\n",
            "    0.0000    0.0000    0.0000 O   0  5  0  0  0  0\n",
            "\n",
            "    0.0000    0.0000    0.0000 O   0  5  0  0  0  0\n",
            "\n",
            "    0.0000    0.0000    0.0000 O   0  0  0  0  0  0\n",
            "\n",
            "    0.0000    0.0000    0.0000 O   0  0  0  0  0  0\n",
            "\n",
            "    0.0000    0.0000    0.0000 N   0  0  0  0  0  0\n",
            "\n",
            "    0.0000    0.0000    0.0000 N   0  3  0  0  0  0\n",
            "\n",
            "    0.0000    0.0000    0.0000 N   0  3  0  0  0  0\n",
            "\n",
            "    0.0000    0.0000    0.0000 C   0  0  0  0  0  0\n",
            "\n",
            "    0.0000    0.0000    0.0000 C   0  0  0  0  0  0\n",
            "\n",
            "    0.0000    0.0000    0.0000 C   0  0  0  0  0  0\n",
            "\n",
            "    0.0000    0.0000    0.0000 C   0  0  0  0  0  0\n",
            "\n",
            "    0.0000    0.0000    0.0000 C   0  0  0  0  0  0\n",
            "\n",
            "    0.0000    0.0000    0.0000 C   0  0  0  0  0  0\n",
            "\n",
            "    0.0000    0.0000    0.0000 C   0  0  0  0  0  0\n",
            "\n",
            "    0.0000    0.0000    0.0000 C   0  0  0  0  0  0\n",
            "\n",
            "    0.0000    0.0000    0.0000 C   0  0  0  0  0  0\n",
            "\n",
            "    0.0000    0.0000    0.0000 C   0  0  0  0  0  0\n",
            "\n",
            "    0.0000    0.0000    0.0000 C   0  0  0  0  0  0\n",
            "\n",
            "    0.0000    0.0000    0.0000 C   0  0  0  0  0  0\n",
            "\n",
            "    0.0000    0.0000    0.0000 C   0  0  0  0  0  0\n",
            "\n",
            "    0.0000    0.0000    0.0000 C   0  0  0  0  0  0\n",
            "\n",
            "    0.0000    0.0000    0.0000 C   0  0  0  0  0  0\n",
            "\n",
            "    0.0000    0.0000    0.0000 C   0  0  0  0  0  0\n",
            "\n",
            "    0.0000    0.0000    0.0000 C   0  0  0  0  0  0\n",
            "\n",
            "    0.0000    0.0000    0.0000 C   0  0  0  0  0  0\n",
            "\n",
            "    0.0000    0.0000    0.0000 C   0  0  0  0  0  0\n",
            "\n",
            "    0.0000    0.0000    0.0000 C   0  0  0  0  0  0\n",
            "\n",
            "    0.0000    0.0000    0.0000 C   0  0  0  0  0  0\n",
            "\n",
            "    0.0000    0.0000    0.0000 C   0  0  0  0  0  0\n",
            "\n",
            "  1  7  1  0  0  0\n",
            "\n",
            "  1 16  1  0  0  0\n",
            "\n",
            "  2 16  2  0  0  0\n",
            "\n",
            "  3  8  1  0  0  0\n",
            "\n",
            "  4  9  1  0  0  0\n",
            "\n",
            "  5  8  2  0  0  0\n",
            "\n",
            "  6  9  2  0  0  0\n",
            "\n",
            "  7 10  2  0  0  0\n",
            "\n",
            "  8 17  1  0  0  0\n",
            "\n",
            "  9 18  1  0  0  0\n",
            "\n",
            " 10 11  1  0  0  0\n",
            "\n",
            " 10 12  1  0  0  0\n",
            "\n",
            " 11 13  2  0  0  0\n",
            "\n",
            " 11 23  1  0  0  0\n",
            "\n",
            " 12 14  2  0  0  0\n",
            "\n",
            " 12 24  1  0  0  0\n",
            "\n",
            " 13 22  1  0  0  0\n",
            "\n",
            " 13 26  1  0  0  0\n",
            "\n",
            " 14 21  1  0  0  0\n",
            "\n",
            " 14 27  1  0  0  0\n",
            "\n",
            " 15 16  1  0  0  0\n",
            "\n",
            " 15 19  2  0  0  0\n",
            "\n",
            " 15 20  1  0  0  0\n",
            "\n",
            " 17 20  2  0  0  0\n",
            "\n",
            " 17 25  1  0  0  0\n",
            "\n",
            " 18 19  1  0  0  0\n",
            "\n",
            " 18 25  2  0  0  0\n",
            "\n",
            " 21 22  2  0  0  0\n",
            "\n",
            " 23 28  2  0  0  0\n",
            "\n",
            " 24 29  2  0  0  0\n",
            "\n",
            " 26 30  2  0  0  0\n",
            "\n",
            " 27 31  2  0  0  0\n",
            "\n",
            " 28 30  1  0  0  0\n",
            "\n",
            " 29 31  1  0  0  0\n",
            "\n",
            "M  END\n",
            "\n",
            "> <value>\n",
            "\n",
            "-1.0\n",
            "\n",
            "\n",
            "\n",
            "$$$$\n",
            "\n",
            "523518\n",
            "\n",
            "\n",
            "\n",
            "\n",
            "\n"
          ]
        }
      ]
    },
    {
      "cell_type": "code",
      "source": [
        "def read_sdf(file):\n",
        "    with open(file, 'r') as rf:\n",
        "        content = rf.read()\n",
        "    samples = content.split('$$$$')\n",
        "\n",
        "\n",
        "# function to split the data into nodes,edges and labels\n",
        "    def parse_sample(s):\n",
        "        lines = s.splitlines()\n",
        "        links = []\n",
        "        nodes = []\n",
        "        label = 0\n",
        "        for l in lines:\n",
        "            if l.strip() == '1.0':\n",
        "                label = 1\n",
        "            if l.strip() == '-1.0':\n",
        "                label = 0\n",
        "            if l.startswith('    '):\n",
        "                feature = l.split()\n",
        "                node = feature[3]\n",
        "                nodes.append(node)\n",
        "            elif l.startswith(' '):\n",
        "                lnk = l.split()\n",
        "                # edge: (from, to,) (1-based index)\n",
        "                if int(lnk[0]) - 1 < len(nodes):\n",
        "                    links.append((\n",
        "                        int(lnk[0])-1,\n",
        "                        int(lnk[1])-1, # zero-based index\n",
        "                        # int(lnk[2]) ignore edge weight\n",
        "                    ))\n",
        "        return nodes, np.array(links), label #then returning nodes, links and label\n",
        "\n",
        "    return [parse_sample(s) for s in tqdm(samples) if len(s[0]) > 0] #parse_sample for each molecul"
      ],
      "metadata": {
        "execution": {
          "iopub.status.busy": "2024-05-05T00:02:24.217555Z",
          "iopub.execute_input": "2024-05-05T00:02:24.217966Z",
          "iopub.status.idle": "2024-05-05T00:02:24.227581Z",
          "shell.execute_reply.started": "2024-05-05T00:02:24.217935Z",
          "shell.execute_reply": "2024-05-05T00:02:24.226632Z"
        },
        "trusted": true,
        "id": "N2cIZamKEfQ7"
      },
      "execution_count": 53,
      "outputs": []
    },
    {
      "cell_type": "code",
      "source": [
        "#read train data\n",
        "train = read_sdf('/content/train.sdf')\n",
        "#read test data\n",
        "testing_set  = read_sdf('/content/test_x.sdf')"
      ],
      "metadata": {
        "execution": {
          "iopub.status.busy": "2024-05-05T00:02:26.744681Z",
          "iopub.execute_input": "2024-05-05T00:02:26.745001Z",
          "iopub.status.idle": "2024-05-05T00:02:29.487097Z",
          "shell.execute_reply.started": "2024-05-05T00:02:26.744976Z",
          "shell.execute_reply": "2024-05-05T00:02:29.486285Z"
        },
        "trusted": true,
        "colab": {
          "base_uri": "https://localhost:8080/",
          "height": 81,
          "referenced_widgets": [
            "d050c87d50524c929f03c732cf19316a",
            "0cd5809131e7433fb7d9b5fe57ad8357",
            "690d12f397cb427789c9542cefcb792a",
            "6dca3f9c538b44aa9a4982b897fd8046",
            "83f82935df7b4d64bd78c53a32d520d1",
            "5e32e21920e548d8845af48881c321f9",
            "5b71898c20a6461f884350eb87bfdb23",
            "5d6897094dba46e78913ddfce44e6ce9",
            "5bd7af29b8d049f49a1f4e9cc55c6468",
            "fea311991e7e4922b2eff15aa6dc1ca3",
            "e0f1ee379a7e4dc7a1c4bc05f47b8e91",
            "edcb2bd1379f43aeb544e78c3d7a8598",
            "dc81c453a7ca4c829e730ac0de13b54e",
            "08f1fcacc7064405939ed31e92129e08",
            "b0b27af71d904e8884be033ba759a0a9",
            "3e18c0b50c424b97a34fce505972e866",
            "de8c712519f341c7aa12e713c9aa04a6",
            "159dd4dfb2ee4705b932d75468c4cc0f",
            "9874c467c7c3490a94028e8296891676",
            "145a7a3a3dc44d58b2e9adf6fc08895b",
            "6e172e5352eb447bb4c75c856b3aee2a",
            "79c46deacdc6412faf216de2ca806478"
          ]
        },
        "id": "dPhiTdAFEfQ7",
        "outputId": "6cd2d07f-bc55-4595-daa3-7f158d363a2e"
      },
      "execution_count": 54,
      "outputs": [
        {
          "output_type": "display_data",
          "data": {
            "text/plain": [
              "  0%|          | 0/25024 [00:00<?, ?it/s]"
            ],
            "application/vnd.jupyter.widget-view+json": {
              "version_major": 2,
              "version_minor": 0,
              "model_id": "d050c87d50524c929f03c732cf19316a"
            }
          },
          "metadata": {}
        },
        {
          "output_type": "display_data",
          "data": {
            "text/plain": [
              "  0%|          | 0/12326 [00:00<?, ?it/s]"
            ],
            "application/vnd.jupyter.widget-view+json": {
              "version_major": 2,
              "version_minor": 0,
              "model_id": "edcb2bd1379f43aeb544e78c3d7a8598"
            }
          },
          "metadata": {}
        }
      ]
    },
    {
      "cell_type": "code",
      "source": [
        "training_set, validation_set = train_test_split(train, test_size=0.15,random_state=35)"
      ],
      "metadata": {
        "execution": {
          "iopub.status.busy": "2024-05-05T00:02:32.939501Z",
          "iopub.execute_input": "2024-05-05T00:02:32.939820Z",
          "iopub.status.idle": "2024-05-05T00:02:32.951872Z",
          "shell.execute_reply.started": "2024-05-05T00:02:32.939797Z",
          "shell.execute_reply": "2024-05-05T00:02:32.950924Z"
        },
        "trusted": true,
        "id": "s7QCQJTCEfQ8"
      },
      "execution_count": 55,
      "outputs": []
    },
    {
      "cell_type": "code",
      "source": [
        "#sample of train set\n",
        "print(training_set[1])"
      ],
      "metadata": {
        "execution": {
          "iopub.status.busy": "2024-05-05T00:02:35.267328Z",
          "iopub.execute_input": "2024-05-05T00:02:35.267640Z",
          "iopub.status.idle": "2024-05-05T00:02:35.273635Z",
          "shell.execute_reply.started": "2024-05-05T00:02:35.267619Z",
          "shell.execute_reply": "2024-05-05T00:02:35.272223Z"
        },
        "trusted": true,
        "colab": {
          "base_uri": "https://localhost:8080/"
        },
        "id": "Jz3qNUyhEfQ8",
        "outputId": "ccd32019-b0e0-47a6-f363-c8f41845d32a"
      },
      "execution_count": 56,
      "outputs": [
        {
          "output_type": "stream",
          "name": "stdout",
          "text": [
            "(['P', 'O', 'O', 'O', 'N', 'N', 'N', 'C', 'C', 'C', 'C', 'C', 'C', 'C', 'C', 'C', 'C'], array([[ 0,  1],\n",
            "       [ 0,  2],\n",
            "       [ 0,  3],\n",
            "       [ 0,  7],\n",
            "       [ 1, 11],\n",
            "       [ 2, 12],\n",
            "       [ 4,  9],\n",
            "       [ 4, 13],\n",
            "       [ 5,  9],\n",
            "       [ 5, 14],\n",
            "       [ 6, 10],\n",
            "       [ 7,  8],\n",
            "       [ 7, 10],\n",
            "       [ 8,  9],\n",
            "       [11, 15],\n",
            "       [12, 16],\n",
            "       [13, 14]]), 0)\n"
          ]
        }
      ]
    },
    {
      "cell_type": "code",
      "source": [
        "import networkx as nx\n",
        "import matplotlib.pyplot as plt\n",
        "from matplotlib import cm\n",
        "colors = cm.rainbow(np.linspace(0, 1, 50))"
      ],
      "metadata": {
        "execution": {
          "iopub.status.busy": "2024-05-05T00:02:37.532617Z",
          "iopub.execute_input": "2024-05-05T00:02:37.532952Z",
          "iopub.status.idle": "2024-05-05T00:02:37.540875Z",
          "shell.execute_reply.started": "2024-05-05T00:02:37.532926Z",
          "shell.execute_reply": "2024-05-05T00:02:37.539645Z"
        },
        "trusted": true,
        "id": "URT4qMUfEfQ9"
      },
      "execution_count": 57,
      "outputs": []
    },
    {
      "cell_type": "code",
      "source": [
        "def visualize(sample):\n",
        "    G=nx.Graph()\n",
        "    nodes = sample[0]\n",
        "    edges = sample[1]\n",
        "\n",
        "    labeldict={}\n",
        "    node_color=[]\n",
        "    for i,n in enumerate(nodes):\n",
        "        G.add_node(i)\n",
        "        labeldict[i]=n\n",
        "        node_color.append(colors[hash(n)%len(colors)])\n",
        "\n",
        "    # a list of nodes:\n",
        "\n",
        "    for e in edges:\n",
        "        G.add_edge(e[0], e[1])\n",
        "\n",
        "    nx.draw_networkx(G, labels=labeldict, with_labels = True, node_color = node_color)\n",
        "    plt.show()\n",
        "\n",
        "    return G"
      ],
      "metadata": {
        "execution": {
          "iopub.status.busy": "2024-05-05T00:02:40.868470Z",
          "iopub.execute_input": "2024-05-05T00:02:40.868775Z",
          "iopub.status.idle": "2024-05-05T00:02:40.875575Z",
          "shell.execute_reply.started": "2024-05-05T00:02:40.868754Z",
          "shell.execute_reply": "2024-05-05T00:02:40.874702Z"
        },
        "trusted": true,
        "id": "9omHm1RgEfQ9"
      },
      "execution_count": 58,
      "outputs": []
    },
    {
      "cell_type": "code",
      "source": [
        "plt.clf()\n",
        "visualize(training_set[1])"
      ],
      "metadata": {
        "execution": {
          "iopub.status.busy": "2024-05-05T00:02:43.803242Z",
          "iopub.execute_input": "2024-05-05T00:02:43.803584Z",
          "iopub.status.idle": "2024-05-05T00:02:44.017785Z",
          "shell.execute_reply.started": "2024-05-05T00:02:43.803558Z",
          "shell.execute_reply": "2024-05-05T00:02:44.016754Z"
        },
        "trusted": true,
        "colab": {
          "base_uri": "https://localhost:8080/",
          "height": 423
        },
        "id": "v5e9Wdh3EfQ9",
        "outputId": "b0c0519a-12a5-4fb6-9ea8-7d15294a14c6"
      },
      "execution_count": 59,
      "outputs": [
        {
          "output_type": "display_data",
          "data": {
            "text/plain": [
              "<Figure size 640x480 with 1 Axes>"
            ],
            "image/png": "[encoded data removed]"
          },
          "metadata": {}
        },
        {
          "output_type": "execute_result",
          "data": {
            "text/plain": [
              "<networkx.classes.graph.Graph at 0x7a789608e9e0>"
            ]
          },
          "metadata": {},
          "execution_count": 59
        }
      ]
    },
    {
      "cell_type": "code",
      "source": [
        "plt.clf()\n",
        "visualize(training_set[5])"
      ],
      "metadata": {
        "execution": {
          "iopub.status.busy": "2024-05-05T00:02:46.669111Z",
          "iopub.execute_input": "2024-05-05T00:02:46.669451Z",
          "iopub.status.idle": "2024-05-05T00:02:47.069035Z",
          "shell.execute_reply.started": "2024-05-05T00:02:46.669426Z",
          "shell.execute_reply": "2024-05-05T00:02:47.068254Z"
        },
        "trusted": true,
        "colab": {
          "base_uri": "https://localhost:8080/",
          "height": 423
        },
        "id": "BRfC4dR-EfQ-",
        "outputId": "ff0dc49b-89ed-4609-d600-347702fb473d"
      },
      "execution_count": 60,
      "outputs": [
        {
          "output_type": "display_data",
          "data": {
            "text/plain": [
              "<Figure size 640x480 with 1 Axes>"
            ],
            "image/png": "[encoded data removed]"
          },
          "metadata": {}
        },
        {
          "output_type": "execute_result",
          "data": {
            "text/plain": [
              "<networkx.classes.graph.Graph at 0x7a789608df30>"
            ]
          },
          "metadata": {},
          "execution_count": 60
        }
      ]
    },
    {
      "cell_type": "markdown",
      "source": [
        "# Preprocessing"
      ],
      "metadata": {
        "id": "tjXRlNgjEfQ-"
      }
    },
    {
      "cell_type": "code",
      "source": [
        "from tensorflow.keras.preprocessing.text import Tokenizer\n",
        "#vocabulary size\n",
        "max_vocab = 500\n",
        "max_len = 100\n",
        "\n",
        "all_nodes = [s[0] for s in training_set]\n",
        "\n",
        "tokenizer = Tokenizer(num_words=max_vocab)\n",
        "tokenizer.fit_on_texts(all_nodes)"
      ],
      "metadata": {
        "execution": {
          "iopub.status.busy": "2024-05-05T00:02:52.023953Z",
          "iopub.execute_input": "2024-05-05T00:02:52.024653Z",
          "iopub.status.idle": "2024-05-05T00:02:52.256018Z",
          "shell.execute_reply.started": "2024-05-05T00:02:52.024626Z",
          "shell.execute_reply": "2024-05-05T00:02:52.255169Z"
        },
        "trusted": true,
        "id": "HLBNigYZEfRA"
      },
      "execution_count": 61,
      "outputs": []
    },
    {
      "cell_type": "code",
      "source": [
        "from tensorflow.keras.preprocessing.sequence import pad_sequences\n",
        "\n",
        "import random\n",
        "random.seed(5)\n",
        "\n",
        "def prepare_single_batch(samples):\n",
        "\n",
        "    sample_nodes = [s[0] for s in samples]\n",
        "    sample_nodes = tokenizer.texts_to_sequences(sample_nodes)\n",
        "    sample_nodes = pad_sequences(sample_nodes, padding='post')\n",
        "    max_nodes_len = np.shape(sample_nodes)[1]\n",
        "\n",
        "    edges = [s[1]+i*max_nodes_len for i,s in enumerate(samples)]\n",
        "    edges = [e for e in edges if len(e) > 0]\n",
        "\n",
        "    node_to_graph = [[i]*max_nodes_len for i in range(len(samples))]\n",
        "\n",
        "    all_nodes = np.reshape(sample_nodes, -1)\n",
        "    all_edges = np.concatenate(edges)\n",
        "\n",
        "    node_to_graph = np.reshape(node_to_graph, -1)\n",
        "\n",
        "\n",
        "    return {\n",
        "        'data': all_nodes,\n",
        "        'edges': all_edges,\n",
        "        'node2grah': node_to_graph,\n",
        "    }, np.array([s[2] for s in samples])\n",
        "\n",
        "\n",
        "def gen_batch(dataset, batch_size=16, repeat=False, shuffle=True):\n",
        "    while True:\n",
        "        dataset = list(dataset)\n",
        "        if shuffle:\n",
        "            random.shuffle(dataset)\n",
        "        l = len(dataset)\n",
        "        for ndx in range(0, l, batch_size):\n",
        "            batch_samples = dataset[ndx:min(ndx + batch_size, l)]\n",
        "            yield prepare_single_batch(batch_samples)\n",
        "        if not repeat:\n",
        "            break\n"
      ],
      "metadata": {
        "execution": {
          "iopub.status.busy": "2024-05-05T00:02:59.970560Z",
          "iopub.execute_input": "2024-05-05T00:02:59.970847Z",
          "iopub.status.idle": "2024-05-05T00:02:59.981755Z",
          "shell.execute_reply.started": "2024-05-05T00:02:59.970828Z",
          "shell.execute_reply": "2024-05-05T00:02:59.980380Z"
        },
        "trusted": true,
        "id": "JeQl5eC_EfRA"
      },
      "execution_count": 63,
      "outputs": []
    },
    {
      "cell_type": "code",
      "source": [
        "len([8, 2, 2, 2, 1, 1, 1, 1, 1, 1, 1, 1, 1, 1, 1, 1, 1, 1, 1, 1, 1, 1, 1, 1, 1, 1, 1, 1, 0, 0, 0, 0, 0, 0, 0, 0, 0, 0, 0])"
      ],
      "metadata": {
        "execution": {
          "iopub.status.busy": "2024-05-05T00:03:03.530384Z",
          "iopub.execute_input": "2024-05-05T00:03:03.530686Z",
          "iopub.status.idle": "2024-05-05T00:03:03.537737Z",
          "shell.execute_reply.started": "2024-05-05T00:03:03.530664Z",
          "shell.execute_reply": "2024-05-05T00:03:03.536907Z"
        },
        "trusted": true,
        "colab": {
          "base_uri": "https://localhost:8080/"
        },
        "id": "aAAxqIZjEfRB",
        "outputId": "05f20c54-9d89-4400-83a0-594ac087fdc5"
      },
      "execution_count": 64,
      "outputs": [
        {
          "output_type": "execute_result",
          "data": {
            "text/plain": [
              "39"
            ]
          },
          "metadata": {},
          "execution_count": 64
        }
      ]
    },
    {
      "cell_type": "code",
      "source": [
        "for train_batch in gen_batch(training_set, batch_size=4):\n",
        "    for k,v in train_batch[0].items():\n",
        "        print(k)\n",
        "        print(v)\n",
        "        pass\n",
        "    print('label', train_batch[1])\n",
        "    break"
      ],
      "metadata": {
        "execution": {
          "iopub.status.busy": "2024-05-05T00:03:07.754797Z",
          "iopub.execute_input": "2024-05-05T00:03:07.755156Z",
          "iopub.status.idle": "2024-05-05T00:03:07.775987Z",
          "shell.execute_reply.started": "2024-05-05T00:03:07.755129Z",
          "shell.execute_reply": "2024-05-05T00:03:07.775038Z"
        },
        "trusted": true,
        "colab": {
          "base_uri": "https://localhost:8080/"
        },
        "id": "Mh9oziX3EfRB",
        "outputId": "17710cb7-1f1c-41cc-e5cd-d96d3ea0e5ed"
      },
      "execution_count": 65,
      "outputs": [
        {
          "output_type": "stream",
          "name": "stdout",
          "text": [
            "data\n",
            "[8 2 2 2 1 1 1 1 1 1 1 1 1 1 1 1 1 1 1 1 1 1 1 1 1 1 1 0 0 0 0 0 0 0 0 0 0\n",
            " 0 2 2 2 2 2 2 3 3 1 1 1 1 1 1 1 1 1 1 1 1 1 1 1 1 1 1 1 0 0 0 0 0 0 0 0 0\n",
            " 0 0 2 2 2 2 3 3 1 1 1 1 1 1 1 1 1 1 1 1 1 1 1 1 1 1 1 1 1 1 1 1 1 1 1 1 1\n",
            " 1 1 1 2 2 2 3 1 1 1 1 1 1 1 1 1 1 1 1 1 1 1 1 0 0 0 0 0 0 0 0 0 0 0 0 0 0\n",
            " 0 0 0 0]\n",
            "edges\n",
            "[[  0   4]\n",
            " [  0   5]\n",
            " [  0   6]\n",
            " [  0   7]\n",
            " [  1   8]\n",
            " [  2  15]\n",
            " [  2  25]\n",
            " [  3  15]\n",
            " [  4   9]\n",
            " [  4  12]\n",
            " [  5  10]\n",
            " [  5  13]\n",
            " [  6  11]\n",
            " [  6  14]\n",
            " [  7   8]\n",
            " [  8  15]\n",
            " [  9  16]\n",
            " [ 10  17]\n",
            " [ 11  18]\n",
            " [ 12  19]\n",
            " [ 13  20]\n",
            " [ 14  21]\n",
            " [ 16  22]\n",
            " [ 17  23]\n",
            " [ 18  24]\n",
            " [ 19  22]\n",
            " [ 20  23]\n",
            " [ 21  24]\n",
            " [ 25  26]\n",
            " [ 38  46]\n",
            " [ 38  50]\n",
            " [ 39  47]\n",
            " [ 40  51]\n",
            " [ 41  53]\n",
            " [ 42  55]\n",
            " [ 43  57]\n",
            " [ 44  46]\n",
            " [ 44  47]\n",
            " [ 44  49]\n",
            " [ 45  47]\n",
            " [ 45  53]\n",
            " [ 46  52]\n",
            " [ 48  49]\n",
            " [ 48  53]\n",
            " [ 48  54]\n",
            " [ 50  51]\n",
            " [ 50  55]\n",
            " [ 51  52]\n",
            " [ 54  56]\n",
            " [ 56  57]\n",
            " [ 57  58]\n",
            " [ 58  59]\n",
            " [ 58  60]\n",
            " [ 59  62]\n",
            " [ 60  63]\n",
            " [ 61  62]\n",
            " [ 61  63]\n",
            " [ 61  64]\n",
            " [ 76  86]\n",
            " [ 77  87]\n",
            " [ 78  89]\n",
            " [ 79  90]\n",
            " [ 80  91]\n",
            " [ 80  93]\n",
            " [ 80  96]\n",
            " [ 81  94]\n",
            " [ 81  95]\n",
            " [ 82  84]\n",
            " [ 82  86]\n",
            " [ 82  87]\n",
            " [ 83  85]\n",
            " [ 83  89]\n",
            " [ 83  90]\n",
            " [ 84  88]\n",
            " [ 84  93]\n",
            " [ 85  92]\n",
            " [ 85  94]\n",
            " [ 86  90]\n",
            " [ 87  89]\n",
            " [ 88  91]\n",
            " [ 88  97]\n",
            " [ 91  98]\n",
            " [ 92  95]\n",
            " [ 92  99]\n",
            " [ 94 100]\n",
            " [ 95 101]\n",
            " [ 96 103]\n",
            " [ 96 106]\n",
            " [ 96 107]\n",
            " [ 97 102]\n",
            " [ 98 104]\n",
            " [ 99 105]\n",
            " [100 109]\n",
            " [101 108]\n",
            " [102 104]\n",
            " [103 110]\n",
            " [105 108]\n",
            " [109 111]\n",
            " [111 112]\n",
            " [111 113]\n",
            " [114 119]\n",
            " [114 130]\n",
            " [115 120]\n",
            " [115 131]\n",
            " [116 122]\n",
            " [117 128]\n",
            " [117 133]\n",
            " [118 121]\n",
            " [118 122]\n",
            " [118 123]\n",
            " [119 120]\n",
            " [119 121]\n",
            " [120 124]\n",
            " [122 125]\n",
            " [123 124]\n",
            " [125 127]\n",
            " [126 127]\n",
            " [126 128]\n",
            " [126 129]\n",
            " [129 132]\n",
            " [132 133]]\n",
            "node2grah\n",
            "[0 0 0 0 0 0 0 0 0 0 0 0 0 0 0 0 0 0 0 0 0 0 0 0 0 0 0 0 0 0 0 0 0 0 0 0 0\n",
            " 0 1 1 1 1 1 1 1 1 1 1 1 1 1 1 1 1 1 1 1 1 1 1 1 1 1 1 1 1 1 1 1 1 1 1 1 1\n",
            " 1 1 2 2 2 2 2 2 2 2 2 2 2 2 2 2 2 2 2 2 2 2 2 2 2 2 2 2 2 2 2 2 2 2 2 2 2\n",
            " 2 2 2 3 3 3 3 3 3 3 3 3 3 3 3 3 3 3 3 3 3 3 3 3 3 3 3 3 3 3 3 3 3 3 3 3 3\n",
            " 3 3 3 3]\n",
            "label [0 0 0 0]\n"
          ]
        }
      ]
    },
    {
      "cell_type": "markdown",
      "source": [
        "# Trial_1\n",
        "\n",
        "we use default layers of gnn\n",
        "\n",
        "we will use message_calculation_class : \"GGNN\"\n",
        "\n",
        "we define gnn input as a variable to define all input layers"
      ],
      "metadata": {
        "id": "492AUWjHEfRB"
      }
    },
    {
      "cell_type": "code",
      "source": [
        "tokenizer.num_words"
      ],
      "metadata": {
        "execution": {
          "iopub.status.busy": "2024-05-05T00:03:12.471012Z",
          "iopub.execute_input": "2024-05-05T00:03:12.471336Z",
          "iopub.status.idle": "2024-05-05T00:03:12.477532Z",
          "shell.execute_reply.started": "2024-05-05T00:03:12.471314Z",
          "shell.execute_reply": "2024-05-05T00:03:12.476460Z"
        },
        "trusted": true,
        "colab": {
          "base_uri": "https://localhost:8080/"
        },
        "id": "5cZ9t9jZEfRC",
        "outputId": "55d5acde-d8d0-451f-ca60-9dc7d9d17dbc"
      },
      "execution_count": 66,
      "outputs": [
        {
          "output_type": "execute_result",
          "data": {
            "text/plain": [
              "500"
            ]
          },
          "metadata": {},
          "execution_count": 66
        }
      ]
    },
    {
      "cell_type": "code",
      "source": [
        "# Define a tensor with values and segment IDs\n",
        "values = tf.constant([1, 2, 3, 4, 5, 6])\n",
        "segment_ids = tf.constant([0, 0, 1, 1,2 , 2])\n",
        "\n",
        "# Compute the segment mean\n",
        "segment_means = tf.math.segment_mean(data=values, segment_ids=segment_ids)\n",
        "\n",
        "# Print the result\n",
        "print(\"Segment Means:\", segment_means.numpy())"
      ],
      "metadata": {
        "execution": {
          "iopub.status.busy": "2024-05-05T00:03:15.725131Z",
          "iopub.execute_input": "2024-05-05T00:03:15.725474Z",
          "iopub.status.idle": "2024-05-05T00:03:15.752817Z",
          "shell.execute_reply.started": "2024-05-05T00:03:15.725452Z",
          "shell.execute_reply": "2024-05-05T00:03:15.751977Z"
        },
        "trusted": true,
        "colab": {
          "base_uri": "https://localhost:8080/"
        },
        "id": "uSho6wdhEfRC",
        "outputId": "309ecea5-963b-40ef-f14a-1dda34461d90"
      },
      "execution_count": 67,
      "outputs": [
        {
          "output_type": "stream",
          "name": "stdout",
          "text": [
            "Segment Means: [1 3 5]\n"
          ]
        }
      ]
    },
    {
      "cell_type": "code",
      "source": [
        "tokenizer.num_words"
      ],
      "metadata": {
        "execution": {
          "iopub.status.busy": "2024-05-05T00:03:18.092488Z",
          "iopub.execute_input": "2024-05-05T00:03:18.092804Z",
          "iopub.status.idle": "2024-05-05T00:03:18.099013Z",
          "shell.execute_reply.started": "2024-05-05T00:03:18.092782Z",
          "shell.execute_reply": "2024-05-05T00:03:18.097945Z"
        },
        "trusted": true,
        "colab": {
          "base_uri": "https://localhost:8080/"
        },
        "id": "mN8del4iEfRC",
        "outputId": "a2ef9174-9b99-4dce-d276-1f31adc6ab08"
      },
      "execution_count": 68,
      "outputs": [
        {
          "output_type": "execute_result",
          "data": {
            "text/plain": [
              "500"
            ]
          },
          "metadata": {},
          "execution_count": 68
        }
      ]
    },
    {
      "cell_type": "code",
      "source": [
        "data = keras.Input(batch_shape=(None,))\n",
        "edge = keras.Input(batch_shape=(None, 2), dtype=tf.int32)\n",
        "\n",
        "node2graph = keras.Input(batch_shape=(None,), dtype=tf.int32)\n",
        "\n",
        "\n",
        "embeded = Embedding(tokenizer.num_words, 60)(data)\n",
        "\n",
        "num_graph = tf.reduce_max(node2graph)+1\n",
        "\n",
        "print(num_graph)\n"
      ],
      "metadata": {
        "execution": {
          "iopub.status.busy": "2024-05-05T00:03:20.971346Z",
          "iopub.execute_input": "2024-05-05T00:03:20.971686Z",
          "iopub.status.idle": "2024-05-05T00:03:21.594246Z",
          "shell.execute_reply.started": "2024-05-05T00:03:20.971661Z",
          "shell.execute_reply": "2024-05-05T00:03:21.592567Z"
        },
        "trusted": true,
        "colab": {
          "base_uri": "https://localhost:8080/"
        },
        "id": "3Yh5pXYcEfRD",
        "outputId": "678c1f12-a2bf-45df-dd88-4ad7a6ef3cb3"
      },
      "execution_count": 69,
      "outputs": [
        {
          "output_type": "stream",
          "name": "stdout",
          "text": [
            "KerasTensor(type_spec=TensorSpec(shape=(), dtype=tf.int32, name=None), inferred_value=[None], name='tf.__operators__.add_5/AddV2:0', description=\"created by layer 'tf.__operators__.add_5'\")\n"
          ]
        }
      ]
    },
    {
      "cell_type": "code",
      "source": [
        "!pip install tf2_gnn"
      ],
      "metadata": {
        "colab": {
          "base_uri": "https://localhost:8080/"
        },
        "id": "qsGbP49UGqyo",
        "outputId": "179691a8-acdd-4696-b76f-98e1068bedb6"
      },
      "execution_count": 70,
      "outputs": [
        {
          "output_type": "stream",
          "name": "stdout",
          "text": [
            "Requirement already satisfied: tf2_gnn in /usr/local/lib/python3.10/dist-packages (2.14.0)\n",
            "Requirement already satisfied: numpy in /usr/local/lib/python3.10/dist-packages (from tf2_gnn) (1.25.2)\n",
            "Requirement already satisfied: tensorflow>=2.0.0 in /usr/local/lib/python3.10/dist-packages (from tf2_gnn) (2.15.0)\n",
            "Requirement already satisfied: dpu-utils>=0.2.7 in /usr/local/lib/python3.10/dist-packages (from tf2_gnn) (0.6.1)\n",
            "Requirement already satisfied: h5py in /usr/local/lib/python3.10/dist-packages (from tf2_gnn) (3.9.0)\n",
            "Requirement already satisfied: packaging in /usr/local/lib/python3.10/dist-packages (from tf2_gnn) (24.0)\n",
            "Requirement already satisfied: azure-storage-blob in /usr/local/lib/python3.10/dist-packages (from dpu-utils>=0.2.7->tf2_gnn) (12.19.1)\n",
            "Requirement already satisfied: azure-identity in /usr/local/lib/python3.10/dist-packages (from dpu-utils>=0.2.7->tf2_gnn) (1.16.0)\n",
            "Requirement already satisfied: docopt in /usr/local/lib/python3.10/dist-packages (from dpu-utils>=0.2.7->tf2_gnn) (0.6.2)\n",
            "Requirement already satisfied: tqdm in /usr/local/lib/python3.10/dist-packages (from dpu-utils>=0.2.7->tf2_gnn) (4.66.2)\n",
            "Requirement already satisfied: SetSimilaritySearch in /usr/local/lib/python3.10/dist-packages (from dpu-utils>=0.2.7->tf2_gnn) (1.0.1)\n",
            "Requirement already satisfied: sentencepiece in /usr/local/lib/python3.10/dist-packages (from dpu-utils>=0.2.7->tf2_gnn) (0.1.99)\n",
            "Requirement already satisfied: cffi in /usr/local/lib/python3.10/dist-packages (from dpu-utils>=0.2.7->tf2_gnn) (1.16.0)\n",
            "Requirement already satisfied: regex in /usr/local/lib/python3.10/dist-packages (from dpu-utils>=0.2.7->tf2_gnn) (2023.12.25)\n",
            "Requirement already satisfied: absl-py>=1.0.0 in /usr/local/lib/python3.10/dist-packages (from tensorflow>=2.0.0->tf2_gnn) (1.4.0)\n",
            "Requirement already satisfied: astunparse>=1.6.0 in /usr/local/lib/python3.10/dist-packages (from tensorflow>=2.0.0->tf2_gnn) (1.6.3)\n",
            "Requirement already satisfied: flatbuffers>=23.5.26 in /usr/local/lib/python3.10/dist-packages (from tensorflow>=2.0.0->tf2_gnn) (24.3.25)\n",
            "Requirement already satisfied: gast!=0.5.0,!=0.5.1,!=0.5.2,>=0.2.1 in /usr/local/lib/python3.10/dist-packages (from tensorflow>=2.0.0->tf2_gnn) (0.5.4)\n",
            "Requirement already satisfied: google-pasta>=0.1.1 in /usr/local/lib/python3.10/dist-packages (from tensorflow>=2.0.0->tf2_gnn) (0.2.0)\n",
            "Requirement already satisfied: libclang>=13.0.0 in /usr/local/lib/python3.10/dist-packages (from tensorflow>=2.0.0->tf2_gnn) (18.1.1)\n",
            "Requirement already satisfied: ml-dtypes~=0.2.0 in /usr/local/lib/python3.10/dist-packages (from tensorflow>=2.0.0->tf2_gnn) (0.2.0)\n",
            "Requirement already satisfied: opt-einsum>=2.3.2 in /usr/local/lib/python3.10/dist-packages (from tensorflow>=2.0.0->tf2_gnn) (3.3.0)\n",
            "Requirement already satisfied: protobuf!=4.21.0,!=4.21.1,!=4.21.2,!=4.21.3,!=4.21.4,!=4.21.5,<5.0.0dev,>=3.20.3 in /usr/local/lib/python3.10/dist-packages (from tensorflow>=2.0.0->tf2_gnn) (3.20.3)\n",
            "Requirement already satisfied: setuptools in /usr/local/lib/python3.10/dist-packages (from tensorflow>=2.0.0->tf2_gnn) (67.7.2)\n",
            "Requirement already satisfied: six>=1.12.0 in /usr/local/lib/python3.10/dist-packages (from tensorflow>=2.0.0->tf2_gnn) (1.16.0)\n",
            "Requirement already satisfied: termcolor>=1.1.0 in /usr/local/lib/python3.10/dist-packages (from tensorflow>=2.0.0->tf2_gnn) (2.4.0)\n",
            "Requirement already satisfied: typing-extensions>=3.6.6 in /usr/local/lib/python3.10/dist-packages (from tensorflow>=2.0.0->tf2_gnn) (4.11.0)\n",
            "Requirement already satisfied: wrapt<1.15,>=1.11.0 in /usr/local/lib/python3.10/dist-packages (from tensorflow>=2.0.0->tf2_gnn) (1.14.1)\n",
            "Requirement already satisfied: tensorflow-io-gcs-filesystem>=0.23.1 in /usr/local/lib/python3.10/dist-packages (from tensorflow>=2.0.0->tf2_gnn) (0.37.0)\n",
            "Requirement already satisfied: grpcio<2.0,>=1.24.3 in /usr/local/lib/python3.10/dist-packages (from tensorflow>=2.0.0->tf2_gnn) (1.63.0)\n",
            "Requirement already satisfied: tensorboard<2.16,>=2.15 in /usr/local/lib/python3.10/dist-packages (from tensorflow>=2.0.0->tf2_gnn) (2.15.2)\n",
            "Requirement already satisfied: tensorflow-estimator<2.16,>=2.15.0 in /usr/local/lib/python3.10/dist-packages (from tensorflow>=2.0.0->tf2_gnn) (2.15.0)\n",
            "Requirement already satisfied: keras<2.16,>=2.15.0 in /usr/local/lib/python3.10/dist-packages (from tensorflow>=2.0.0->tf2_gnn) (2.15.0)\n",
            "Requirement already satisfied: wheel<1.0,>=0.23.0 in /usr/local/lib/python3.10/dist-packages (from astunparse>=1.6.0->tensorflow>=2.0.0->tf2_gnn) (0.43.0)\n",
            "Requirement already satisfied: google-auth<3,>=1.6.3 in /usr/local/lib/python3.10/dist-packages (from tensorboard<2.16,>=2.15->tensorflow>=2.0.0->tf2_gnn) (2.27.0)\n",
            "Requirement already satisfied: google-auth-oauthlib<2,>=0.5 in /usr/local/lib/python3.10/dist-packages (from tensorboard<2.16,>=2.15->tensorflow>=2.0.0->tf2_gnn) (1.2.0)\n",
            "Requirement already satisfied: markdown>=2.6.8 in /usr/local/lib/python3.10/dist-packages (from tensorboard<2.16,>=2.15->tensorflow>=2.0.0->tf2_gnn) (3.6)\n",
            "Requirement already satisfied: requests<3,>=2.21.0 in /usr/local/lib/python3.10/dist-packages (from tensorboard<2.16,>=2.15->tensorflow>=2.0.0->tf2_gnn) (2.31.0)\n",
            "Requirement already satisfied: tensorboard-data-server<0.8.0,>=0.7.0 in /usr/local/lib/python3.10/dist-packages (from tensorboard<2.16,>=2.15->tensorflow>=2.0.0->tf2_gnn) (0.7.2)\n",
            "Requirement already satisfied: werkzeug>=1.0.1 in /usr/local/lib/python3.10/dist-packages (from tensorboard<2.16,>=2.15->tensorflow>=2.0.0->tf2_gnn) (3.0.2)\n",
            "Requirement already satisfied: azure-core>=1.23.0 in /usr/local/lib/python3.10/dist-packages (from azure-identity->dpu-utils>=0.2.7->tf2_gnn) (1.30.1)\n",
            "Requirement already satisfied: cryptography>=2.5 in /usr/local/lib/python3.10/dist-packages (from azure-identity->dpu-utils>=0.2.7->tf2_gnn) (42.0.5)\n",
            "Requirement already satisfied: msal>=1.24.0 in /usr/local/lib/python3.10/dist-packages (from azure-identity->dpu-utils>=0.2.7->tf2_gnn) (1.28.0)\n",
            "Requirement already satisfied: msal-extensions>=0.3.0 in /usr/local/lib/python3.10/dist-packages (from azure-identity->dpu-utils>=0.2.7->tf2_gnn) (1.1.0)\n",
            "Requirement already satisfied: isodate>=0.6.1 in /usr/local/lib/python3.10/dist-packages (from azure-storage-blob->dpu-utils>=0.2.7->tf2_gnn) (0.6.1)\n",
            "Requirement already satisfied: pycparser in /usr/local/lib/python3.10/dist-packages (from cffi->dpu-utils>=0.2.7->tf2_gnn) (2.22)\n",
            "Requirement already satisfied: cachetools<6.0,>=2.0.0 in /usr/local/lib/python3.10/dist-packages (from google-auth<3,>=1.6.3->tensorboard<2.16,>=2.15->tensorflow>=2.0.0->tf2_gnn) (5.3.3)\n",
            "Requirement already satisfied: pyasn1-modules>=0.2.1 in /usr/local/lib/python3.10/dist-packages (from google-auth<3,>=1.6.3->tensorboard<2.16,>=2.15->tensorflow>=2.0.0->tf2_gnn) (0.4.0)\n",
            "Requirement already satisfied: rsa<5,>=3.1.4 in /usr/local/lib/python3.10/dist-packages (from google-auth<3,>=1.6.3->tensorboard<2.16,>=2.15->tensorflow>=2.0.0->tf2_gnn) (4.9)\n",
            "Requirement already satisfied: requests-oauthlib>=0.7.0 in /usr/local/lib/python3.10/dist-packages (from google-auth-oauthlib<2,>=0.5->tensorboard<2.16,>=2.15->tensorflow>=2.0.0->tf2_gnn) (1.3.1)\n",
            "Requirement already satisfied: PyJWT[crypto]<3,>=1.0.0 in /usr/lib/python3/dist-packages (from msal>=1.24.0->azure-identity->dpu-utils>=0.2.7->tf2_gnn) (2.3.0)\n",
            "Requirement already satisfied: portalocker<3,>=1.0 in /usr/local/lib/python3.10/dist-packages (from msal-extensions>=0.3.0->azure-identity->dpu-utils>=0.2.7->tf2_gnn) (2.8.2)\n",
            "Requirement already satisfied: charset-normalizer<4,>=2 in /usr/local/lib/python3.10/dist-packages (from requests<3,>=2.21.0->tensorboard<2.16,>=2.15->tensorflow>=2.0.0->tf2_gnn) (3.3.2)\n",
            "Requirement already satisfied: idna<4,>=2.5 in /usr/local/lib/python3.10/dist-packages (from requests<3,>=2.21.0->tensorboard<2.16,>=2.15->tensorflow>=2.0.0->tf2_gnn) (3.7)\n",
            "Requirement already satisfied: urllib3<3,>=1.21.1 in /usr/local/lib/python3.10/dist-packages (from requests<3,>=2.21.0->tensorboard<2.16,>=2.15->tensorflow>=2.0.0->tf2_gnn) (2.0.7)\n",
            "Requirement already satisfied: certifi>=2017.4.17 in /usr/local/lib/python3.10/dist-packages (from requests<3,>=2.21.0->tensorboard<2.16,>=2.15->tensorflow>=2.0.0->tf2_gnn) (2024.2.2)\n",
            "Requirement already satisfied: MarkupSafe>=2.1.1 in /usr/local/lib/python3.10/dist-packages (from werkzeug>=1.0.1->tensorboard<2.16,>=2.15->tensorflow>=2.0.0->tf2_gnn) (2.1.5)\n",
            "Requirement already satisfied: pyasn1<0.7.0,>=0.4.6 in /usr/local/lib/python3.10/dist-packages (from pyasn1-modules>=0.2.1->google-auth<3,>=1.6.3->tensorboard<2.16,>=2.15->tensorflow>=2.0.0->tf2_gnn) (0.6.0)\n",
            "Requirement already satisfied: oauthlib>=3.0.0 in /usr/local/lib/python3.10/dist-packages (from requests-oauthlib>=0.7.0->google-auth-oauthlib<2,>=0.5->tensorboard<2.16,>=2.15->tensorflow>=2.0.0->tf2_gnn) (3.2.2)\n"
          ]
        }
      ]
    },
    {
      "cell_type": "code",
      "source": [
        "!pip show tf2_gnn"
      ],
      "metadata": {
        "colab": {
          "base_uri": "https://localhost:8080/"
        },
        "id": "3iBohXMqHDp6",
        "outputId": "219c4a3d-3f81-43e4-a206-f2b5d2a361b1"
      },
      "execution_count": 71,
      "outputs": [
        {
          "output_type": "stream",
          "name": "stdout",
          "text": [
            "Name: tf2-gnn\n",
            "Version: 2.14.0\n",
            "Summary: TensorFlow 2.0 implementation of Graph Neural Networks.\n",
            "Home-page: https://github.com/microsoft/tf2-gnn/\n",
            "Author: Marc Brockschmidt\n",
            "Author-email: mabrocks@microsoft.com\n",
            "License: MIT\n",
            "Location: /usr/local/lib/python3.10/dist-packages\n",
            "Requires: dpu-utils, h5py, numpy, packaging, tensorflow\n",
            "Required-by: \n"
          ]
        }
      ]
    },
    {
      "cell_type": "code",
      "source": [
        "from tf2_gnn.layers.gnn import GNN, GNNInput"
      ],
      "metadata": {
        "id": "RC8k2eCnKP-L"
      },
      "execution_count": 72,
      "outputs": []
    },
    {
      "cell_type": "code",
      "source": [
        "gnn_input = GNNInput(\n",
        "    node_features=embeded,            # Node features for each node in the graph. This could be embeddings or other representations of node attributes.\n",
        "    adjacency_lists=(edge,),         # List of adjacency lists representing the graph structure. Each element corresponds to an edge and contains the indices of the connected nodes.\n",
        "    node_to_graph_map=node2graph,     # Mapping of node indices to the graph they belong to. This is useful when dealing with multiple graphs in the same dataset.\n",
        "    num_graphs=num_graph,            # Number of graphs in the dataset. This parameter specifies the total number of graphs the input represents.\n",
        ")\n",
        "\n",
        "\n",
        "# https://github.com/microsoft/tf2-gnn/blob/master/tf2_gnn/layers/gnn.py\n",
        "params = GNN.get_default_hyperparameters()\n",
        "params[\"hidden_dim\"] = 32\n",
        "params[\"message_calculation_class\"]= \"GGNN\"\n",
        "\n",
        "\n",
        "gnn_layer = GNN(params)\n",
        "\n",
        "gnn_out = gnn_layer(gnn_input )\n",
        "\n",
        "print('gnn_out', gnn_out)"
      ],
      "metadata": {
        "execution": {
          "iopub.status.busy": "2024-05-04T23:47:09.447598Z",
          "iopub.execute_input": "2024-05-04T23:47:09.448081Z",
          "iopub.status.idle": "2024-05-04T23:47:09.884036Z",
          "shell.execute_reply.started": "2024-05-04T23:47:09.448045Z",
          "shell.execute_reply": "2024-05-04T23:47:09.882108Z"
        },
        "trusted": true,
        "colab": {
          "base_uri": "https://localhost:8080/"
        },
        "id": "tvThHmYJEfRD",
        "outputId": "c69fe1f1-ec61-49aa-a68e-6bdaf78bb79e"
      },
      "execution_count": 73,
      "outputs": [
        {
          "output_type": "stream",
          "name": "stdout",
          "text": [
            "gnn_out KerasTensor(type_spec=TensorSpec(shape=(None, 32), dtype=tf.float32, name=None), name='gnn_5/StatefulPartitionedCall:0', description=\"created by layer 'gnn_5'\")\n"
          ]
        }
      ]
    },
    {
      "cell_type": "code",
      "source": [
        "avg = segment_mean( data=gnn_out,  segment_ids=node2graph )#[12 10 30 6]\n",
        "print('mean:', avg) # the number will be equal the batch size\n",
        "\n",
        "pred = Dense(1, activation='sigmoid')(avg)\n",
        "print('pred:', pred)\n",
        "\n",
        "\n",
        "model = Model(\n",
        "    inputs={\n",
        "        'data': data,\n",
        "        'edges': edge,\n",
        "        'node2grah': node2graph,\n",
        "    },\n",
        "    outputs=pred\n",
        ")\n",
        "\n",
        "model.summary()"
      ],
      "metadata": {
        "colab": {
          "base_uri": "https://localhost:8080/"
        },
        "id": "5WGygb7_KrDb",
        "outputId": "e62341a3-56ba-4e95-d360-fd449b5f95d4"
      },
      "execution_count": 74,
      "outputs": [
        {
          "output_type": "stream",
          "name": "stdout",
          "text": [
            "mean: KerasTensor(type_spec=TensorSpec(shape=(None, 32), dtype=tf.float32, name=None), name='tf.math.segment_mean_5/SegmentMean:0', description=\"created by layer 'tf.math.segment_mean_5'\")\n",
            "pred: KerasTensor(type_spec=TensorSpec(shape=(None, 1), dtype=tf.float32, name=None), name='dense_8/Sigmoid:0', description=\"created by layer 'dense_8'\")\n",
            "Model: \"model_5\"\n",
            "__________________________________________________________________________________________________\n",
            " Layer (type)                Output Shape                 Param #   Connected to                  \n",
            "==================================================================================================\n",
            " input_15 (InputLayer)       [(None,)]                    0         []                            \n",
            "                                                                                                  \n",
            " input_13 (InputLayer)       [(None,)]                    0         []                            \n",
            "                                                                                                  \n",
            " tf.math.reduce_max_5 (TFOp  ()                           0         ['input_15[0][0]']            \n",
            " Lambda)                                                                                          \n",
            "                                                                                                  \n",
            " embedding_5 (Embedding)     (None, 60)                   30000     ['input_13[0][0]']            \n",
            "                                                                                                  \n",
            " input_14 (InputLayer)       [(None, 2)]                  0         []                            \n",
            "                                                                                                  \n",
            " tf.__operators__.add_5 (TF  ()                           0         ['tf.math.reduce_max_5[0][0]']\n",
            " OpLambda)                                                                                        \n",
            "                                                                                                  \n",
            " gnn_5 (GNN)                 (None, 32)                   49088     ['embedding_5[0][0]',         \n",
            "                                                                     'input_14[0][0]',            \n",
            "                                                                     'input_15[0][0]',            \n",
            "                                                                     'tf.__operators__.add_5[0][0]\n",
            "                                                                    ']                            \n",
            "                                                                                                  \n",
            " tf.math.segment_mean_5 (TF  (None, 32)                   0         ['gnn_5[0][0]',               \n",
            " OpLambda)                                                           'input_15[0][0]']            \n",
            "                                                                                                  \n",
            " dense_8 (Dense)             (None, 1)                    33        ['tf.math.segment_mean_5[0][0]\n",
            "                                                                    ']                            \n",
            "                                                                                                  \n",
            "==================================================================================================\n",
            "Total params: 79121 (309.07 KB)\n",
            "Trainable params: 79121 (309.07 KB)\n",
            "Non-trainable params: 0 (0.00 Byte)\n",
            "__________________________________________________________________________________________________\n"
          ]
        }
      ]
    },
    {
      "cell_type": "code",
      "source": [
        "model.compile(\n",
        "    optimizer=tf.keras.optimizers.Adam(),\n",
        "    loss='BinaryCrossentropy',\n",
        "    metrics=['AUC']\n",
        ")"
      ],
      "metadata": {
        "id": "Z5NeajuOKyJ0"
      },
      "execution_count": 34,
      "outputs": []
    },
    {
      "cell_type": "code",
      "source": [
        "batch_size = 16\n",
        "\n",
        "num_batchs = math.ceil(len(training_set) / batch_size)\n",
        "num_batchs_validation = math.ceil(len(validation_set) / batch_size)\n",
        "\n",
        "\n",
        "history1 =model.fit(\n",
        "    gen_batch(\n",
        "        training_set, batch_size=batch_size, repeat=True\n",
        "    ),\n",
        "    steps_per_epoch=num_batchs,\n",
        "    epochs=10,\n",
        "    validation_data=gen_batch(\n",
        "        validation_set, batch_size=batch_size, repeat=True\n",
        "    ),\n",
        "    validation_steps=num_batchs_validation,\n",
        ")\n",
        "\n",
        "#---------------------------------------------------\n",
        "\n",
        "y_pred = model.predict(\n",
        "    gen_batch(testing_set, batch_size=batch_size, shuffle=False)\n",
        ")\n",
        "y_pred = np.reshape(y_pred, -1)\n",
        "\n",
        "#-------------------------------------------------------\n",
        "\n",
        "submission = pd.DataFrame({'label':y_pred})\n",
        "submission.index.name = 'id'\n",
        "submission.to_csv('trail_1.csv')\n",
        "print(\"Finish This trial\")"
      ],
      "metadata": {
        "execution": {
          "iopub.status.busy": "2024-05-04T23:30:17.308806Z",
          "iopub.execute_input": "2024-05-04T23:30:17.309297Z",
          "iopub.status.idle": "2024-05-04T23:30:18.306112Z",
          "shell.execute_reply.started": "2024-05-04T23:30:17.309262Z",
          "shell.execute_reply": "2024-05-04T23:30:18.303819Z"
        },
        "trusted": true,
        "colab": {
          "base_uri": "https://localhost:8080/"
        },
        "id": "ce0r0eYKEfRD",
        "outputId": "19224958-f41f-4345-9fa7-9fad3c9f71f9"
      },
      "execution_count": 35,
      "outputs": [
        {
          "output_type": "stream",
          "name": "stdout",
          "text": [
            "Epoch 1/10\n",
            "1330/1330 [==============================] - 49s 31ms/step - loss: 0.1983 - auc: 0.6223 - val_loss: 0.1686 - val_auc: 0.6897\n",
            "Epoch 2/10\n",
            "1330/1330 [==============================] - 37s 28ms/step - loss: 0.1897 - auc: 0.6500 - val_loss: 0.1709 - val_auc: 0.6790\n",
            "Epoch 3/10\n",
            "1330/1330 [==============================] - 39s 29ms/step - loss: 0.1849 - auc: 0.6813 - val_loss: 0.1653 - val_auc: 0.6998\n",
            "Epoch 4/10\n",
            "1330/1330 [==============================] - 37s 28ms/step - loss: 0.1803 - auc: 0.7056 - val_loss: 0.1642 - val_auc: 0.7060\n",
            "Epoch 5/10\n",
            "1330/1330 [==============================] - 38s 29ms/step - loss: 0.1773 - auc: 0.7267 - val_loss: 0.1688 - val_auc: 0.7376\n",
            "Epoch 6/10\n",
            "1330/1330 [==============================] - 40s 30ms/step - loss: 0.1733 - auc: 0.7407 - val_loss: 0.1593 - val_auc: 0.7648\n",
            "Epoch 7/10\n",
            "1330/1330 [==============================] - 39s 30ms/step - loss: 0.1723 - auc: 0.7463 - val_loss: 0.1557 - val_auc: 0.7530\n",
            "Epoch 8/10\n",
            "1330/1330 [==============================] - 40s 30ms/step - loss: 0.1691 - auc: 0.7651 - val_loss: 0.1605 - val_auc: 0.7405\n",
            "Epoch 9/10\n",
            "1330/1330 [==============================] - 36s 27ms/step - loss: 0.1672 - auc: 0.7756 - val_loss: 0.1536 - val_auc: 0.8029\n",
            "Epoch 10/10\n",
            "1330/1330 [==============================] - 38s 28ms/step - loss: 0.1653 - auc: 0.7847 - val_loss: 0.1549 - val_auc: 0.7806\n",
            "771/771 [==============================] - 9s 12ms/step\n",
            "Finish This trial\n"
          ]
        }
      ]
    },
    {
      "cell_type": "markdown",
      "source": [
        "# Trial 2\n",
        "\n",
        "The RGAT mechanism\n",
        "\n",
        "A specific kind of neural network intended to function with graph-structured data is called the relational graph attention network. Three essential parts make up the RGAT mechanism: input, graph attention, and output.\n",
        "\n",
        "The input component receives a graph represented as a set of nodes and edges, which are subsequently converted by shared neural network layers into initial node embeddings and edge features. The graph attention component receives these initial embeddings and features and uses attention processes to determine the relative relevance of various nodes and edges in the graph structure. Iteratively applying this attention process across several layers results in updated node embeddings and edge features for each layer, which are based on attention weights from the preceding layer.\n",
        "\n",
        "The final predictions are then produced by the output component using the modified node embeddings. Depending on the particular task at hand, this output may take several forms, including edge prediction, node classification, or graph classification."
      ],
      "metadata": {
        "id": "Rd4FeRgKMwon"
      }
    },
    {
      "cell_type": "code",
      "source": [
        "edge = keras.Input(batch_shape=(None, 2), dtype=tf.int32)\n",
        "node2graph = keras.Input(batch_shape=(None,), dtype=tf.int32)\n",
        "embedded = Embedding(tokenizer.num_words, 20)(data)\n",
        "\n",
        "# number of graphs (number of samples)\n",
        "num_graph = tf.reduce_max(node2graph) + 1\n",
        "\n",
        "gnn_input = GNNInput(\n",
        "    node_features=embedded,\n",
        "    adjacency_lists=(edge,),\n",
        "    node_to_graph_map=node2graph,\n",
        "    num_graphs=num_graph,\n",
        ")\n",
        "\n",
        "# https://github.com/microsoft/tf2-gnn/blob/master/tf2_gnn/layers/gnn.py\n",
        "params = GNN.get_default_hyperparameters()\n",
        "params[\"hidden_dim\"] = 32\n",
        "params['num_layers'] = 32\n",
        "params[\"message_passing\"] = \"RGAT\"\n",
        "params[\"initial_node_representation_activation\"] = \"relu\"\n",
        "gnn_layer = GNN(params)\n",
        "gnn_out = gnn_layer(gnn_input)\n",
        "\n",
        "print('gnn_out', gnn_out)\n",
        "\n",
        "# https://www.tensorflow.org/api_docs/python/tf/math/segment_mean\n",
        "print(gnn_out)\n",
        "avg = segment_mean(\n",
        "    data=gnn_out,\n",
        "    segment_ids=node2graph\n",
        ")\n",
        "print('mean:', avg)\n",
        "\n",
        "pred = Dense(1, activation='sigmoid')(avg)\n",
        "print('pred:', pred)\n",
        "\n",
        "model = Model(\n",
        "    inputs={\n",
        "        'data': data,\n",
        "        'edges': edge,\n",
        "        'node2grah': node2graph,\n",
        "    },\n",
        "    outputs=pred\n",
        ")\n",
        "model.summary()"
      ],
      "metadata": {
        "colab": {
          "base_uri": "https://localhost:8080/"
        },
        "id": "JxwF24o7Mzm-",
        "outputId": "e43fdc59-0d7f-4dad-8d04-d4bb3358f21b"
      },
      "execution_count": 36,
      "outputs": [
        {
          "output_type": "stream",
          "name": "stdout",
          "text": [
            "gnn_out KerasTensor(type_spec=TensorSpec(shape=(None, 32), dtype=tf.float32, name=None), name='gnn_1/StatefulPartitionedCall:0', description=\"created by layer 'gnn_1'\")\n",
            "KerasTensor(type_spec=TensorSpec(shape=(None, 32), dtype=tf.float32, name=None), name='gnn_1/StatefulPartitionedCall:0', description=\"created by layer 'gnn_1'\")\n",
            "mean: KerasTensor(type_spec=TensorSpec(shape=(None, 32), dtype=tf.float32, name=None), name='tf.math.segment_mean_1/SegmentMean:0', description=\"created by layer 'tf.math.segment_mean_1'\")\n",
            "pred: KerasTensor(type_spec=TensorSpec(shape=(None, 1), dtype=tf.float32, name=None), name='dense_1/Sigmoid:0', description=\"created by layer 'dense_1'\")\n",
            "Model: \"model_1\"\n",
            "__________________________________________________________________________________________________\n",
            " Layer (type)                Output Shape                 Param #   Connected to                  \n",
            "==================================================================================================\n",
            " input_5 (InputLayer)        [(None,)]                    0         []                            \n",
            "                                                                                                  \n",
            " input_1 (InputLayer)        [(None,)]                    0         []                            \n",
            "                                                                                                  \n",
            " tf.math.reduce_max_1 (TFOp  ()                           0         ['input_5[0][0]']             \n",
            " Lambda)                                                                                          \n",
            "                                                                                                  \n",
            " embedding_1 (Embedding)     (None, 20)                   10000     ['input_1[0][0]']             \n",
            "                                                                                                  \n",
            " input_4 (InputLayer)        [(None, 2)]                  0         []                            \n",
            "                                                                                                  \n",
            " tf.__operators__.add_1 (TF  ()                           0         ['tf.math.reduce_max_1[0][0]']\n",
            " OpLambda)                                                                                        \n",
            "                                                                                                  \n",
            " gnn_1 (GNN)                 (None, 32)                   284992    ['embedding_1[0][0]',         \n",
            "                                                                     'input_4[0][0]',             \n",
            "                                                                     'input_5[0][0]',             \n",
            "                                                                     'tf.__operators__.add_1[0][0]\n",
            "                                                                    ']                            \n",
            "                                                                                                  \n",
            " tf.math.segment_mean_1 (TF  (None, 32)                   0         ['gnn_1[0][0]',               \n",
            " OpLambda)                                                           'input_5[0][0]']             \n",
            "                                                                                                  \n",
            " dense_1 (Dense)             (None, 1)                    33        ['tf.math.segment_mean_1[0][0]\n",
            "                                                                    ']                            \n",
            "                                                                                                  \n",
            "==================================================================================================\n",
            "Total params: 295025 (1.13 MB)\n",
            "Trainable params: 295025 (1.13 MB)\n",
            "Non-trainable params: 0 (0.00 Byte)\n",
            "__________________________________________________________________________________________________\n"
          ]
        }
      ]
    },
    {
      "cell_type": "code",
      "source": [
        "model.compile(\n",
        "    optimizer=tf.keras.optimizers.Adam(),\n",
        "    loss='BinaryCrossentropy',\n",
        "    metrics=['AUC']\n",
        ")"
      ],
      "metadata": {
        "id": "f_YBaVKHNNQ7"
      },
      "execution_count": 37,
      "outputs": []
    },
    {
      "cell_type": "code",
      "source": [
        "batch_size = 16\n",
        "\n",
        "num_batchs = math.ceil(len(training_set) / batch_size)\n",
        "num_batchs_validation = math.ceil(len(validation_set) / batch_size)\n",
        "\n",
        "\n",
        "history2 =model.fit(\n",
        "    gen_batch(\n",
        "        training_set, batch_size=batch_size, repeat=True\n",
        "    ),\n",
        "    steps_per_epoch=num_batchs,\n",
        "    epochs=10,\n",
        "    validation_data=gen_batch(\n",
        "        validation_set, batch_size=batch_size, repeat=True\n",
        "    ),\n",
        "    validation_steps=num_batchs_validation,\n",
        ")\n",
        "\n",
        "#---------------------------------------------------\n",
        "\n",
        "y_pred = model.predict(\n",
        "    gen_batch(testing_set, batch_size=batch_size, shuffle=False)\n",
        ")\n",
        "y_pred = np.reshape(y_pred, -1)\n",
        "\n",
        "#-------------------------------------------------------\n",
        "\n",
        "submission = pd.DataFrame({'label':y_pred})\n",
        "submission.index.name = 'id'\n",
        "submission.to_csv('trail_2.csv')\n",
        "print(\"Finish This trial\")"
      ],
      "metadata": {
        "colab": {
          "base_uri": "https://localhost:8080/"
        },
        "id": "X0tkcUw1NT-i",
        "outputId": "dcbe6039-0ea1-4dbc-d7b7-f43006dbbed2"
      },
      "execution_count": 38,
      "outputs": [
        {
          "output_type": "stream",
          "name": "stdout",
          "text": [
            "Epoch 1/10\n",
            "1330/1330 [==============================] - 292s 192ms/step - loss: 0.2488 - auc: 0.4187 - val_loss: 0.1876 - val_auc: 0.4971\n",
            "Epoch 2/10\n",
            "1330/1330 [==============================] - 230s 173ms/step - loss: 0.2057 - auc: 0.5276 - val_loss: 0.1860 - val_auc: 0.5005\n",
            "Epoch 3/10\n",
            "1330/1330 [==============================] - 256s 193ms/step - loss: 0.1995 - auc: 0.5766 - val_loss: 0.1848 - val_auc: 0.6433\n",
            "Epoch 4/10\n",
            "1330/1330 [==============================] - 264s 199ms/step - loss: 0.1964 - auc: 0.6096 - val_loss: 0.1710 - val_auc: 0.6547\n",
            "Epoch 5/10\n",
            "1330/1330 [==============================] - 210s 158ms/step - loss: 0.1932 - auc: 0.6382 - val_loss: 0.1756 - val_auc: 0.6665\n",
            "Epoch 6/10\n",
            "1330/1330 [==============================] - 220s 165ms/step - loss: 0.1949 - auc: 0.6246 - val_loss: 0.1758 - val_auc: 0.6472\n",
            "Epoch 7/10\n",
            "1330/1330 [==============================] - 208s 157ms/step - loss: 0.1938 - auc: 0.6201 - val_loss: 0.1704 - val_auc: 0.6435\n",
            "Epoch 8/10\n",
            "1330/1330 [==============================] - 205s 154ms/step - loss: 0.1946 - auc: 0.6183 - val_loss: 0.1712 - val_auc: 0.6382\n",
            "Epoch 9/10\n",
            "1330/1330 [==============================] - 208s 157ms/step - loss: 0.1930 - auc: 0.6314 - val_loss: 0.1717 - val_auc: 0.6572\n",
            "Epoch 10/10\n",
            "1330/1330 [==============================] - 218s 164ms/step - loss: 0.1913 - auc: 0.6444 - val_loss: 0.1713 - val_auc: 0.6665\n",
            "771/771 [==============================] - 37s 44ms/step\n",
            "Finish This trial\n"
          ]
        }
      ]
    },
    {
      "cell_type": "markdown",
      "source": [
        "# Trial 3\n",
        "\n",
        "GNN with Edge MLPs Mechanism\n",
        "\n",
        "Every edge in the graph has a unique MLP assigned to it by the Edge MLPs mechanism. These MLPs generate an output that represents the converted edge information using the features of the edge and the connected nodes as inputs. In the following message passing steps, the outputs from the Edge MLPs are coupled with the node representations, allowing the GNN to integrate edge-specific data into the node-level calculations.\n",
        "\n",
        "GNNs are able to capture more intricate interactions and dependencies between nodes through their connecting edges by integrating Edge MLPs.\n"
      ],
      "metadata": {
        "id": "TeFerLKVN07N"
      }
    },
    {
      "cell_type": "code",
      "source": [
        "edge = keras.Input(batch_shape=(None, 2), dtype=tf.int32)\n",
        "node2graph = keras.Input(batch_shape=(None,), dtype=tf.int32)\n",
        "embedded = Embedding(tokenizer.num_words, 150)(data)\n",
        "\n",
        "# number of graphs (number of samples)\n",
        "num_graph = tf.reduce_max(node2graph) + 1\n",
        "\n",
        "gnn_input = GNNInput(\n",
        "    node_features=embedded,\n",
        "    adjacency_lists=(edge,),\n",
        "    node_to_graph_map=node2graph,\n",
        "    num_graphs=num_graph,\n",
        ")\n",
        "\n",
        "# https://github.com/microsoft/tf2-gnn/blob/master/tf2_gnn/layers/gnn.py\n",
        "params = GNN.get_default_hyperparameters()\n",
        "params[\"hidden_dim\"] = 64\n",
        "#defining hidden dimension of the gnn layer(the output of all message passing layers)\n",
        "params[\"message_calculation_class\"] = 'gnn_edge_mlp'\n",
        "params[\"num_aggr_MLP_hidden_layers\"] = 4\n",
        "#gnn layer with defined hyperparameters\n",
        "gnn_layer = GNN(params)\n",
        "\n",
        "#gnn output layer\n",
        "#outpur shape: [data_dimension,hidden layers]\n",
        "gnn_out = gnn_layer(gnn_input)\n",
        "\n",
        "print('gnn_out', gnn_out)\n",
        "\n",
        "# https://www.tensorflow.org/api_docs/python/tf/math/segment_mean\n",
        "print(gnn_out)\n",
        "avg = segment_mean(\n",
        "    data=gnn_out,\n",
        "    segment_ids=node2graph\n",
        ")\n",
        "print('mean:', avg)\n",
        "\n",
        "fc1 = Dense(8,activation='relu')(avg)\n",
        "pred = Dense(1, activation='sigmoid')(fc1)\n",
        "print('pred:', pred)\n",
        "\n",
        "model = Model(\n",
        "    inputs={\n",
        "        'data': data,\n",
        "        'edges': edge,\n",
        "        'node2grah': node2graph,\n",
        "    },\n",
        "    outputs=pred\n",
        ")\n",
        "\n",
        "model.summary()"
      ],
      "metadata": {
        "colab": {
          "base_uri": "https://localhost:8080/"
        },
        "id": "cTMH9vpYN_LJ",
        "outputId": "3d3eb790-db09-4880-f401-1d54312b69e7"
      },
      "execution_count": 39,
      "outputs": [
        {
          "output_type": "stream",
          "name": "stdout",
          "text": [
            "gnn_out KerasTensor(type_spec=TensorSpec(shape=(None, 64), dtype=tf.float32, name=None), name='gnn_2/StatefulPartitionedCall:0', description=\"created by layer 'gnn_2'\")\n",
            "KerasTensor(type_spec=TensorSpec(shape=(None, 64), dtype=tf.float32, name=None), name='gnn_2/StatefulPartitionedCall:0', description=\"created by layer 'gnn_2'\")\n",
            "mean: KerasTensor(type_spec=TensorSpec(shape=(None, 64), dtype=tf.float32, name=None), name='tf.math.segment_mean_2/SegmentMean:0', description=\"created by layer 'tf.math.segment_mean_2'\")\n",
            "pred: KerasTensor(type_spec=TensorSpec(shape=(None, 1), dtype=tf.float32, name=None), name='dense_3/Sigmoid:0', description=\"created by layer 'dense_3'\")\n",
            "Model: \"model_2\"\n",
            "__________________________________________________________________________________________________\n",
            " Layer (type)                Output Shape                 Param #   Connected to                  \n",
            "==================================================================================================\n",
            " input_7 (InputLayer)        [(None,)]                    0         []                            \n",
            "                                                                                                  \n",
            " input_1 (InputLayer)        [(None,)]                    0         []                            \n",
            "                                                                                                  \n",
            " tf.math.reduce_max_2 (TFOp  ()                           0         ['input_7[0][0]']             \n",
            " Lambda)                                                                                          \n",
            "                                                                                                  \n",
            " embedding_2 (Embedding)     (None, 150)                  75000     ['input_1[0][0]']             \n",
            "                                                                                                  \n",
            " input_6 (InputLayer)        [(None, 2)]                  0         []                            \n",
            "                                                                                                  \n",
            " tf.__operators__.add_2 (TF  ()                           0         ['tf.math.reduce_max_2[0][0]']\n",
            " OpLambda)                                                                                        \n",
            "                                                                                                  \n",
            " gnn_2 (GNN)                 (None, 64)                   79872     ['embedding_2[0][0]',         \n",
            "                                                                     'input_6[0][0]',             \n",
            "                                                                     'input_7[0][0]',             \n",
            "                                                                     'tf.__operators__.add_2[0][0]\n",
            "                                                                    ']                            \n",
            "                                                                                                  \n",
            " tf.math.segment_mean_2 (TF  (None, 64)                   0         ['gnn_2[0][0]',               \n",
            " OpLambda)                                                           'input_7[0][0]']             \n",
            "                                                                                                  \n",
            " dense_2 (Dense)             (None, 8)                    520       ['tf.math.segment_mean_2[0][0]\n",
            "                                                                    ']                            \n",
            "                                                                                                  \n",
            " dense_3 (Dense)             (None, 1)                    9         ['dense_2[0][0]']             \n",
            "                                                                                                  \n",
            "==================================================================================================\n",
            "Total params: 155401 (607.04 KB)\n",
            "Trainable params: 155401 (607.04 KB)\n",
            "Non-trainable params: 0 (0.00 Byte)\n",
            "__________________________________________________________________________________________________\n"
          ]
        }
      ]
    },
    {
      "cell_type": "code",
      "source": [
        "model.compile(\n",
        "    optimizer=tf.keras.optimizers.Adam(),\n",
        "    loss='BinaryCrossentropy',\n",
        "    metrics=['AUC']\n",
        ")"
      ],
      "metadata": {
        "id": "vzvvFt81OJ_A"
      },
      "execution_count": 40,
      "outputs": []
    },
    {
      "cell_type": "code",
      "source": [
        "batch_size = 16\n",
        "\n",
        "num_batchs = math.ceil(len(training_set) / batch_size)\n",
        "num_batchs_validation = math.ceil(len(validation_set) / batch_size)\n",
        "\n",
        "\n",
        "history3 =model.fit(\n",
        "    gen_batch(\n",
        "        training_set, batch_size=batch_size, repeat=True\n",
        "    ),\n",
        "    steps_per_epoch=num_batchs,\n",
        "    epochs=10,\n",
        "    validation_data=gen_batch(\n",
        "        validation_set, batch_size=batch_size, repeat=True\n",
        "    ),\n",
        "    validation_steps=num_batchs_validation,\n",
        ")\n",
        "\n",
        "#---------------------------------------------------\n",
        "\n",
        "y_pred = model.predict(\n",
        "    gen_batch(testing_set, batch_size=batch_size, shuffle=False)\n",
        ")\n",
        "y_pred = np.reshape(y_pred, -1)\n",
        "\n",
        "#-------------------------------------------------------\n",
        "\n",
        "submission = pd.DataFrame({'label':y_pred})\n",
        "submission.index.name = 'id'\n",
        "submission.to_csv('trail_3.csv')\n",
        "print(\"Finish This trial\")"
      ],
      "metadata": {
        "colab": {
          "base_uri": "https://localhost:8080/"
        },
        "id": "9aozvGdeORl9",
        "outputId": "d758ff3e-7f6a-4902-9d3c-5e536096f15e"
      },
      "execution_count": 41,
      "outputs": [
        {
          "output_type": "stream",
          "name": "stdout",
          "text": [
            "Epoch 1/10\n",
            "1330/1330 [==============================] - 42s 29ms/step - loss: 0.2279 - auc: 0.5196 - val_loss: 0.2154 - val_auc: 0.5919\n",
            "Epoch 2/10\n",
            "1330/1330 [==============================] - 42s 32ms/step - loss: 0.1891 - auc: 0.6599 - val_loss: 0.1720 - val_auc: 0.6610\n",
            "Epoch 3/10\n",
            "1330/1330 [==============================] - 40s 30ms/step - loss: 0.1818 - auc: 0.7055 - val_loss: 0.1682 - val_auc: 0.6716\n",
            "Epoch 4/10\n",
            "1330/1330 [==============================] - 40s 30ms/step - loss: 0.1786 - auc: 0.7226 - val_loss: 0.1705 - val_auc: 0.7509\n",
            "Epoch 5/10\n",
            "1330/1330 [==============================] - 42s 31ms/step - loss: 0.1768 - auc: 0.7369 - val_loss: 0.1594 - val_auc: 0.7372\n",
            "Epoch 6/10\n",
            "1330/1330 [==============================] - 41s 31ms/step - loss: 0.1738 - auc: 0.7502 - val_loss: 0.1734 - val_auc: 0.6809\n",
            "Epoch 7/10\n",
            "1330/1330 [==============================] - 40s 30ms/step - loss: 0.1720 - auc: 0.7571 - val_loss: 0.1490 - val_auc: 0.7593\n",
            "Epoch 8/10\n",
            "1330/1330 [==============================] - 40s 30ms/step - loss: 0.1705 - auc: 0.7668 - val_loss: 0.1576 - val_auc: 0.7606\n",
            "Epoch 9/10\n",
            "1330/1330 [==============================] - 41s 31ms/step - loss: 0.1704 - auc: 0.7680 - val_loss: 0.1641 - val_auc: 0.7295\n",
            "Epoch 10/10\n",
            "1330/1330 [==============================] - 48s 36ms/step - loss: 0.1689 - auc: 0.7785 - val_loss: 0.1583 - val_auc: 0.7684\n",
            "771/771 [==============================] - 9s 11ms/step\n",
            "Finish This trial\n"
          ]
        }
      ]
    },
    {
      "cell_type": "markdown",
      "source": [
        "# Trial 4\n",
        "\n",
        " improve the performance of the GCN model by incorporating additional modifications to the model and the training process."
      ],
      "metadata": {
        "id": "9-OT_NrvPCFG"
      }
    },
    {
      "cell_type": "code",
      "source": [
        "edge = keras.Input(batch_shape=(None, 2), dtype=tf.int32)\n",
        "node2graph = keras.Input(batch_shape=(None,), dtype=tf.int32)\n",
        "embedded = Embedding(tokenizer.num_words, 60)(data)\n",
        "\n",
        "# number of graphs (number of samples)\n",
        "num_graph = tf.reduce_max(node2graph) + 1\n",
        "\n",
        "gnn_input = GNNInput(\n",
        "    node_features=embedded,\n",
        "    adjacency_lists=(edge,),\n",
        "    node_to_graph_map=node2graph,\n",
        "    num_graphs=num_graph,\n",
        ")\n",
        "\n",
        "# https://github.com/microsoft/tf2-gnn/blob/master/tf2_gnn/layers/gnn.py\n",
        "params = GNN.get_default_hyperparameters()\n",
        "params[\"hidden_dim\"] = 32\n",
        "#defining hidden dimension of the gnn layer(the output of all message passing layers)\n",
        "params[\"message_calculation_class\"]= \"GGNN\" # Gated Graph Neural Networks\n",
        "#gnn layer with defined hyperparameters\n",
        "gnn_layer = GNN(params)\n",
        "\n",
        "#gnn output layer\n",
        "#outpur shape: [data_dimension,hidden layers]\n",
        "gnn_out = gnn_layer(gnn_input)\n",
        "\n",
        "print('gnn_out', gnn_out)\n",
        "\n",
        "# https://www.tensorflow.org/api_docs/python/tf/math/segment_mean\n",
        "print(gnn_out)\n",
        "avg = segment_mean(\n",
        "    data=gnn_out,\n",
        "    segment_ids=node2graph\n",
        ")\n",
        "print('mean:', avg)\n",
        "\n",
        "fc1 = Dense(8,activation='relu')(avg)\n",
        "pred = Dense(1, activation='sigmoid')(fc1)\n",
        "print('pred:', pred)\n",
        "\n",
        "model_4 = Model(\n",
        "    inputs={\n",
        "        'data': data,\n",
        "        'edges': edge,\n",
        "        'node2grah': node2graph,\n",
        "    },\n",
        "    outputs=pred\n",
        ")\n",
        "\n",
        "model.summary()"
      ],
      "metadata": {
        "colab": {
          "base_uri": "https://localhost:8080/"
        },
        "id": "tKw3uGLQPF52",
        "outputId": "a2e2c926-e75f-4a1d-c35b-d9f371091fca"
      },
      "execution_count": 42,
      "outputs": [
        {
          "output_type": "stream",
          "name": "stdout",
          "text": [
            "gnn_out KerasTensor(type_spec=TensorSpec(shape=(None, 32), dtype=tf.float32, name=None), name='gnn_3/StatefulPartitionedCall:0', description=\"created by layer 'gnn_3'\")\n",
            "KerasTensor(type_spec=TensorSpec(shape=(None, 32), dtype=tf.float32, name=None), name='gnn_3/StatefulPartitionedCall:0', description=\"created by layer 'gnn_3'\")\n",
            "mean: KerasTensor(type_spec=TensorSpec(shape=(None, 32), dtype=tf.float32, name=None), name='tf.math.segment_mean_3/SegmentMean:0', description=\"created by layer 'tf.math.segment_mean_3'\")\n",
            "pred: KerasTensor(type_spec=TensorSpec(shape=(None, 1), dtype=tf.float32, name=None), name='dense_5/Sigmoid:0', description=\"created by layer 'dense_5'\")\n",
            "Model: \"model_2\"\n",
            "__________________________________________________________________________________________________\n",
            " Layer (type)                Output Shape                 Param #   Connected to                  \n",
            "==================================================================================================\n",
            " input_7 (InputLayer)        [(None,)]                    0         []                            \n",
            "                                                                                                  \n",
            " input_1 (InputLayer)        [(None,)]                    0         []                            \n",
            "                                                                                                  \n",
            " tf.math.reduce_max_2 (TFOp  ()                           0         ['input_7[0][0]']             \n",
            " Lambda)                                                                                          \n",
            "                                                                                                  \n",
            " embedding_2 (Embedding)     (None, 150)                  75000     ['input_1[0][0]']             \n",
            "                                                                                                  \n",
            " input_6 (InputLayer)        [(None, 2)]                  0         []                            \n",
            "                                                                                                  \n",
            " tf.__operators__.add_2 (TF  ()                           0         ['tf.math.reduce_max_2[0][0]']\n",
            " OpLambda)                                                                                        \n",
            "                                                                                                  \n",
            " gnn_2 (GNN)                 (None, 64)                   79872     ['embedding_2[0][0]',         \n",
            "                                                                     'input_6[0][0]',             \n",
            "                                                                     'input_7[0][0]',             \n",
            "                                                                     'tf.__operators__.add_2[0][0]\n",
            "                                                                    ']                            \n",
            "                                                                                                  \n",
            " tf.math.segment_mean_2 (TF  (None, 64)                   0         ['gnn_2[0][0]',               \n",
            " OpLambda)                                                           'input_7[0][0]']             \n",
            "                                                                                                  \n",
            " dense_2 (Dense)             (None, 8)                    520       ['tf.math.segment_mean_2[0][0]\n",
            "                                                                    ']                            \n",
            "                                                                                                  \n",
            " dense_3 (Dense)             (None, 1)                    9         ['dense_2[0][0]']             \n",
            "                                                                                                  \n",
            "==================================================================================================\n",
            "Total params: 155401 (607.04 KB)\n",
            "Trainable params: 155401 (607.04 KB)\n",
            "Non-trainable params: 0 (0.00 Byte)\n",
            "__________________________________________________________________________________________________\n"
          ]
        }
      ]
    },
    {
      "cell_type": "code",
      "source": [
        "model.compile(\n",
        "    optimizer=tf.keras.optimizers.Adam(),\n",
        "    loss='BinaryCrossentropy',\n",
        "    metrics=['AUC']\n",
        ")"
      ],
      "metadata": {
        "id": "zK9UiBFSPR-s"
      },
      "execution_count": 43,
      "outputs": []
    },
    {
      "cell_type": "code",
      "source": [
        "batch_size = 16\n",
        "\n",
        "num_batchs = math.ceil(len(training_set) / batch_size)\n",
        "num_batchs_validation = math.ceil(len(validation_set) / batch_size)\n",
        "\n",
        "\n",
        "history4 =model.fit(\n",
        "    gen_batch(\n",
        "        training_set, batch_size=batch_size, repeat=True\n",
        "    ),\n",
        "    steps_per_epoch=num_batchs,\n",
        "    epochs=10,\n",
        "    validation_data=gen_batch(\n",
        "        validation_set, batch_size=batch_size, repeat=True\n",
        "    ),\n",
        "    validation_steps=num_batchs_validation,\n",
        ")\n",
        "\n",
        "#---------------------------------------------------\n",
        "\n",
        "y_pred = model.predict(\n",
        "    gen_batch(testing_set, batch_size=batch_size, shuffle=False)\n",
        ")\n",
        "y_pred = np.reshape(y_pred, -1)\n",
        "\n",
        "#-------------------------------------------------------\n",
        "\n",
        "submission = pd.DataFrame({'label':y_pred})\n",
        "submission.index.name = 'id'\n",
        "submission.to_csv('trail_4.csv')\n",
        "print(\"Finish This trial\")"
      ],
      "metadata": {
        "colab": {
          "base_uri": "https://localhost:8080/"
        },
        "id": "CqZxZ5YJPixk",
        "outputId": "1dad8669-9e4b-4f75-86bc-8509cadf6cde"
      },
      "execution_count": 44,
      "outputs": [
        {
          "output_type": "stream",
          "name": "stdout",
          "text": [
            "Epoch 1/10\n",
            "1330/1330 [==============================] - 45s 31ms/step - loss: 0.1689 - auc: 0.7782 - val_loss: 0.1623 - val_auc: 0.7383\n",
            "Epoch 2/10\n",
            "1330/1330 [==============================] - 38s 28ms/step - loss: 0.1689 - auc: 0.7740 - val_loss: 0.1604 - val_auc: 0.7390\n",
            "Epoch 3/10\n",
            "1330/1330 [==============================] - 41s 31ms/step - loss: 0.1677 - auc: 0.7803 - val_loss: 0.1493 - val_auc: 0.7672\n",
            "Epoch 4/10\n",
            "1330/1330 [==============================] - 38s 29ms/step - loss: 0.1647 - auc: 0.7910 - val_loss: 0.1555 - val_auc: 0.7858\n",
            "Epoch 5/10\n",
            "1330/1330 [==============================] - 39s 29ms/step - loss: 0.1648 - auc: 0.7942 - val_loss: 0.1549 - val_auc: 0.7820\n",
            "Epoch 6/10\n",
            "1330/1330 [==============================] - 41s 31ms/step - loss: 0.1643 - auc: 0.7962 - val_loss: 0.1606 - val_auc: 0.7496\n",
            "Epoch 7/10\n",
            "1330/1330 [==============================] - 39s 29ms/step - loss: 0.1651 - auc: 0.7965 - val_loss: 0.1512 - val_auc: 0.7821\n",
            "Epoch 8/10\n",
            "1330/1330 [==============================] - 40s 30ms/step - loss: 0.1670 - auc: 0.7859 - val_loss: 0.1575 - val_auc: 0.7642\n",
            "Epoch 9/10\n",
            "1330/1330 [==============================] - 39s 29ms/step - loss: 0.1646 - auc: 0.7945 - val_loss: 0.1646 - val_auc: 0.7564\n",
            "Epoch 10/10\n",
            "1330/1330 [==============================] - 40s 30ms/step - loss: 0.1636 - auc: 0.7982 - val_loss: 0.1537 - val_auc: 0.7686\n",
            "771/771 [==============================] - 8s 10ms/step\n",
            "Finish This trial\n"
          ]
        }
      ]
    },
    {
      "cell_type": "markdown",
      "source": [
        "# Trial 5\n",
        "\n",
        "RGIN\n",
        "\n",
        "An architecture for a graph neural network called the Relational Graph Isomorphism Network focuses on obtaining relational information between nodes in a graph. RGIN incorporates a relational graph isomorphism module to handle the problem of differentiating between nodes with identical structural attributes.\n",
        "RGIN can learn node representations that are invariant to isomorphic transformations with the help of the relational graph isomorphism module. RGIN is able to distinguish nodes according to their distinct connections with neighboring nodes by comparing their structural patterns within a small neighborhood.\n"
      ],
      "metadata": {
        "id": "EVs-smrCYHgC"
      }
    },
    {
      "cell_type": "code",
      "source": [
        "#Input layer for nodes (tokenized text data)\n",
        "data = keras.Input(batch_shape=(None,))\n",
        "# the first dim is different to the previous one. it is the total number of edges in this batch\n",
        "#Input layer for edge data\n",
        "edge = keras.Input(batch_shape=(None, 2), dtype=tf.int32)\n",
        "#Input layer for node2graph ids\n",
        "node2graph = keras.Input(batch_shape=(None,), dtype=tf.int32)\n",
        "#embedding layer over data with each token embedded as  size vector\n",
        "embeded = Embedding(tokenizer.num_words, 150)(data)"
      ],
      "metadata": {
        "id": "cd6IJSX0YHIN"
      },
      "execution_count": 75,
      "outputs": []
    },
    {
      "cell_type": "code",
      "source": [
        "num_graph = tf.reduce_max(node2graph)+1\n",
        "#gnn_input layer with inputs as defined above\n",
        "gnn_input = GNNInput(\n",
        "    node_features=embeded,\n",
        "    adjacency_lists=(edge,),\n",
        "    node_to_graph_map=node2graph,\n",
        "    num_graphs=num_graph,\n",
        ")\n",
        "\n",
        "#defining hyperparameters for GNN layer\n",
        "params = GNN.get_default_hyperparameters()\n",
        "#defining hidden dimension of the gnn layer\n",
        "params[\"hidden_dim\"] = 64\n",
        "#Relational Graph Isomorphism Networks\n",
        "params[\"message_calculation_class\"] = 'RGIN'\n",
        "# params[\"num_edge_MLP_hidden_layers\"] = 32 ##\n",
        "params[\"num_aggr_MLP_hidden_layers\"] = 6\n",
        "#gnn layer with defined hyperparameters\n",
        "gnn_layer = GNN(params)\n",
        "\n",
        "#gnn output layer\n",
        "#outpur shape: [data_dimension,hidden layers]\n",
        "gnn_out = gnn_layer(gnn_input)\n",
        "\n",
        "print('gnn_out', gnn_out)\n",
        "\n",
        "#calculating segmented mean based on segment_ids\n",
        "avg = segment_mean(\n",
        "    data=gnn_out,\n",
        "    segment_ids=node2graph\n",
        "    )#shape: [batch_size,64]\n",
        "\n",
        "print('mean:', avg)\n",
        "\n",
        "#final dense layer with sigmoid\n",
        "#Output [None,8]\n",
        "fc1 = Dense(8,activation='relu')(avg)\n",
        "#output shape: [batch_size,1]\n",
        "pred = Dense(1, activation='sigmoid')(fc1)\n",
        "print('pred:', pred)\n",
        "\n",
        "#building model\n",
        "#inputs are data,edges and node2graph\n",
        "#input: dictionary\n",
        "#output: prediction value from dense layer\n",
        "model = Model(\n",
        "    inputs={\n",
        "        'data': data,\n",
        "        'edges': edge,\n",
        "        'node2grah': node2graph,\n",
        "    },\n",
        "    outputs=pred\n",
        ")\n",
        "\n",
        "#printing summary of the model\n",
        "model.summary()"
      ],
      "metadata": {
        "colab": {
          "base_uri": "https://localhost:8080/"
        },
        "id": "CFp4Uz0UYfth",
        "outputId": "27eaca37-df5a-416b-9388-268a784706e6"
      },
      "execution_count": 76,
      "outputs": [
        {
          "output_type": "stream",
          "name": "stdout",
          "text": [
            "gnn_out KerasTensor(type_spec=TensorSpec(shape=(None, 64), dtype=tf.float32, name=None), name='gnn_6/StatefulPartitionedCall:0', description=\"created by layer 'gnn_6'\")\n",
            "mean: KerasTensor(type_spec=TensorSpec(shape=(None, 64), dtype=tf.float32, name=None), name='tf.math.segment_mean_6/SegmentMean:0', description=\"created by layer 'tf.math.segment_mean_6'\")\n",
            "pred: KerasTensor(type_spec=TensorSpec(shape=(None, 1), dtype=tf.float32, name=None), name='dense_10/Sigmoid:0', description=\"created by layer 'dense_10'\")\n",
            "Model: \"model_6\"\n",
            "__________________________________________________________________________________________________\n",
            " Layer (type)                Output Shape                 Param #   Connected to                  \n",
            "==================================================================================================\n",
            " input_18 (InputLayer)       [(None,)]                    0         []                            \n",
            "                                                                                                  \n",
            " input_16 (InputLayer)       [(None,)]                    0         []                            \n",
            "                                                                                                  \n",
            " tf.math.reduce_max_6 (TFOp  ()                           0         ['input_18[0][0]']            \n",
            " Lambda)                                                                                          \n",
            "                                                                                                  \n",
            " embedding_6 (Embedding)     (None, 150)                  75000     ['input_16[0][0]']            \n",
            "                                                                                                  \n",
            " input_17 (InputLayer)       [(None, 2)]                  0         []                            \n",
            "                                                                                                  \n",
            " tf.__operators__.add_6 (TF  ()                           0         ['tf.math.reduce_max_6[0][0]']\n",
            " OpLambda)                                                                                        \n",
            "                                                                                                  \n",
            " gnn_6 (GNN)                 (None, 64)                   194560    ['embedding_6[0][0]',         \n",
            "                                                                     'input_17[0][0]',            \n",
            "                                                                     'input_18[0][0]',            \n",
            "                                                                     'tf.__operators__.add_6[0][0]\n",
            "                                                                    ']                            \n",
            "                                                                                                  \n",
            " tf.math.segment_mean_6 (TF  (None, 64)                   0         ['gnn_6[0][0]',               \n",
            " OpLambda)                                                           'input_18[0][0]']            \n",
            "                                                                                                  \n",
            " dense_9 (Dense)             (None, 8)                    520       ['tf.math.segment_mean_6[0][0]\n",
            "                                                                    ']                            \n",
            "                                                                                                  \n",
            " dense_10 (Dense)            (None, 1)                    9         ['dense_9[0][0]']             \n",
            "                                                                                                  \n",
            "==================================================================================================\n",
            "Total params: 270089 (1.03 MB)\n",
            "Trainable params: 270089 (1.03 MB)\n",
            "Non-trainable params: 0 (0.00 Byte)\n",
            "__________________________________________________________________________________________________\n"
          ]
        }
      ]
    },
    {
      "cell_type": "code",
      "source": [
        "model.compile(\n",
        "    optimizer=tf.keras.optimizers.Adam(),\n",
        "    loss='BinaryCrossentropy',\n",
        "    metrics=['AUC']\n",
        ")"
      ],
      "metadata": {
        "id": "IV2kBhJsYuhF"
      },
      "execution_count": 77,
      "outputs": []
    },
    {
      "cell_type": "code",
      "source": [
        "batch_size = 16\n",
        "\n",
        "num_batchs = math.ceil(len(training_set) / batch_size)\n",
        "num_batchs_validation = math.ceil(len(validation_set) / batch_size)\n",
        "\n",
        "\n",
        "history5 =model.fit(\n",
        "    gen_batch(\n",
        "        training_set, batch_size=batch_size, repeat=True\n",
        "    ),\n",
        "    steps_per_epoch=num_batchs,\n",
        "    epochs=10,\n",
        "    validation_data=gen_batch(\n",
        "        validation_set, batch_size=batch_size, repeat=True\n",
        "    ),\n",
        "    validation_steps=num_batchs_validation,\n",
        ")\n",
        "\n",
        "#---------------------------------------------------\n",
        "\n",
        "y_pred = model.predict(\n",
        "    gen_batch(testing_set, batch_size=batch_size, shuffle=False)\n",
        ")\n",
        "y_pred = np.reshape(y_pred, -1)\n",
        "\n",
        "#-------------------------------------------------------\n",
        "\n",
        "submission = pd.DataFrame({'label':y_pred})\n",
        "submission.index.name = 'id'\n",
        "submission.to_csv('trail_5.csv')\n",
        "print(\"Finish This trial\")"
      ],
      "metadata": {
        "colab": {
          "base_uri": "https://localhost:8080/"
        },
        "id": "kEYIXMSOY0JO",
        "outputId": "13ffc6e0-9243-4610-924e-e0bc701dd739"
      },
      "execution_count": 78,
      "outputs": [
        {
          "output_type": "stream",
          "name": "stdout",
          "text": [
            "Epoch 1/10\n",
            "1330/1330 [==============================] - 97s 63ms/step - loss: 0.2281 - auc: 0.5559 - val_loss: 0.1776 - val_auc: 0.5920\n",
            "Epoch 2/10\n",
            "1330/1330 [==============================] - 78s 59ms/step - loss: 0.2000 - auc: 0.6203 - val_loss: 0.1694 - val_auc: 0.6813\n",
            "Epoch 3/10\n",
            "1330/1330 [==============================] - 71s 54ms/step - loss: 0.1974 - auc: 0.6304 - val_loss: 0.1709 - val_auc: 0.6808\n",
            "Epoch 4/10\n",
            "1330/1330 [==============================] - 76s 57ms/step - loss: 0.1947 - auc: 0.6260 - val_loss: 0.1763 - val_auc: 0.6156\n",
            "Epoch 5/10\n",
            "1330/1330 [==============================] - 72s 54ms/step - loss: 0.1941 - auc: 0.6273 - val_loss: 0.1656 - val_auc: 0.7009\n",
            "Epoch 6/10\n",
            "1330/1330 [==============================] - 70s 52ms/step - loss: 0.1890 - auc: 0.6602 - val_loss: 0.1839 - val_auc: 0.6624\n",
            "Epoch 7/10\n",
            "1330/1330 [==============================] - 74s 56ms/step - loss: 0.1873 - auc: 0.6763 - val_loss: 0.1718 - val_auc: 0.6637\n",
            "Epoch 8/10\n",
            "1330/1330 [==============================] - 73s 55ms/step - loss: 0.1889 - auc: 0.6618 - val_loss: 0.1641 - val_auc: 0.6894\n",
            "Epoch 9/10\n",
            "1330/1330 [==============================] - 73s 55ms/step - loss: 0.1927 - auc: 0.6324 - val_loss: 0.1680 - val_auc: 0.6773\n",
            "Epoch 10/10\n",
            "1330/1330 [==============================] - 72s 54ms/step - loss: 0.1917 - auc: 0.6290 - val_loss: 0.1652 - val_auc: 0.6698\n",
            "771/771 [==============================] - 13s 16ms/step\n",
            "Finish This trial\n"
          ]
        }
      ]
    },
    {
      "cell_type": "markdown",
      "source": [
        "# Trial 6\n",
        "\n",
        "Upsampling will be applied here to balance data."
      ],
      "metadata": {
        "id": "1w4KuRZqPxEf"
      }
    },
    {
      "cell_type": "code",
      "source": [
        "training_set = read_sdf('/content/train.sdf')"
      ],
      "metadata": {
        "colab": {
          "base_uri": "https://localhost:8080/",
          "height": 49,
          "referenced_widgets": [
            "2ee8148501a2431e8a8fb972b7c372c6",
            "c720ac044e9f499eba07bd69daceeb3f",
            "99e5e63fccff401ea58c64bb6914770a",
            "460aa0427a61485291c002d3ea0f0c6d",
            "7bb44906e3774e9ba9d753a2662e6468",
            "83e6bd9550c5494cbdd07462286870cb",
            "ea4b9fa8595e43fda721d37ef4bfb391",
            "0f1ae1036bd94c1abba782a3e5dc1812",
            "c4281716923d49778ad558af35d67199",
            "79e195f53b7044d6a3d3a486c7738023",
            "01ca06c26f4645c09a093ee833d18270"
          ]
        },
        "id": "H8ATFjxFPzce",
        "outputId": "e989bf91-f9f2-48bb-b6bf-96d10aac956c"
      },
      "execution_count": 89,
      "outputs": [
        {
          "output_type": "display_data",
          "data": {
            "text/plain": [
              "  0%|          | 0/25024 [00:00<?, ?it/s]"
            ],
            "application/vnd.jupyter.widget-view+json": {
              "version_major": 2,
              "version_minor": 0,
              "model_id": "2ee8148501a2431e8a8fb972b7c372c6"
            }
          },
          "metadata": {}
        }
      ]
    },
    {
      "cell_type": "code",
      "source": [
        "from sklearn.utils import resample\n",
        "#read the training data as a dataframe\n",
        "df = pd.DataFrame(training_set,columns=['Nodes','Edges','Labels'])\n",
        "df_majority = df[df['Labels']==0]  #data with majority class\n",
        "df_minority = df[df['Labels']==1]  #data with maniority class\n",
        "\n",
        "print('Shape of Unbalanced Data before Upsampling:')\n",
        "print(df_majority.shape)\n",
        "print(df_minority .shape)\n",
        "print('\\n')\n",
        "\n",
        "# Upsample minority class\n",
        "df_minority_upsampled = resample(df_minority,\n",
        "                                  # sample with replacement\n",
        "                                 replace=True,\n",
        "                                 # to match majority class\n",
        "                                 n_samples=len(df_majority),\n",
        "                                  # reproducible results\n",
        "                                 random_state=42)\n",
        "\n",
        "# Combine majority class with upsampled minority class\n",
        "df_upsampled = pd.concat([df_majority, df_minority_upsampled])\n",
        "\n",
        "# Display new class counts\n",
        "print('New class counts after Upsampling:')\n",
        "df_upsampled['Labels'].value_counts()"
      ],
      "metadata": {
        "colab": {
          "base_uri": "https://localhost:8080/"
        },
        "id": "YkZGuHZNtytN",
        "outputId": "eeb3d7dd-153f-45de-b3fa-02deefff216d"
      },
      "execution_count": 86,
      "outputs": [
        {
          "output_type": "stream",
          "name": "stdout",
          "text": [
            "Shape of Unbalanced Data before Upsampling:\n",
            "(23806, 3)\n",
            "(1218, 3)\n",
            "\n",
            "\n",
            "New class counts after Upsampling:\n"
          ]
        },
        {
          "output_type": "execute_result",
          "data": {
            "text/plain": [
              "Labels\n",
              "0    23806\n",
              "1    23806\n",
              "Name: count, dtype: int64"
            ]
          },
          "metadata": {},
          "execution_count": 86
        }
      ]
    },
    {
      "cell_type": "code",
      "source": [
        "training_set= df_upsampled.to_numpy()"
      ],
      "metadata": {
        "id": "7c2WSVgHwdFs"
      },
      "execution_count": 87,
      "outputs": []
    },
    {
      "cell_type": "code",
      "source": [
        "DataFrame(np.array(training_set)[:,-1]).value_counts().plot(kind='bar')"
      ],
      "metadata": {
        "colab": {
          "base_uri": "https://localhost:8080/",
          "height": 477
        },
        "id": "9HfLywBUQJjv",
        "outputId": "aceb400e-255c-42d2-e47e-b3f9ed888d23"
      },
      "execution_count": 88,
      "outputs": [
        {
          "output_type": "execute_result",
          "data": {
            "text/plain": [
              "<Axes: xlabel='0'>"
            ]
          },
          "metadata": {},
          "execution_count": 88
        },
        {
          "output_type": "display_data",
          "data": {
            "text/plain": [
              "<Figure size 640x480 with 1 Axes>"
            ],
            "image/png": "[encoded data removed]"
          },
          "metadata": {}
        }
      ]
    },
    {
      "cell_type": "code",
      "source": [
        "training_set, validation_set = train_test_split(training_set, test_size=0.15,)"
      ],
      "metadata": {
        "id": "FCZsWwdoQcQF"
      },
      "execution_count": 95,
      "outputs": []
    },
    {
      "cell_type": "code",
      "source": [
        "len(training_set), len(testing_set)"
      ],
      "metadata": {
        "colab": {
          "base_uri": "https://localhost:8080/"
        },
        "id": "8v-aqv-sQoAi",
        "outputId": "e97472e7-915a-40f3-d9d5-1e75cd987d14"
      },
      "execution_count": 97,
      "outputs": [
        {
          "output_type": "execute_result",
          "data": {
            "text/plain": [
              "(21270, 12326)"
            ]
          },
          "metadata": {},
          "execution_count": 97
        }
      ]
    },
    {
      "cell_type": "code",
      "source": [
        "max_vocab = 500\n",
        "# max_len = 100 # better approach: iterate over all nodes in each sample and return the max length of nodes\n",
        "\n",
        "\n",
        "# build vocabulary from training set\n",
        "all_nodes = [s[0] for s in training_set]\n",
        "tokenizer = Tokenizer(num_words=max_vocab)\n",
        "tokenizer.fit_on_texts(all_nodes)"
      ],
      "metadata": {
        "id": "595LayxhQrTC"
      },
      "execution_count": 98,
      "outputs": []
    },
    {
      "cell_type": "code",
      "source": [
        "for train_batch in gen_batch(training_set, batch_size=4):\n",
        "    for k,v in train_batch[0].items():          #k: labels, v: values\n",
        "        print(k)\n",
        "        print(v)\n",
        "        #print(len(v))\n",
        "        pass\n",
        "    print('label', train_batch[1])\n",
        "    break"
      ],
      "metadata": {
        "colab": {
          "base_uri": "https://localhost:8080/"
        },
        "id": "oiduHEndQvUN",
        "outputId": "2d01774f-50b3-4f35-bce9-d8852b68b038"
      },
      "execution_count": 99,
      "outputs": [
        {
          "output_type": "stream",
          "name": "stdout",
          "text": [
            "data\n",
            "[2 2 2 1 1 1 1 1 1 1 1 1 1 1 1 1 1 1 1 0 0 0 0 0 0 0 0 0 0 0 0 0 0 0 0 0 2\n",
            " 2 2 2 2 2 2 2 3 3 3 3 3 3 3 1 1 1 1 1 1 1 1 1 1 1 1 1 1 1 1 1 1 1 1 1 4 4\n",
            " 2 1 1 1 1 1 1 1 1 1 1 1 1 1 1 1 1 1 1 0 0 0 0 0 0 0 0 0 0 0 0 0 0 0 3 3 1\n",
            " 1 1 1 1 1 1 1 1 1 1 1 1 1 1 1 1 1 1 1 1 1 1 1 0 0 0 0 0 0 0 0 0 0]\n",
            "edges\n",
            "[[  0   4]\n",
            " [  0  10]\n",
            " [  1   6]\n",
            " [  2  10]\n",
            " [  3   4]\n",
            " [  3   6]\n",
            " [  3   7]\n",
            " [  4   5]\n",
            " [  5   8]\n",
            " [  5  11]\n",
            " [  6   8]\n",
            " [  7   9]\n",
            " [  7  12]\n",
            " [  8  13]\n",
            " [  9  10]\n",
            " [  9  14]\n",
            " [ 11  15]\n",
            " [ 12  17]\n",
            " [ 13  16]\n",
            " [ 14  18]\n",
            " [ 15  16]\n",
            " [ 17  18]\n",
            " [ 36  54]\n",
            " [ 37  57]\n",
            " [ 38  58]\n",
            " [ 39  62]\n",
            " [ 39  71]\n",
            " [ 40  62]\n",
            " [ 41  48]\n",
            " [ 42  48]\n",
            " [ 43  67]\n",
            " [ 44  51]\n",
            " [ 44  53]\n",
            " [ 45  54]\n",
            " [ 45  56]\n",
            " [ 46  49]\n",
            " [ 46  55]\n",
            " [ 47  58]\n",
            " [ 47  64]\n",
            " [ 48  61]\n",
            " [ 50  67]\n",
            " [ 51  52]\n",
            " [ 51  54]\n",
            " [ 52  55]\n",
            " [ 52  57]\n",
            " [ 53  56]\n",
            " [ 53  60]\n",
            " [ 55  58]\n",
            " [ 56  59]\n",
            " [ 57  62]\n",
            " [ 59  61]\n",
            " [ 60  63]\n",
            " [ 61  63]\n",
            " [ 64  65]\n",
            " [ 64  66]\n",
            " [ 65  67]\n",
            " [ 65  68]\n",
            " [ 66  69]\n",
            " [ 68  70]\n",
            " [ 69  70]\n",
            " [ 72  78]\n",
            " [ 72  86]\n",
            " [ 73  80]\n",
            " [ 73  88]\n",
            " [ 74  75]\n",
            " [ 74  77]\n",
            " [ 75  76]\n",
            " [ 75  78]\n",
            " [ 76  79]\n",
            " [ 76  80]\n",
            " [ 77  79]\n",
            " [ 77  81]\n",
            " [ 78  82]\n",
            " [ 80  83]\n",
            " [ 81  84]\n",
            " [ 81  85]\n",
            " [ 82  87]\n",
            " [ 83  89]\n",
            " [ 84  90]\n",
            " [ 85  91]\n",
            " [ 86  87]\n",
            " [ 88  89]\n",
            " [ 90  92]\n",
            " [ 91  92]\n",
            " [108 112]\n",
            " [108 118]\n",
            " [109 113]\n",
            " [109 119]\n",
            " [110 112]\n",
            " [110 114]\n",
            " [110 116]\n",
            " [111 113]\n",
            " [111 115]\n",
            " [111 117]\n",
            " [112 115]\n",
            " [113 114]\n",
            " [114 120]\n",
            " [115 121]\n",
            " [116 118]\n",
            " [116 122]\n",
            " [117 119]\n",
            " [117 123]\n",
            " [118 124]\n",
            " [119 125]\n",
            " [120 130]\n",
            " [120 131]\n",
            " [121 132]\n",
            " [121 133]\n",
            " [122 126]\n",
            " [123 127]\n",
            " [124 128]\n",
            " [125 129]\n",
            " [126 128]\n",
            " [127 129]]\n",
            "node2grah\n",
            "[0 0 0 0 0 0 0 0 0 0 0 0 0 0 0 0 0 0 0 0 0 0 0 0 0 0 0 0 0 0 0 0 0 0 0 0 1\n",
            " 1 1 1 1 1 1 1 1 1 1 1 1 1 1 1 1 1 1 1 1 1 1 1 1 1 1 1 1 1 1 1 1 1 1 1 2 2\n",
            " 2 2 2 2 2 2 2 2 2 2 2 2 2 2 2 2 2 2 2 2 2 2 2 2 2 2 2 2 2 2 2 2 2 2 3 3 3\n",
            " 3 3 3 3 3 3 3 3 3 3 3 3 3 3 3 3 3 3 3 3 3 3 3 3 3 3 3 3 3 3 3 3 3]\n",
            "label [0 0 0 0]\n"
          ]
        }
      ]
    },
    {
      "cell_type": "code",
      "source": [
        "data = keras.Input(batch_shape=(None,))\n",
        "# the first dim is different to the previous one. it is the total number of edges in this batch\n",
        "edge = keras.Input(batch_shape=(None, 2), dtype=tf.int32)     #edge is 2D\n",
        "node2graph = keras.Input(batch_shape=(None,), dtype=tf.int32)\n",
        "embedded = Embedding(tokenizer.num_words, 20)(data)\n",
        "\n",
        "# number of graphs (number of samples)\n",
        "num_graph = tf.reduce_max(node2graph)+1\n",
        "\n",
        "gnn_input = GNNInput(\n",
        "    node_features=embedded,\n",
        "    adjacency_lists=(edge,),\n",
        "    node_to_graph_map=node2graph,\n",
        "    num_graphs=num_graph,\n",
        ")\n",
        "\n",
        "# https://github.com/microsoft/tf2-gnn/blob/master/tf2_gnn/layers/gnn.py\n",
        "params = GNN.get_default_hyperparameters()\n",
        "params[\"hidden_dim\"] = 32\n",
        "params[\"message_calculation_class\"]= \"GGNN\"\n",
        "gnn_layer = GNN(params)\n",
        "gnn_out = gnn_layer(gnn_input)\n",
        "\n",
        "print('gnn_out', gnn_out)\n",
        "\n",
        "# https://www.tensorflow.org/api_docs/python/tf/math/segment_mean\n",
        "max = segment_max(\n",
        "    data=gnn_out,\n",
        "    segment_ids=node2graph\n",
        ")\n",
        "print('max:', max)\n",
        "\n",
        "pred = Dense(1, activation='sigmoid')(max)        #binary classification: Dense(2), but here we only output 1 probability\n",
        "print('pred:', pred)\n",
        "\n",
        "model = Model(\n",
        "    inputs={\n",
        "        'data': data,\n",
        "        'edges': edge,\n",
        "        'node2grah': node2graph,\n",
        "    },\n",
        "    outputs=pred\n",
        ")\n",
        "model.summary()"
      ],
      "metadata": {
        "colab": {
          "base_uri": "https://localhost:8080/"
        },
        "id": "9fKFB11mQxL0",
        "outputId": "498ae57c-6b8d-4415-cfbe-860c58fb6450"
      },
      "execution_count": 100,
      "outputs": [
        {
          "output_type": "stream",
          "name": "stdout",
          "text": [
            "gnn_out KerasTensor(type_spec=TensorSpec(shape=(None, 32), dtype=tf.float32, name=None), name='gnn_8/StatefulPartitionedCall:0', description=\"created by layer 'gnn_8'\")\n",
            "max: KerasTensor(type_spec=TensorSpec(shape=(None, 32), dtype=tf.float32, name=None), name='tf.math.segment_max/SegmentMax:0', description=\"created by layer 'tf.math.segment_max'\")\n",
            "pred: KerasTensor(type_spec=TensorSpec(shape=(None, 1), dtype=tf.float32, name=None), name='dense_13/Sigmoid:0', description=\"created by layer 'dense_13'\")\n",
            "Model: \"model_8\"\n",
            "__________________________________________________________________________________________________\n",
            " Layer (type)                Output Shape                 Param #   Connected to                  \n",
            "==================================================================================================\n",
            " input_23 (InputLayer)       [(None,)]                    0         []                            \n",
            "                                                                                                  \n",
            " input_21 (InputLayer)       [(None,)]                    0         []                            \n",
            "                                                                                                  \n",
            " tf.math.reduce_max_8 (TFOp  ()                           0         ['input_23[0][0]']            \n",
            " Lambda)                                                                                          \n",
            "                                                                                                  \n",
            " embedding_8 (Embedding)     (None, 20)                   10000     ['input_21[0][0]']            \n",
            "                                                                                                  \n",
            " input_22 (InputLayer)       [(None, 2)]                  0         []                            \n",
            "                                                                                                  \n",
            " tf.__operators__.add_8 (TF  ()                           0         ['tf.math.reduce_max_8[0][0]']\n",
            " OpLambda)                                                                                        \n",
            "                                                                                                  \n",
            " gnn_8 (GNN)                 (None, 32)                   47808     ['embedding_8[0][0]',         \n",
            "                                                                     'input_22[0][0]',            \n",
            "                                                                     'input_23[0][0]',            \n",
            "                                                                     'tf.__operators__.add_8[0][0]\n",
            "                                                                    ']                            \n",
            "                                                                                                  \n",
            " tf.math.segment_max (TFOpL  (None, 32)                   0         ['gnn_8[0][0]',               \n",
            " ambda)                                                              'input_23[0][0]']            \n",
            "                                                                                                  \n",
            " dense_13 (Dense)            (None, 1)                    33        ['tf.math.segment_max[0][0]'] \n",
            "                                                                                                  \n",
            "==================================================================================================\n",
            "Total params: 57841 (225.94 KB)\n",
            "Trainable params: 57841 (225.94 KB)\n",
            "Non-trainable params: 0 (0.00 Byte)\n",
            "__________________________________________________________________________________________________\n"
          ]
        }
      ]
    },
    {
      "cell_type": "code",
      "source": [
        "model.compile(\n",
        "    optimizer=tf.keras.optimizers.Adam(),\n",
        "    loss='BinaryCrossentropy',\n",
        "    metrics=['AUC']\n",
        ")"
      ],
      "metadata": {
        "id": "IWB34D3ORFp0"
      },
      "execution_count": 101,
      "outputs": []
    },
    {
      "cell_type": "code",
      "source": [
        "batch_size = 16\n",
        "\n",
        "num_batchs = math.ceil(len(training_set) / batch_size)\n",
        "num_batchs_validation = math.ceil(len(validation_set) / batch_size)\n",
        "\n",
        "\n",
        "history6 =model.fit(\n",
        "    gen_batch(\n",
        "        training_set, batch_size=batch_size, repeat=True\n",
        "    ),\n",
        "    steps_per_epoch=num_batchs,\n",
        "    epochs=10,\n",
        "    validation_data=gen_batch(\n",
        "        validation_set, batch_size=batch_size, repeat=True\n",
        "    ),\n",
        "    validation_steps=num_batchs_validation,\n",
        ")\n",
        "\n",
        "#---------------------------------------------------\n",
        "\n",
        "y_pred = model.predict(\n",
        "    gen_batch(testing_set, batch_size=batch_size, shuffle=False)\n",
        ")\n",
        "y_pred = np.reshape(y_pred, -1)\n",
        "\n",
        "#-------------------------------------------------------\n",
        "\n",
        "submission = pd.DataFrame({'label':y_pred})\n",
        "submission.index.name = 'id'\n",
        "submission.to_csv('trail_6.csv')\n",
        "print(\"Finish This trial\")"
      ],
      "metadata": {
        "colab": {
          "base_uri": "https://localhost:8080/"
        },
        "id": "joGO6wL-RMFK",
        "outputId": "13537a03-dce7-40da-e2e2-c92f9e3d80a4"
      },
      "execution_count": 102,
      "outputs": [
        {
          "output_type": "stream",
          "name": "stdout",
          "text": [
            "Epoch 1/10\n",
            "1330/1330 [==============================] - 46s 30ms/step - loss: 0.2003 - auc: 0.5665 - val_loss: 0.1824 - val_auc: 0.6792\n",
            "Epoch 2/10\n",
            "1330/1330 [==============================] - 40s 30ms/step - loss: 0.1862 - auc: 0.6604 - val_loss: 0.1779 - val_auc: 0.7062\n",
            "Epoch 3/10\n",
            "1330/1330 [==============================] - 40s 30ms/step - loss: 0.1815 - auc: 0.6857 - val_loss: 0.1844 - val_auc: 0.7084\n",
            "Epoch 4/10\n",
            "1330/1330 [==============================] - 42s 32ms/step - loss: 0.1790 - auc: 0.7015 - val_loss: 0.1808 - val_auc: 0.7219\n",
            "Epoch 5/10\n",
            "1330/1330 [==============================] - 40s 30ms/step - loss: 0.1780 - auc: 0.7105 - val_loss: 0.1818 - val_auc: 0.7259\n",
            "Epoch 6/10\n",
            "1330/1330 [==============================] - 40s 30ms/step - loss: 0.1765 - auc: 0.7240 - val_loss: 0.1850 - val_auc: 0.6764\n",
            "Epoch 7/10\n",
            "1330/1330 [==============================] - 41s 31ms/step - loss: 0.1804 - auc: 0.6971 - val_loss: 0.1746 - val_auc: 0.7210\n",
            "Epoch 8/10\n",
            "1330/1330 [==============================] - 37s 28ms/step - loss: 0.1788 - auc: 0.7073 - val_loss: 0.1777 - val_auc: 0.7437\n",
            "Epoch 9/10\n",
            "1330/1330 [==============================] - 38s 29ms/step - loss: 0.1735 - auc: 0.7419 - val_loss: 0.1836 - val_auc: 0.7422\n",
            "Epoch 10/10\n",
            "1330/1330 [==============================] - 40s 30ms/step - loss: 0.1698 - auc: 0.7575 - val_loss: 0.1650 - val_auc: 0.7509\n",
            "771/771 [==============================] - 13s 17ms/step\n",
            "Finish This trial\n"
          ]
        }
      ]
    },
    {
      "cell_type": "markdown",
      "source": [
        "# Trial 7\n",
        "\n",
        " improve the performance of the GCN model by incorporating additional modifications (shown below) to the model and the training process.\n",
        "\n",
        "determining which molecular features are most pertinent to include in the model by applying a more powerful feature selection method, like genetic programming or Bayesian optimization. This strategy might assist the model in concentrating on the most crucial elements and enhance its capacity to forecast the chemicals' toxicity.\n",
        "\n"
      ],
      "metadata": {
        "id": "SMP1xOEKl4jN"
      }
    },
    {
      "cell_type": "code",
      "source": [
        "edge = keras.Input(batch_shape=(None, 2), dtype=tf.int32)\n",
        "node2graph = keras.Input(batch_shape=(None,), dtype=tf.int32)\n",
        "embedded = Embedding(tokenizer.num_words, 150)(data)\n",
        "\n",
        "# number of graphs (number of samples)\n",
        "num_graph = tf.reduce_max(node2graph) + 1\n",
        "\n",
        "gnn_input = GNNInput(\n",
        "    node_features=embedded,\n",
        "    adjacency_lists=(edge,),\n",
        "    node_to_graph_map=node2graph,\n",
        "    num_graphs=num_graph,\n",
        ")\n",
        "\n",
        "# https://github.com/microsoft/tf2-gnn/blob/master/tf2_gnn/layers/gnn.py\n",
        "params = GNN.get_default_hyperparameters()\n",
        "params[\"hidden_dim\"] = 64\n",
        "#defining hidden dimension of the gnn layer(the output of all message passing layers)\n",
        "params[\"message_calculation_class\"] = 'gnn_edge_mlp'\n",
        "params[\"num_aggr_MLP_hidden_layers\"] = 4\n",
        "#gnn layer with defined hyperparameters\n",
        "gnn_layer = GNN(params)\n",
        "\n",
        "#gnn output layer\n",
        "#outpur shape: [data_dimension,hidden layers]\n",
        "gnn_out = gnn_layer(gnn_input)\n",
        "\n",
        "print('gnn_out', gnn_out)\n",
        "\n",
        "# https://www.tensorflow.org/api_docs/python/tf/math/segment_mean\n",
        "print(gnn_out)\n",
        "avg = segment_mean(\n",
        "    data=gnn_out,\n",
        "    segment_ids=node2graph\n",
        ")\n",
        "print('mean:', avg)\n",
        "\n",
        "fc1 = Dense(8,activation='relu')(avg)\n",
        "pred = Dense(1, activation='sigmoid')(fc1)\n",
        "print('pred:', pred)\n",
        "\n",
        "model = Model(\n",
        "    inputs={\n",
        "        'data': data,\n",
        "        'edges': edge,\n",
        "        'node2grah': node2graph,\n",
        "    },\n",
        "    outputs=pred\n",
        ")\n",
        "\n",
        "model.summary()"
      ],
      "metadata": {
        "colab": {
          "base_uri": "https://localhost:8080/"
        },
        "id": "TnHsYjo1l6j_",
        "outputId": "3273b9a5-2128-4c9c-89b4-4acb2758dbd1"
      },
      "execution_count": 83,
      "outputs": [
        {
          "output_type": "stream",
          "name": "stdout",
          "text": [
            "gnn_out KerasTensor(type_spec=TensorSpec(shape=(None, 64), dtype=tf.float32, name=None), name='gnn_7/StatefulPartitionedCall:0', description=\"created by layer 'gnn_7'\")\n",
            "KerasTensor(type_spec=TensorSpec(shape=(None, 64), dtype=tf.float32, name=None), name='gnn_7/StatefulPartitionedCall:0', description=\"created by layer 'gnn_7'\")\n",
            "mean: KerasTensor(type_spec=TensorSpec(shape=(None, 64), dtype=tf.float32, name=None), name='tf.math.segment_mean_7/SegmentMean:0', description=\"created by layer 'tf.math.segment_mean_7'\")\n",
            "pred: KerasTensor(type_spec=TensorSpec(shape=(None, 1), dtype=tf.float32, name=None), name='dense_12/Sigmoid:0', description=\"created by layer 'dense_12'\")\n",
            "Model: \"model_7\"\n",
            "__________________________________________________________________________________________________\n",
            " Layer (type)                Output Shape                 Param #   Connected to                  \n",
            "==================================================================================================\n",
            " input_20 (InputLayer)       [(None,)]                    0         []                            \n",
            "                                                                                                  \n",
            " input_16 (InputLayer)       [(None,)]                    0         []                            \n",
            "                                                                                                  \n",
            " tf.math.reduce_max_7 (TFOp  ()                           0         ['input_20[0][0]']            \n",
            " Lambda)                                                                                          \n",
            "                                                                                                  \n",
            " embedding_7 (Embedding)     (None, 150)                  75000     ['input_16[0][0]']            \n",
            "                                                                                                  \n",
            " input_19 (InputLayer)       [(None, 2)]                  0         []                            \n",
            "                                                                                                  \n",
            " tf.__operators__.add_7 (TF  ()                           0         ['tf.math.reduce_max_7[0][0]']\n",
            " OpLambda)                                                                                        \n",
            "                                                                                                  \n",
            " gnn_7 (GNN)                 (None, 64)                   79872     ['embedding_7[0][0]',         \n",
            "                                                                     'input_19[0][0]',            \n",
            "                                                                     'input_20[0][0]',            \n",
            "                                                                     'tf.__operators__.add_7[0][0]\n",
            "                                                                    ']                            \n",
            "                                                                                                  \n",
            " tf.math.segment_mean_7 (TF  (None, 64)                   0         ['gnn_7[0][0]',               \n",
            " OpLambda)                                                           'input_20[0][0]']            \n",
            "                                                                                                  \n",
            " dense_11 (Dense)            (None, 8)                    520       ['tf.math.segment_mean_7[0][0]\n",
            "                                                                    ']                            \n",
            "                                                                                                  \n",
            " dense_12 (Dense)            (None, 1)                    9         ['dense_11[0][0]']            \n",
            "                                                                                                  \n",
            "==================================================================================================\n",
            "Total params: 155401 (607.04 KB)\n",
            "Trainable params: 155401 (607.04 KB)\n",
            "Non-trainable params: 0 (0.00 Byte)\n",
            "__________________________________________________________________________________________________\n"
          ]
        }
      ]
    },
    {
      "cell_type": "code",
      "source": [
        "model.compile(\n",
        "    optimizer=tf.keras.optimizers.Adam(),\n",
        "    loss='BinaryCrossentropy',\n",
        "    metrics=['AUC']\n",
        ")"
      ],
      "metadata": {
        "id": "DVfgB06ymIX1"
      },
      "execution_count": 84,
      "outputs": []
    },
    {
      "cell_type": "code",
      "source": [
        "batch_size = 16\n",
        "\n",
        "num_batchs = math.ceil(len(training_set) / batch_size)\n",
        "num_batchs_validation = math.ceil(len(validation_set) / batch_size)\n",
        "\n",
        "\n",
        "history7 =model.fit(\n",
        "    gen_batch(\n",
        "        training_set, batch_size=batch_size, repeat=True\n",
        "    ),\n",
        "    steps_per_epoch=num_batchs,\n",
        "    epochs=10,\n",
        "    validation_data=gen_batch(\n",
        "        validation_set, batch_size=batch_size, repeat=True\n",
        "    ),\n",
        "    validation_steps=num_batchs_validation,\n",
        ")\n",
        "\n",
        "#---------------------------------------------------\n",
        "\n",
        "y_pred = model.predict(\n",
        "    gen_batch(testing_set, batch_size=batch_size, shuffle=False)\n",
        ")\n",
        "y_pred = np.reshape(y_pred, -1)\n",
        "\n",
        "#-------------------------------------------------------\n",
        "\n",
        "submission = pd.DataFrame({'label':y_pred})\n",
        "submission.index.name = 'id'\n",
        "submission.to_csv('trail_7.csv')\n",
        "print(\"Finish This trial\")"
      ],
      "metadata": {
        "colab": {
          "base_uri": "https://localhost:8080/"
        },
        "id": "caW44qEbmR52",
        "outputId": "c2aaf28f-3f64-41f0-edc8-517904520796"
      },
      "execution_count": 85,
      "outputs": [
        {
          "output_type": "stream",
          "name": "stdout",
          "text": [
            "Epoch 1/10\n",
            "1564/1564 [==============================] - 55s 32ms/step - loss: 0.2055 - auc: 0.5904 - val_loss: 0.1931 - val_auc: 0.6800\n",
            "Epoch 2/10\n",
            "1564/1564 [==============================] - 51s 33ms/step - loss: 0.1854 - auc: 0.6681 - val_loss: 0.1680 - val_auc: 0.7147\n",
            "Epoch 3/10\n",
            "1564/1564 [==============================] - 49s 31ms/step - loss: 0.1785 - auc: 0.7092 - val_loss: 0.1576 - val_auc: 0.7556\n",
            "Epoch 4/10\n",
            "1564/1564 [==============================] - 52s 33ms/step - loss: 0.1747 - auc: 0.7317 - val_loss: 0.1637 - val_auc: 0.7261\n",
            "Epoch 5/10\n",
            "1564/1564 [==============================] - 50s 32ms/step - loss: 0.1740 - auc: 0.7351 - val_loss: 0.1623 - val_auc: 0.7447\n",
            "Epoch 6/10\n",
            "1564/1564 [==============================] - 50s 32ms/step - loss: 0.1736 - auc: 0.7383 - val_loss: 0.1568 - val_auc: 0.7456\n",
            "Epoch 7/10\n",
            "1564/1564 [==============================] - 54s 35ms/step - loss: 0.1697 - auc: 0.7564 - val_loss: 0.1627 - val_auc: 0.7694\n",
            "Epoch 8/10\n",
            "1564/1564 [==============================] - 47s 30ms/step - loss: 0.1703 - auc: 0.7554 - val_loss: 0.1574 - val_auc: 0.7732\n",
            "Epoch 9/10\n",
            "1564/1564 [==============================] - 50s 32ms/step - loss: 0.1681 - auc: 0.7661 - val_loss: 0.1488 - val_auc: 0.7876\n",
            "Epoch 10/10\n",
            "1564/1564 [==============================] - 49s 31ms/step - loss: 0.1654 - auc: 0.7809 - val_loss: 0.1548 - val_auc: 0.7799\n",
            "771/771 [==============================] - 10s 12ms/step\n",
            "Finish This trial\n"
          ]
        }
      ]
    },
    {
      "cell_type": "markdown",
      "source": [
        "# Trial 8\n",
        "\n",
        " improve the performance of the GCN model by incorporating additional modifications to the model and the training process.\n",
        "\n",
        "integrating transfer learning into the model, which entails fine-tuning the model on the target dataset after pre-training it on a bigger dataset containing a comparable task. By using this method, the model could be able to acquire more universal characteristics and connections that it can use to enhance its performance on the intended job.\n",
        "\n"
      ],
      "metadata": {
        "id": "8ujXfEDFmYeY"
      }
    },
    {
      "cell_type": "code",
      "source": [
        "edge = keras.Input(batch_shape=(None, 2), dtype=tf.int32)\n",
        "node2graph = keras.Input(batch_shape=(None,), dtype=tf.int32)\n",
        "embedded = Embedding(tokenizer.num_words, 60)(data)\n",
        "\n",
        "# number of graphs (number of samples)\n",
        "num_graph = tf.reduce_max(node2graph) + 1\n",
        "\n",
        "gnn_input = GNNInput(\n",
        "    node_features=embedded,\n",
        "    adjacency_lists=(edge,),\n",
        "    node_to_graph_map=node2graph,\n",
        "    num_graphs=num_graph,\n",
        ")\n",
        "\n",
        "# https://github.com/microsoft/tf2-gnn/blob/master/tf2_gnn/layers/gnn.py\n",
        "params = GNN.get_default_hyperparameters()\n",
        "params[\"hidden_dim\"] = 32\n",
        "#defining hidden dimension of the gnn layer(the output of all message passing layers)\n",
        "params[\"message_calculation_class\"]= \"GGNN\" # Gated Graph Neural Networks\n",
        "#gnn layer with defined hyperparameters\n",
        "gnn_layer = GNN(params)\n",
        "\n",
        "#gnn output layer\n",
        "#outpur shape: [data_dimension,hidden layers]\n",
        "gnn_out = gnn_layer(gnn_input)\n",
        "\n",
        "print('gnn_out', gnn_out)\n",
        "\n",
        "# https://www.tensorflow.org/api_docs/python/tf/math/segment_mean\n",
        "print(gnn_out)\n",
        "avg = segment_mean(\n",
        "    data=gnn_out,\n",
        "    segment_ids=node2graph\n",
        ")\n",
        "print('mean:', avg)\n",
        "\n",
        "fc1 = Dense(8,activation='relu')(avg)\n",
        "pred = Dense(1, activation='sigmoid')(fc1)\n",
        "print('pred:', pred)\n",
        "\n",
        "model = Model(\n",
        "    inputs={\n",
        "        'data': data,\n",
        "        'edges': edge,\n",
        "        'node2grah': node2graph,\n",
        "    },\n",
        "    outputs=pred\n",
        ")\n",
        "\n",
        "model.summary()"
      ],
      "metadata": {
        "colab": {
          "base_uri": "https://localhost:8080/"
        },
        "id": "CXzQLUwRmjSY",
        "outputId": "271eb073-7e7d-485c-de34-8770035d5f5a"
      },
      "execution_count": 103,
      "outputs": [
        {
          "output_type": "stream",
          "name": "stdout",
          "text": [
            "gnn_out KerasTensor(type_spec=TensorSpec(shape=(None, 32), dtype=tf.float32, name=None), name='gnn_9/StatefulPartitionedCall:0', description=\"created by layer 'gnn_9'\")\n",
            "KerasTensor(type_spec=TensorSpec(shape=(None, 32), dtype=tf.float32, name=None), name='gnn_9/StatefulPartitionedCall:0', description=\"created by layer 'gnn_9'\")\n",
            "mean: KerasTensor(type_spec=TensorSpec(shape=(None, 32), dtype=tf.float32, name=None), name='tf.math.segment_mean_8/SegmentMean:0', description=\"created by layer 'tf.math.segment_mean_8'\")\n",
            "pred: KerasTensor(type_spec=TensorSpec(shape=(None, 1), dtype=tf.float32, name=None), name='dense_15/Sigmoid:0', description=\"created by layer 'dense_15'\")\n",
            "Model: \"model_9\"\n",
            "__________________________________________________________________________________________________\n",
            " Layer (type)                Output Shape                 Param #   Connected to                  \n",
            "==================================================================================================\n",
            " input_25 (InputLayer)       [(None,)]                    0         []                            \n",
            "                                                                                                  \n",
            " input_21 (InputLayer)       [(None,)]                    0         []                            \n",
            "                                                                                                  \n",
            " tf.math.reduce_max_9 (TFOp  ()                           0         ['input_25[0][0]']            \n",
            " Lambda)                                                                                          \n",
            "                                                                                                  \n",
            " embedding_9 (Embedding)     (None, 60)                   30000     ['input_21[0][0]']            \n",
            "                                                                                                  \n",
            " input_24 (InputLayer)       [(None, 2)]                  0         []                            \n",
            "                                                                                                  \n",
            " tf.__operators__.add_9 (TF  ()                           0         ['tf.math.reduce_max_9[0][0]']\n",
            " OpLambda)                                                                                        \n",
            "                                                                                                  \n",
            " gnn_9 (GNN)                 (None, 32)                   49088     ['embedding_9[0][0]',         \n",
            "                                                                     'input_24[0][0]',            \n",
            "                                                                     'input_25[0][0]',            \n",
            "                                                                     'tf.__operators__.add_9[0][0]\n",
            "                                                                    ']                            \n",
            "                                                                                                  \n",
            " tf.math.segment_mean_8 (TF  (None, 32)                   0         ['gnn_9[0][0]',               \n",
            " OpLambda)                                                           'input_25[0][0]']            \n",
            "                                                                                                  \n",
            " dense_14 (Dense)            (None, 8)                    264       ['tf.math.segment_mean_8[0][0]\n",
            "                                                                    ']                            \n",
            "                                                                                                  \n",
            " dense_15 (Dense)            (None, 1)                    9         ['dense_14[0][0]']            \n",
            "                                                                                                  \n",
            "==================================================================================================\n",
            "Total params: 79361 (310.00 KB)\n",
            "Trainable params: 79361 (310.00 KB)\n",
            "Non-trainable params: 0 (0.00 Byte)\n",
            "__________________________________________________________________________________________________\n"
          ]
        }
      ]
    },
    {
      "cell_type": "code",
      "source": [
        "model.compile(\n",
        "    optimizer=tf.keras.optimizers.Adam(),\n",
        "    loss='BinaryCrossentropy',\n",
        "    metrics=['AUC']\n",
        ")"
      ],
      "metadata": {
        "id": "yG8l-rI_muoJ"
      },
      "execution_count": 104,
      "outputs": []
    },
    {
      "cell_type": "code",
      "source": [
        "batch_size = 16\n",
        "\n",
        "num_batchs = math.ceil(len(training_set) / batch_size)\n",
        "num_batchs_validation = math.ceil(len(validation_set) / batch_size)\n",
        "\n",
        "\n",
        "history8 =model.fit(\n",
        "    gen_batch(\n",
        "        training_set, batch_size=batch_size, repeat=True\n",
        "    ),\n",
        "    steps_per_epoch=num_batchs,\n",
        "    epochs=10,\n",
        "    validation_data=gen_batch(\n",
        "        validation_set, batch_size=batch_size, repeat=True\n",
        "    ),\n",
        "    validation_steps=num_batchs_validation,\n",
        ")\n",
        "\n",
        "#---------------------------------------------------\n",
        "\n",
        "y_pred = model.predict(\n",
        "    gen_batch(testing_set, batch_size=batch_size, shuffle=False)\n",
        ")\n",
        "y_pred = np.reshape(y_pred, -1)\n",
        "\n",
        "#-------------------------------------------------------\n",
        "\n",
        "submission = pd.DataFrame({'label':y_pred})\n",
        "submission.index.name = 'id'\n",
        "submission.to_csv('trail_8.csv')\n",
        "print(\"Finish This trial\")"
      ],
      "metadata": {
        "colab": {
          "base_uri": "https://localhost:8080/"
        },
        "id": "7UmTgd7Vm7SK",
        "outputId": "8912e232-2535-4280-c8c6-57000a3ae5d8"
      },
      "execution_count": 105,
      "outputs": [
        {
          "output_type": "stream",
          "name": "stdout",
          "text": [
            "Epoch 1/10\n",
            "1330/1330 [==============================] - 45s 30ms/step - loss: 0.1991 - auc: 0.6080 - val_loss: 0.1802 - val_auc: 0.6595\n",
            "Epoch 2/10\n",
            "1330/1330 [==============================] - 39s 29ms/step - loss: 0.1857 - auc: 0.6575 - val_loss: 0.1758 - val_auc: 0.7021\n",
            "Epoch 3/10\n",
            "1330/1330 [==============================] - 40s 30ms/step - loss: 0.1825 - auc: 0.6712 - val_loss: 0.1709 - val_auc: 0.7037\n",
            "Epoch 4/10\n",
            "1330/1330 [==============================] - 40s 30ms/step - loss: 0.1801 - auc: 0.6786 - val_loss: 0.1711 - val_auc: 0.7076\n",
            "Epoch 5/10\n",
            "1330/1330 [==============================] - 38s 29ms/step - loss: 0.1786 - auc: 0.6818 - val_loss: 0.1748 - val_auc: 0.7246\n",
            "Epoch 6/10\n",
            "1330/1330 [==============================] - 40s 30ms/step - loss: 0.1791 - auc: 0.6834 - val_loss: 0.1725 - val_auc: 0.7150\n",
            "Epoch 7/10\n",
            "1330/1330 [==============================] - 38s 29ms/step - loss: 0.1795 - auc: 0.6812 - val_loss: 0.1800 - val_auc: 0.6876\n",
            "Epoch 8/10\n",
            "1330/1330 [==============================] - 43s 32ms/step - loss: 0.1832 - auc: 0.6781 - val_loss: 0.1687 - val_auc: 0.7222\n",
            "Epoch 9/10\n",
            "1330/1330 [==============================] - 41s 31ms/step - loss: 0.1778 - auc: 0.7087 - val_loss: 0.1746 - val_auc: 0.7302\n",
            "Epoch 10/10\n",
            "1330/1330 [==============================] - 40s 30ms/step - loss: 0.1766 - auc: 0.7170 - val_loss: 0.1709 - val_auc: 0.7327\n",
            "771/771 [==============================] - 9s 11ms/step\n",
            "Finish This trial\n"
          ]
        }
      ]
    },
    {
      "cell_type": "markdown",
      "source": [
        "# Trial 9\n",
        "\n",
        "RGCN Mechanism\n",
        "\n",
        "One particular kind of neural network intended for use with graph-structured data is the Relation Graph Convolutional Network (RGCN) mechanism. It consists of the following components: output, relation-specific weight sharing, and input.\n",
        "\n",
        " a common neural network layer in the input component converts a graph of nodes and edges into initial node embeddings. The model is thus able to capture distinct properties and relationships associated with each type of edge thanks to the relation-specific weight sharing component, which assigns a distinct set of weights to each edge type in the graph.\n",
        "\n",
        "predictions are produced by the output component using the revised node embeddings. The use of relation-specific weight sharing to capture the unique characteristics and interactions associated with each type of edge in the graph is the main novelty of the RGCN method. As a result, the model can better represent intricate connections and relationships between nodes, producing predictions that are more accurate."
      ],
      "metadata": {
        "id": "rsykVwRanALR"
      }
    },
    {
      "cell_type": "code",
      "source": [
        "edge = keras.Input(batch_shape=(None, 2), dtype=tf.int32)\n",
        "node2graph = keras.Input(batch_shape=(None,), dtype=tf.int32)\n",
        "embedded = Embedding(tokenizer.num_words, 60)(data)\n",
        "\n",
        "# number of graphs (number of samples)\n",
        "num_graph = tf.reduce_max(node2graph) + 1\n",
        "\n",
        "gnn_input = GNNInput(\n",
        "    node_features=embedded,\n",
        "    adjacency_lists=(edge,),\n",
        "    node_to_graph_map=node2graph,\n",
        "    num_graphs=num_graph,\n",
        ")\n",
        "\n",
        "# https://github.com/microsoft/tf2-gnn/blob/master/tf2_gnn/layers/gnn.py\n",
        "params = GNN.get_default_hyperparameters()\n",
        "params[\"hidden_dim\"] = 64\n",
        "#defining hidden dimension of the gnn layer(the output of all message passing layers)\n",
        "params[\"message_calculation_class\"]= \"RGCN\" # Relation Graph Convolutional Networks\n",
        "params[\"dense_intermediate_layer_activation\"] = 'tanh'\n",
        "params[\"num_layers\"] = 4\n",
        "#gnn layer with defined hyperparameters\n",
        "gnn_layer = GNN(params)\n",
        "\n",
        "#gnn output layer\n",
        "#outpur shape: [data_dimension,hidden layers]\n",
        "gnn_out = gnn_layer(gnn_input)\n",
        "\n",
        "print('gnn_out', gnn_out)\n",
        "\n",
        "# https://www.tensorflow.org/api_docs/python/tf/math/segment_mean\n",
        "print(gnn_out)\n",
        "max = segment_max(\n",
        "    data=gnn_out,\n",
        "    segment_ids=node2graph\n",
        ")\n",
        "print('max:', max)\n",
        "\n",
        "fc1 = Dense(8,activation='relu')(max)\n",
        "pred = Dense(1, activation='sigmoid')(fc1)\n",
        "print('pred:', pred)\n",
        "\n",
        "model = Model(\n",
        "    inputs={\n",
        "        'data': data,\n",
        "        'edges': edge,\n",
        "        'node2grah': node2graph,\n",
        "    },\n",
        "    outputs=pred\n",
        ")\n",
        "\n",
        "model.summary()"
      ],
      "metadata": {
        "colab": {
          "base_uri": "https://localhost:8080/"
        },
        "id": "k5ozAotWnXUA",
        "outputId": "90ae067b-40b4-424c-a6fc-5a7bf898dfb1"
      },
      "execution_count": 106,
      "outputs": [
        {
          "output_type": "stream",
          "name": "stdout",
          "text": [
            "gnn_out KerasTensor(type_spec=TensorSpec(shape=(None, 64), dtype=tf.float32, name=None), name='gnn_10/StatefulPartitionedCall:0', description=\"created by layer 'gnn_10'\")\n",
            "KerasTensor(type_spec=TensorSpec(shape=(None, 64), dtype=tf.float32, name=None), name='gnn_10/StatefulPartitionedCall:0', description=\"created by layer 'gnn_10'\")\n",
            "max: KerasTensor(type_spec=TensorSpec(shape=(None, 64), dtype=tf.float32, name=None), name='tf.math.segment_max_1/SegmentMax:0', description=\"created by layer 'tf.math.segment_max_1'\")\n",
            "pred: KerasTensor(type_spec=TensorSpec(shape=(None, 1), dtype=tf.float32, name=None), name='dense_17/Sigmoid:0', description=\"created by layer 'dense_17'\")\n",
            "Model: \"model_10\"\n",
            "__________________________________________________________________________________________________\n",
            " Layer (type)                Output Shape                 Param #   Connected to                  \n",
            "==================================================================================================\n",
            " input_27 (InputLayer)       [(None,)]                    0         []                            \n",
            "                                                                                                  \n",
            " input_21 (InputLayer)       [(None,)]                    0         []                            \n",
            "                                                                                                  \n",
            " tf.math.reduce_max_10 (TFO  ()                           0         ['input_27[0][0]']            \n",
            " pLambda)                                                                                         \n",
            "                                                                                                  \n",
            " embedding_10 (Embedding)    (None, 60)                   30000     ['input_21[0][0]']            \n",
            "                                                                                                  \n",
            " input_26 (InputLayer)       [(None, 2)]                  0         []                            \n",
            "                                                                                                  \n",
            " tf.__operators__.add_10 (T  ()                           0         ['tf.math.reduce_max_10[0][0]'\n",
            " FOpLambda)                                                         ]                             \n",
            "                                                                                                  \n",
            " gnn_10 (GNN)                (None, 64)                   74112     ['embedding_10[0][0]',        \n",
            "                                                                     'input_26[0][0]',            \n",
            "                                                                     'input_27[0][0]',            \n",
            "                                                                     'tf.__operators__.add_10[0][0\n",
            "                                                                    ]']                           \n",
            "                                                                                                  \n",
            " tf.math.segment_max_1 (TFO  (None, 64)                   0         ['gnn_10[0][0]',              \n",
            " pLambda)                                                            'input_27[0][0]']            \n",
            "                                                                                                  \n",
            " dense_16 (Dense)            (None, 8)                    520       ['tf.math.segment_max_1[0][0]'\n",
            "                                                                    ]                             \n",
            "                                                                                                  \n",
            " dense_17 (Dense)            (None, 1)                    9         ['dense_16[0][0]']            \n",
            "                                                                                                  \n",
            "==================================================================================================\n",
            "Total params: 104641 (408.75 KB)\n",
            "Trainable params: 104641 (408.75 KB)\n",
            "Non-trainable params: 0 (0.00 Byte)\n",
            "__________________________________________________________________________________________________\n"
          ]
        }
      ]
    },
    {
      "cell_type": "code",
      "source": [
        "model.compile(\n",
        "    optimizer=tf.keras.optimizers.Adam(),\n",
        "    loss='BinaryCrossentropy',\n",
        "    metrics=['AUC']\n",
        ")"
      ],
      "metadata": {
        "id": "QzE6TedJnlH5"
      },
      "execution_count": 107,
      "outputs": []
    },
    {
      "cell_type": "code",
      "source": [
        "batch_size = 16\n",
        "\n",
        "num_batchs = math.ceil(len(training_set) / batch_size)\n",
        "num_batchs_validation = math.ceil(len(validation_set) / batch_size)\n",
        "\n",
        "\n",
        "history9 =model.fit(\n",
        "    gen_batch(\n",
        "        training_set, batch_size=batch_size, repeat=True\n",
        "    ),\n",
        "    steps_per_epoch=num_batchs,\n",
        "    epochs=10,\n",
        "    validation_data=gen_batch(\n",
        "        validation_set, batch_size=batch_size, repeat=True\n",
        "    ),\n",
        "    validation_steps=num_batchs_validation,\n",
        ")\n",
        "\n",
        "#---------------------------------------------------\n",
        "\n",
        "y_pred = model.predict(\n",
        "    gen_batch(testing_set, batch_size=batch_size, shuffle=False)\n",
        ")\n",
        "y_pred = np.reshape(y_pred, -1)\n",
        "\n",
        "#-------------------------------------------------------\n",
        "\n",
        "submission = pd.DataFrame({'label':y_pred})\n",
        "submission.index.name = 'id'\n",
        "submission.to_csv('trail_9.csv')\n",
        "print(\"Finish This trial\")"
      ],
      "metadata": {
        "colab": {
          "base_uri": "https://localhost:8080/"
        },
        "id": "bfajPmT3nqZE",
        "outputId": "8e84d36d-9ecf-48a6-9902-873a2a0aedb8"
      },
      "execution_count": 108,
      "outputs": [
        {
          "output_type": "stream",
          "name": "stdout",
          "text": [
            "Epoch 1/10\n",
            "1330/1330 [==============================] - 45s 31ms/step - loss: 0.1998 - auc: 0.6107 - val_loss: 0.1718 - val_auc: 0.7280\n",
            "Epoch 2/10\n",
            "1330/1330 [==============================] - 41s 31ms/step - loss: 0.1854 - auc: 0.6657 - val_loss: 0.1735 - val_auc: 0.7047\n",
            "Epoch 3/10\n",
            "1330/1330 [==============================] - 40s 30ms/step - loss: 0.1812 - auc: 0.6967 - val_loss: 0.1700 - val_auc: 0.7111\n",
            "Epoch 4/10\n",
            "1330/1330 [==============================] - 42s 31ms/step - loss: 0.1784 - auc: 0.7111 - val_loss: 0.1772 - val_auc: 0.6873\n",
            "Epoch 5/10\n",
            "1330/1330 [==============================] - 39s 29ms/step - loss: 0.1768 - auc: 0.7166 - val_loss: 0.1617 - val_auc: 0.7429\n",
            "Epoch 6/10\n",
            "1330/1330 [==============================] - 43s 33ms/step - loss: 0.1751 - auc: 0.7275 - val_loss: 0.1727 - val_auc: 0.7279\n",
            "Epoch 7/10\n",
            "1330/1330 [==============================] - 43s 33ms/step - loss: 0.1749 - auc: 0.7361 - val_loss: 0.1624 - val_auc: 0.7528\n",
            "Epoch 8/10\n",
            "1330/1330 [==============================] - 42s 32ms/step - loss: 0.1722 - auc: 0.7489 - val_loss: 0.1708 - val_auc: 0.7538\n",
            "Epoch 9/10\n",
            "1330/1330 [==============================] - 40s 30ms/step - loss: 0.1712 - auc: 0.7537 - val_loss: 0.1640 - val_auc: 0.7538\n",
            "Epoch 10/10\n",
            "1330/1330 [==============================] - 44s 33ms/step - loss: 0.1703 - auc: 0.7614 - val_loss: 0.1545 - val_auc: 0.7974\n",
            "771/771 [==============================] - 8s 10ms/step\n",
            "Finish This trial\n"
          ]
        }
      ]
    },
    {
      "cell_type": "markdown",
      "source": [
        "# Trial 10\n",
        "\n",
        " use \"message_calculation_class\" ='GNN_FiLM' but different hyperparameaters With Balanced Data."
      ],
      "metadata": {
        "id": "Sf6xOUnkoV3a"
      }
    },
    {
      "cell_type": "code",
      "source": [
        "data = keras.Input(batch_shape=(None,))\n",
        "#embedding layer over data with each token embedded as  size vector\n",
        "embeded = Embedding(tokenizer.num_words, 100)(data)\n",
        "# the first dim is different to the previous one. it is the total number of edges in this batch\n",
        "#Input layer for edge data\n",
        "edge = keras.Input(batch_shape=(None, 2), dtype=tf.int32)\n",
        "#Input layer for node2graph ids\n",
        "node2graph = keras.Input(batch_shape=(None,), dtype=tf.int32)\n",
        "# number of graphs (number of samples)\n",
        "num_graph = tf.reduce_max(node2graph)+1\n",
        "\n",
        "#gnn_input layer with inputs as defined above\n",
        "gnn_input = GNNInput(\n",
        "    node_features=embeded,\n",
        "    adjacency_lists=(edge,),\n",
        "    node_to_graph_map=node2graph,\n",
        "    num_graphs=num_graph,\n",
        ")\n",
        "#defining hyperparameters for GNN layer\n",
        "params = GNN.get_default_hyperparameters()\n",
        "#defining hidden dimension of the gnn layer(the output of all message passing layers)\n",
        "params[\"hidden_dim\"] = 40\n",
        "params[\"film_parameter_MLP_hidden_layers\"] = 1\n",
        "params[\"message_calculation_class\"] ='GNN_FiLM'\n",
        "\n",
        "#gnn layer with defined hyperparameters\n",
        "gnn_layer = GNN(params)\n",
        "\n",
        "#gnn output layer\n",
        "gnn_out = gnn_layer(gnn_input)\n",
        "print('gnn_out', gnn_out)\n",
        "\n",
        "#calculating segmented mean based on segment_ids\n",
        "avg = segment_mean(\n",
        "    data=gnn_out,\n",
        "    segment_ids=node2graph\n",
        "    )\n",
        "print('mean:', avg)\n",
        "\n",
        "#final dense layer with sigmoid activation function\n",
        "pred = Dense(1, activation='sigmoid')(avg)\n",
        "print('pred:', pred)\n",
        "\n",
        "#building model\n",
        "# input : dictionary of data,edges and node2graph\n",
        "# output: prediction value from dense layer\n",
        "\n",
        "model = Model(\n",
        "    inputs={\n",
        "        'data': data,\n",
        "        'edges': edge,\n",
        "        'node2grah': node2graph,\n",
        "    },\n",
        "    outputs=pred\n",
        ")\n",
        "\n",
        "#display model summary\n",
        "model.summary()"
      ],
      "metadata": {
        "colab": {
          "base_uri": "https://localhost:8080/"
        },
        "id": "bPgE-ohHofwA",
        "outputId": "33abc5e6-0201-457a-84c4-84ec867f1a55"
      },
      "execution_count": 109,
      "outputs": [
        {
          "output_type": "stream",
          "name": "stdout",
          "text": [
            "gnn_out KerasTensor(type_spec=TensorSpec(shape=(None, 40), dtype=tf.float32, name=None), name='gnn_11/StatefulPartitionedCall:0', description=\"created by layer 'gnn_11'\")\n",
            "mean: KerasTensor(type_spec=TensorSpec(shape=(None, 40), dtype=tf.float32, name=None), name='tf.math.segment_mean_9/SegmentMean:0', description=\"created by layer 'tf.math.segment_mean_9'\")\n",
            "pred: KerasTensor(type_spec=TensorSpec(shape=(None, 1), dtype=tf.float32, name=None), name='dense_18/Sigmoid:0', description=\"created by layer 'dense_18'\")\n",
            "Model: \"model_11\"\n",
            "__________________________________________________________________________________________________\n",
            " Layer (type)                Output Shape                 Param #   Connected to                  \n",
            "==================================================================================================\n",
            " input_30 (InputLayer)       [(None,)]                    0         []                            \n",
            "                                                                                                  \n",
            " input_28 (InputLayer)       [(None,)]                    0         []                            \n",
            "                                                                                                  \n",
            " tf.math.reduce_max_11 (TFO  ()                           0         ['input_30[0][0]']            \n",
            " pLambda)                                                                                         \n",
            "                                                                                                  \n",
            " embedding_11 (Embedding)    (None, 100)                  50000     ['input_28[0][0]']            \n",
            "                                                                                                  \n",
            " input_29 (InputLayer)       [(None, 2)]                  0         []                            \n",
            "                                                                                                  \n",
            " tf.__operators__.add_11 (T  ()                           0         ['tf.math.reduce_max_11[0][0]'\n",
            " FOpLambda)                                                         ]                             \n",
            "                                                                                                  \n",
            " gnn_11 (GNN)                (None, 40)                   73840     ['embedding_11[0][0]',        \n",
            "                                                                     'input_29[0][0]',            \n",
            "                                                                     'input_30[0][0]',            \n",
            "                                                                     'tf.__operators__.add_11[0][0\n",
            "                                                                    ]']                           \n",
            "                                                                                                  \n",
            " tf.math.segment_mean_9 (TF  (None, 40)                   0         ['gnn_11[0][0]',              \n",
            " OpLambda)                                                           'input_30[0][0]']            \n",
            "                                                                                                  \n",
            " dense_18 (Dense)            (None, 1)                    41        ['tf.math.segment_mean_9[0][0]\n",
            "                                                                    ']                            \n",
            "                                                                                                  \n",
            "==================================================================================================\n",
            "Total params: 123881 (483.91 KB)\n",
            "Trainable params: 123881 (483.91 KB)\n",
            "Non-trainable params: 0 (0.00 Byte)\n",
            "__________________________________________________________________________________________________\n"
          ]
        }
      ]
    },
    {
      "cell_type": "code",
      "source": [
        "model.compile(\n",
        "    optimizer=tf.keras.optimizers.Adam(),\n",
        "    loss='BinaryCrossentropy',\n",
        "    metrics=['AUC']\n",
        ")"
      ],
      "metadata": {
        "id": "MvjsKwuQoonq"
      },
      "execution_count": 110,
      "outputs": []
    },
    {
      "cell_type": "code",
      "source": [
        "batch_size = 16\n",
        "\n",
        "num_batchs = math.ceil(len(training_set) / batch_size)\n",
        "num_batchs_validation = math.ceil(len(validation_set) / batch_size)\n",
        "\n",
        "\n",
        "history10 =model.fit(\n",
        "    gen_batch(\n",
        "        training_set, batch_size=batch_size, repeat=True\n",
        "    ),\n",
        "    steps_per_epoch=num_batchs,\n",
        "    epochs=10,\n",
        "    validation_data=gen_batch(\n",
        "        validation_set, batch_size=batch_size, repeat=True\n",
        "    ),\n",
        "    validation_steps=num_batchs_validation,\n",
        ")\n",
        "\n",
        "#---------------------------------------------------\n",
        "\n",
        "y_pred = model.predict(\n",
        "    gen_batch(testing_set, batch_size=batch_size, shuffle=False)\n",
        ")\n",
        "y_pred = np.reshape(y_pred, -1)\n",
        "\n",
        "#-------------------------------------------------------\n",
        "\n",
        "submission = pd.DataFrame({'label':y_pred})\n",
        "submission.index.name = 'id'\n",
        "submission.to_csv('trail_10.csv')\n",
        "print(\"Finish This trial\")"
      ],
      "metadata": {
        "colab": {
          "base_uri": "https://localhost:8080/"
        },
        "id": "0n8UjgdSotA_",
        "outputId": "72d2d7ad-0ad1-4ab2-fb61-1ee8d8a61202"
      },
      "execution_count": 111,
      "outputs": [
        {
          "output_type": "stream",
          "name": "stdout",
          "text": [
            "Epoch 1/10\n",
            "1330/1330 [==============================] - 45s 30ms/step - loss: 0.2210 - auc: 0.5204 - val_loss: 0.1937 - val_auc: 0.6728\n",
            "Epoch 2/10\n",
            "1330/1330 [==============================] - 41s 31ms/step - loss: 0.1875 - auc: 0.6636 - val_loss: 0.1725 - val_auc: 0.7279\n",
            "Epoch 3/10\n",
            "1330/1330 [==============================] - 40s 30ms/step - loss: 0.1797 - auc: 0.7179 - val_loss: 0.1756 - val_auc: 0.7407\n",
            "Epoch 4/10\n",
            "1330/1330 [==============================] - 40s 30ms/step - loss: 0.1750 - auc: 0.7375 - val_loss: 0.1824 - val_auc: 0.7438\n",
            "Epoch 5/10\n",
            "1330/1330 [==============================] - 42s 31ms/step - loss: 0.1736 - auc: 0.7485 - val_loss: 0.1679 - val_auc: 0.7606\n",
            "Epoch 6/10\n",
            "1330/1330 [==============================] - 43s 32ms/step - loss: 0.1730 - auc: 0.7503 - val_loss: 0.1666 - val_auc: 0.7453\n",
            "Epoch 7/10\n",
            "1330/1330 [==============================] - 45s 34ms/step - loss: 0.1687 - auc: 0.7700 - val_loss: 0.1636 - val_auc: 0.7848\n",
            "Epoch 8/10\n",
            "1330/1330 [==============================] - 42s 32ms/step - loss: 0.1676 - auc: 0.7785 - val_loss: 0.1753 - val_auc: 0.7777\n",
            "Epoch 9/10\n",
            "1330/1330 [==============================] - 41s 31ms/step - loss: 0.1659 - auc: 0.7848 - val_loss: 0.1715 - val_auc: 0.7568\n",
            "Epoch 10/10\n",
            "1330/1330 [==============================] - 51s 38ms/step - loss: 0.1646 - auc: 0.7905 - val_loss: 0.1661 - val_auc: 0.7921\n",
            "771/771 [==============================] - 9s 12ms/step\n",
            "Finish This trial\n"
          ]
        }
      ]
    },
    {
      "cell_type": "markdown",
      "source": [
        "The best results is trial 10"
      ],
      "metadata": {
        "id": "xXjN4mxdQzY_"
      }
    }
  ]
}